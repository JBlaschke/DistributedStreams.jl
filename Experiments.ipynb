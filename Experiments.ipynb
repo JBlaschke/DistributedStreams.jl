{
 "cells": [
  {
   "cell_type": "code",
   "execution_count": 15,
   "id": "f7b7d011-c32d-4d3f-9863-4fe0dbbb8136",
   "metadata": {},
   "outputs": [
    {
     "data": {
      "text/plain": [
       "A (generic function with 1 method)"
      ]
     },
     "execution_count": 15,
     "metadata": {},
     "output_type": "execute_result"
    }
   ],
   "source": [
    "function A(x::Int64, y::String)\n",
    "    return (x, y)\n",
    "end"
   ]
  },
  {
   "cell_type": "code",
   "execution_count": 16,
   "id": "c53f745d-1d1d-44aa-afef-053ce19f72f1",
   "metadata": {},
   "outputs": [
    {
     "data": {
      "text/plain": [
       "Tuple{Int64, String}"
      ]
     },
     "execution_count": 16,
     "metadata": {},
     "output_type": "execute_result"
    }
   ],
   "source": [
    "Base.return_types(A, (Int64, String))[1]"
   ]
  },
  {
   "cell_type": "code",
   "execution_count": 13,
   "id": "93add3d4-cc47-4a69-b012-d03b36065412",
   "metadata": {},
   "outputs": [
    {
     "data": {
      "text/plain": [
       "1"
      ]
     },
     "execution_count": 13,
     "metadata": {},
     "output_type": "execute_result"
    }
   ],
   "source": [
    "A((1,\"hi\")...)"
   ]
  },
  {
   "cell_type": "code",
   "execution_count": 18,
   "id": "454a077d-af9b-4811-9906-2f92c389aba7",
   "metadata": {},
   "outputs": [
    {
     "data": {
      "text/plain": [
       "Channel{Tuple{Int64, String}}(32) (empty)"
      ]
     },
     "execution_count": 18,
     "metadata": {},
     "output_type": "execute_result"
    }
   ],
   "source": [
    "Channel{Base.return_types(A, (Int64, String))[1]}(32)"
   ]
  },
  {
   "cell_type": "code",
   "execution_count": 1,
   "id": "93b110b4-f7dd-433d-8057-49564f23791a",
   "metadata": {},
   "outputs": [
    {
     "name": "stderr",
     "output_type": "stream",
     "text": [
      "\u001b[32m\u001b[1m  Activating\u001b[22m\u001b[39m project at `~/Developer/DistributedStreams`\n"
     ]
    }
   ],
   "source": [
    "import Pkg\n",
    "Pkg.activate(\".\")"
   ]
  },
  {
   "cell_type": "code",
   "execution_count": 2,
   "id": "c2b856a0-fc63-42c7-a191-c9f48b4aa3e2",
   "metadata": {},
   "outputs": [],
   "source": [
    "using Distributed"
   ]
  },
  {
   "cell_type": "code",
   "execution_count": 3,
   "id": "ec718ca7-a47a-4ea7-8d32-48fee8e1bcc2",
   "metadata": {},
   "outputs": [
    {
     "data": {
      "text/plain": [
       "2-element Vector{Int64}:\n",
       " 2\n",
       " 3"
      ]
     },
     "execution_count": 3,
     "metadata": {},
     "output_type": "execute_result"
    }
   ],
   "source": [
    "addprocs(2)"
   ]
  },
  {
   "cell_type": "code",
   "execution_count": 4,
   "id": "23c3773a-a997-4cf2-8a6b-a1c38abb4370",
   "metadata": {},
   "outputs": [],
   "source": [
    "@everywhere using Distributed\n",
    "\n",
    "@everywhere function remote_worker(fn, entries, results)\n",
    "    while true\n",
    "        # take data from remote channel asynchronously\n",
    "        t = @async take!(entries)\n",
    "        # process data and return result in output channel -- and sync loop\n",
    "        @sync put!(results, fn(fetch(t)))\n",
    "    end\n",
    "end"
   ]
  },
  {
   "cell_type": "code",
   "execution_count": 5,
   "id": "10c49016-b19f-46c6-bf49-19a6f25f2c9f",
   "metadata": {},
   "outputs": [
    {
     "data": {
      "text/plain": [
       "RemoteChannel{Channel{Int64}}(1, 1, 13)"
      ]
     },
     "execution_count": 5,
     "metadata": {},
     "output_type": "execute_result"
    }
   ],
   "source": [
    "ch_in = RemoteChannel(()->Channel{Int64}(32), 1)\n",
    "ch_out = RemoteChannel(()->Channel{Int64}(32), 1)"
   ]
  },
  {
   "cell_type": "code",
   "execution_count": 6,
   "id": "d020fd8e-370d-4ef5-8c76-f086dc545bb7",
   "metadata": {},
   "outputs": [
    {
     "data": {
      "text/plain": [
       "Task (runnable) @0x00007ca37a0312d0"
      ]
     },
     "execution_count": 6,
     "metadata": {},
     "output_type": "execute_result"
    }
   ],
   "source": [
    "@async while true\n",
    "    t = take!(ch_out)\n",
    "    println(\"Taken: $(t)\")\n",
    "end"
   ]
  },
  {
   "cell_type": "code",
   "execution_count": 7,
   "id": "870c48a2-3775-4768-9ab6-6cd10537afa0",
   "metadata": {},
   "outputs": [],
   "source": [
    "@everywhere function test_fn(i)\n",
    "    println(\"hi there, I'm running on pid=$(myid())\")\n",
    "    return i+1\n",
    "end"
   ]
  },
  {
   "cell_type": "code",
   "execution_count": 8,
   "id": "634067c7-02ba-4679-ab1f-e35c0ef2790d",
   "metadata": {},
   "outputs": [
    {
     "data": {
      "text/plain": [
       "Task (runnable) @0x00007ca37ad54c90"
      ]
     },
     "execution_count": 8,
     "metadata": {},
     "output_type": "execute_result"
    }
   ],
   "source": [
    "status_2 = remotecall(remote_worker, 2,\n",
    "    test_fn, ch_in, ch_out\n",
    ")\n",
    "\n",
    "status_3 = remotecall(remote_worker, 3,\n",
    "    test_fn, ch_in, ch_out\n",
    ")\n",
    "\n",
    "status_2_t = @async fetch(status_2)\n",
    "status_3_t = @async fetch(status_3)"
   ]
  },
  {
   "cell_type": "code",
   "execution_count": 9,
   "id": "b30f5032-31dc-4003-b49a-d4875c64d92c",
   "metadata": {},
   "outputs": [
    {
     "data": {
      "text/plain": [
       "RemoteChannel{Channel{Int64}}(1, 1, 12)"
      ]
     },
     "execution_count": 9,
     "metadata": {},
     "output_type": "execute_result"
    }
   ],
   "source": [
    "put!(ch_in, 1)"
   ]
  },
  {
   "cell_type": "code",
   "execution_count": 10,
   "id": "70aff938-e9a3-42bf-bfee-5722a4742476",
   "metadata": {},
   "outputs": [
    {
     "data": {
      "text/plain": [
       "RemoteChannel{Channel{Int64}}(1, 1, 12)"
      ]
     },
     "execution_count": 10,
     "metadata": {},
     "output_type": "execute_result"
    },
    {
     "name": "stdout",
     "output_type": "stream",
     "text": [
      "      From worker 3:\thi there, I'm running on pid=3\n",
      "      From worker 2:\thi there, I'm running on pid=2\n",
      "Taken: 2\n",
      "Taken: 3\n"
     ]
    }
   ],
   "source": [
    "put!(ch_in, 2)"
   ]
  },
  {
   "cell_type": "code",
   "execution_count": 11,
   "id": "81ac9a73-5dcb-49f2-853a-85c10a4af499",
   "metadata": {},
   "outputs": [
    {
     "data": {
      "text/plain": [
       "Task (done) @0x00007ca378b33d00"
      ]
     },
     "execution_count": 11,
     "metadata": {},
     "output_type": "execute_result"
    }
   ],
   "source": [
    "rmprocs(3)"
   ]
  },
  {
   "cell_type": "code",
   "execution_count": 12,
   "id": "073c300a-cc0e-4f37-8155-b9b0510623fd",
   "metadata": {},
   "outputs": [
    {
     "data": {
      "text/plain": [
       "RemoteChannel{Channel{Int64}}(1, 1, 12)"
      ]
     },
     "execution_count": 12,
     "metadata": {},
     "output_type": "execute_result"
    },
    {
     "name": "stdout",
     "output_type": "stream",
     "text": [
      "      From worker 2:\thi there, I'm running on pid=2\n",
      "Taken: 4\n"
     ]
    }
   ],
   "source": [
    "put!(ch_in, 3)"
   ]
  },
  {
   "cell_type": "code",
   "execution_count": 13,
   "id": "022e9d46-e909-42a5-81e8-d54a6b6c154c",
   "metadata": {},
   "outputs": [
    {
     "name": "stderr",
     "output_type": "stream",
     "text": [
      "\u001b[91m\u001b[1m┌ \u001b[22m\u001b[39m\u001b[91m\u001b[1mError: \u001b[22m\u001b[39mFatal error on process 1\n",
      "\u001b[91m\u001b[1m│ \u001b[22m\u001b[39m  exception =\n",
      "\u001b[91m\u001b[1m│ \u001b[22m\u001b[39m   attempt to send to unknown socket\n",
      "\u001b[91m\u001b[1m│ \u001b[22m\u001b[39m   Stacktrace:\n",
      "\u001b[91m\u001b[1m│ \u001b[22m\u001b[39m    [1] \u001b[0m\u001b[1merror\u001b[22m\u001b[0m\u001b[1m(\u001b[22m\u001b[90ms\u001b[39m::\u001b[0mString\u001b[0m\u001b[1m)\u001b[22m\n",
      "\u001b[91m\u001b[1m│ \u001b[22m\u001b[39m   \u001b[90m   @\u001b[39m \u001b[90mBase\u001b[39m \u001b[90m./\u001b[39m\u001b[90m\u001b[4merror.jl:35\u001b[24m\u001b[39m\n",
      "\u001b[91m\u001b[1m│ \u001b[22m\u001b[39m    [2] \u001b[0m\u001b[1msend_msg_unknown\u001b[22m\u001b[0m\u001b[1m(\u001b[22m\u001b[90ms\u001b[39m::\u001b[0mSockets.TCPSocket, \u001b[90mheader\u001b[39m::\u001b[0mDistributed.MsgHeader, \u001b[90mmsg\u001b[39m::\u001b[0mDistributed.ResultMsg\u001b[0m\u001b[1m)\u001b[22m\n",
      "\u001b[91m\u001b[1m│ \u001b[22m\u001b[39m   \u001b[90m   @\u001b[39m \u001b[35mDistributed\u001b[39m \u001b[90m~/local/juliaup/juliaup/julia-1.10.2+0.x64.linux.gnu/share/julia/stdlib/v1.10/Distributed/src/\u001b[39m\u001b[90m\u001b[4mmessages.jl:99\u001b[24m\u001b[39m\n",
      "\u001b[91m\u001b[1m│ \u001b[22m\u001b[39m    [3] \u001b[0m\u001b[1msend_msg_now\u001b[22m\u001b[0m\u001b[1m(\u001b[22m\u001b[90ms\u001b[39m::\u001b[0mSockets.TCPSocket, \u001b[90mheader\u001b[39m::\u001b[0mDistributed.MsgHeader, \u001b[90mmsg\u001b[39m::\u001b[0mDistributed.ResultMsg\u001b[0m\u001b[1m)\u001b[22m\n",
      "\u001b[91m\u001b[1m│ \u001b[22m\u001b[39m   \u001b[90m   @\u001b[39m \u001b[35mDistributed\u001b[39m \u001b[90m~/local/juliaup/juliaup/julia-1.10.2+0.x64.linux.gnu/share/julia/stdlib/v1.10/Distributed/src/\u001b[39m\u001b[90m\u001b[4mmessages.jl:115\u001b[24m\u001b[39m\n",
      "\u001b[91m\u001b[1m│ \u001b[22m\u001b[39m    [4] \u001b[0m\u001b[1mdeliver_result\u001b[22m\u001b[0m\u001b[1m(\u001b[22m\u001b[90msock\u001b[39m::\u001b[0mSockets.TCPSocket, \u001b[90mmsg\u001b[39m::\u001b[0mSymbol, \u001b[90moid\u001b[39m::\u001b[0mDistributed.RRID, \u001b[90mvalue\u001b[39m::\u001b[0mInt64\u001b[0m\u001b[1m)\u001b[22m\n",
      "\u001b[91m\u001b[1m│ \u001b[22m\u001b[39m   \u001b[90m   @\u001b[39m \u001b[35mDistributed\u001b[39m \u001b[90m~/local/juliaup/juliaup/julia-1.10.2+0.x64.linux.gnu/share/julia/stdlib/v1.10/Distributed/src/\u001b[39m\u001b[90m\u001b[4mprocess_messages.jl:102\u001b[24m\u001b[39m\n",
      "\u001b[91m\u001b[1m│ \u001b[22m\u001b[39m    [5] \u001b[0m\u001b[1m(::Distributed.var\"#109#111\"{Distributed.CallMsg{:call_fetch}, Distributed.MsgHeader, Sockets.TCPSocket})\u001b[22m\u001b[0m\u001b[1m(\u001b[22m\u001b[0m\u001b[1m)\u001b[22m\n",
      "\u001b[91m\u001b[1m│ \u001b[22m\u001b[39m   \u001b[90m   @\u001b[39m \u001b[35mDistributed\u001b[39m \u001b[90m~/local/juliaup/juliaup/julia-1.10.2+0.x64.linux.gnu/share/julia/stdlib/v1.10/Distributed/src/\u001b[39m\u001b[90m\u001b[4mprocess_messages.jl:295\u001b[24m\u001b[39m\n",
      "\u001b[91m\u001b[1m└ \u001b[22m\u001b[39m\u001b[90m@ Distributed ~/local/juliaup/juliaup/julia-1.10.2+0.x64.linux.gnu/share/julia/stdlib/v1.10/Distributed/src/process_messages.jl:106\u001b[39m\n"
     ]
    },
    {
     "data": {
      "text/plain": [
       "RemoteChannel{Channel{Int64}}(1, 1, 12)"
      ]
     },
     "execution_count": 13,
     "metadata": {},
     "output_type": "execute_result"
    }
   ],
   "source": [
    "put!(ch_in, 4)"
   ]
  },
  {
   "cell_type": "code",
   "execution_count": 14,
   "id": "8848f0fa-b586-4fb0-bb2d-65649b160020",
   "metadata": {},
   "outputs": [
    {
     "data": {
      "text/plain": [
       "RemoteChannel{Channel{Int64}}(1, 1, 12)"
      ]
     },
     "execution_count": 14,
     "metadata": {},
     "output_type": "execute_result"
    },
    {
     "name": "stdout",
     "output_type": "stream",
     "text": [
      "      From worker 2:\thi there, I'm running on pid=2\n",
      "Taken: 6\n"
     ]
    }
   ],
   "source": [
    "put!(ch_in, 5)"
   ]
  },
  {
   "cell_type": "code",
   "execution_count": 15,
   "id": "f6371eb7-1b35-4514-9bdc-472496fe2069",
   "metadata": {},
   "outputs": [
    {
     "data": {
      "text/plain": [
       "RemoteChannel{Channel{Int64}}(1, 1, 12)"
      ]
     },
     "execution_count": 15,
     "metadata": {},
     "output_type": "execute_result"
    },
    {
     "name": "stdout",
     "output_type": "stream",
     "text": [
      "      From worker 2:\thi there, I'm running on pid=2\n",
      "Taken: 7\n"
     ]
    }
   ],
   "source": [
    "put!(ch_in, 6)"
   ]
  },
  {
   "cell_type": "code",
   "execution_count": 16,
   "id": "f13c472c-31c6-49da-b471-4e785ee7d156",
   "metadata": {},
   "outputs": [
    {
     "data": {
      "text/plain": [
       "RemoteChannel{Channel{Int64}}(1, 1, 12)"
      ]
     },
     "execution_count": 16,
     "metadata": {},
     "output_type": "execute_result"
    },
    {
     "name": "stdout",
     "output_type": "stream",
     "text": [
      "      From worker 2:\thi there, I'm running on pid=2\n",
      "Taken: 8\n"
     ]
    }
   ],
   "source": [
    "put!(ch_in, 7)"
   ]
  },
  {
   "cell_type": "code",
   "execution_count": null,
   "id": "d6a5b85f-02b9-4999-804c-db26d2bc7ca5",
   "metadata": {},
   "outputs": [],
   "source": []
  }
 ],
 "metadata": {
  "kernelspec": {
   "display_name": "Juliaup 1.10.2",
   "language": "julia",
   "name": "juliaup-1.10"
  },
  "language_info": {
   "file_extension": ".jl",
   "mimetype": "application/julia",
   "name": "julia",
   "version": "1.10.2"
  }
 },
 "nbformat": 4,
 "nbformat_minor": 5
}
