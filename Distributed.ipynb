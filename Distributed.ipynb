{
 "cells": [
  {
   "cell_type": "code",
   "execution_count": 1,
   "id": "7cd6ba1f-0953-435b-a725-c1478fda8252",
   "metadata": {
    "tags": []
   },
   "outputs": [],
   "source": [
    "using Distributed"
   ]
  },
  {
   "cell_type": "code",
   "execution_count": 2,
   "id": "6be113d5-117e-4a78-a17b-ae81072be7f3",
   "metadata": {
    "tags": []
   },
   "outputs": [
    {
     "data": {
      "text/plain": [
       "4-element Vector{Int64}:\n",
       " 2\n",
       " 3\n",
       " 4\n",
       " 5"
      ]
     },
     "execution_count": 2,
     "metadata": {},
     "output_type": "execute_result"
    }
   ],
   "source": [
    "addprocs(4)"
   ]
  },
  {
   "cell_type": "code",
   "execution_count": 3,
   "id": "f123aa8a-05e4-42af-b2ef-b5f742a67390",
   "metadata": {
    "tags": []
   },
   "outputs": [
    {
     "data": {
      "text/plain": [
       "4-element Vector{Int64}:\n",
       " 2\n",
       " 3\n",
       " 4\n",
       " 5"
      ]
     },
     "execution_count": 3,
     "metadata": {},
     "output_type": "execute_result"
    }
   ],
   "source": [
    "x = workers()"
   ]
  },
  {
   "cell_type": "code",
   "execution_count": 11,
   "id": "cf10ae6c-ce15-4996-935c-043f94a4432a",
   "metadata": {
    "tags": []
   },
   "outputs": [],
   "source": [
    "@everywhere using DistributedArrays"
   ]
  },
  {
   "cell_type": "code",
   "execution_count": 12,
   "id": "b735da36-1b29-404d-8c58-64f534244ed3",
   "metadata": {
    "tags": []
   },
   "outputs": [
    {
     "data": {
      "text/plain": [
       "4-element DArray{@NamedTuple{woker::Int64, flag::Base.RefValue{Bool}}, 1, Vector{@NamedTuple{woker::Int64, flag::Base.RefValue{Bool}}}}:\n",
       " (woker = 2, flag = Base.RefValue{Bool}(false))\n",
       " (woker = 3, flag = Base.RefValue{Bool}(false))\n",
       " (woker = 4, flag = Base.RefValue{Bool}(false))\n",
       " (woker = 5, flag = Base.RefValue{Bool}(false))"
      ]
     },
     "execution_count": 12,
     "metadata": {},
     "output_type": "execute_result"
    }
   ],
   "source": [
    "D = DArray([@spawnat p [(woker = p, flag = Ref(false))] for p in workers()])"
   ]
  },
  {
   "cell_type": "code",
   "execution_count": 13,
   "id": "386ef87d-705d-4172-88d3-7929c02a2fab",
   "metadata": {
    "tags": []
   },
   "outputs": [
    {
     "data": {
      "text/plain": [
       "4-element Vector{Tuple{UnitRange{Int64}}}:\n",
       " (1:1,)\n",
       " (2:2,)\n",
       " (3:3,)\n",
       " (4:4,)"
      ]
     },
     "execution_count": 13,
     "metadata": {},
     "output_type": "execute_result"
    }
   ],
   "source": [
    "[@fetchfrom p localindices(D) for p in workers()]"
   ]
  },
  {
   "cell_type": "code",
   "execution_count": 14,
   "id": "cf090cee-b0ba-4139-a1b0-7bd8f6b8f4b2",
   "metadata": {
    "tags": []
   },
   "outputs": [
    {
     "data": {
      "text/plain": [
       "4-element Vector{Vector{@NamedTuple{woker::Int64, flag::Base.RefValue{Bool}}}}:\n",
       " [(woker = 2, flag = Base.RefValue{Bool}(false))]\n",
       " [(woker = 3, flag = Base.RefValue{Bool}(false))]\n",
       " [(woker = 4, flag = Base.RefValue{Bool}(false))]\n",
       " [(woker = 5, flag = Base.RefValue{Bool}(false))]"
      ]
     },
     "execution_count": 14,
     "metadata": {},
     "output_type": "execute_result"
    }
   ],
   "source": [
    "[@fetchfrom p localpart(D) for p in workers()]"
   ]
  },
  {
   "cell_type": "code",
   "execution_count": 15,
   "id": "8fb40748-e803-4fd5-9e78-ed61583edf4b",
   "metadata": {
    "tags": []
   },
   "outputs": [],
   "source": [
    "for p in workers()\n",
    "    @fetchfrom p only(localpart(D)).flag[]=true\n",
    "end"
   ]
  },
  {
   "cell_type": "code",
   "execution_count": 16,
   "id": "34a15c07-547d-485a-a102-c681b9e1c505",
   "metadata": {
    "tags": []
   },
   "outputs": [
    {
     "data": {
      "text/plain": [
       "4-element DArray{@NamedTuple{woker::Int64, flag::Base.RefValue{Bool}}, 1, Vector{@NamedTuple{woker::Int64, flag::Base.RefValue{Bool}}}}:\n",
       " (woker = 2, flag = Base.RefValue{Bool}(true))\n",
       " (woker = 3, flag = Base.RefValue{Bool}(true))\n",
       " (woker = 4, flag = Base.RefValue{Bool}(true))\n",
       " (woker = 5, flag = Base.RefValue{Bool}(true))"
      ]
     },
     "execution_count": 16,
     "metadata": {},
     "output_type": "execute_result"
    }
   ],
   "source": [
    "D"
   ]
  },
  {
   "cell_type": "code",
   "execution_count": 17,
   "id": "5758d286-8578-489e-818b-dc82cb6f46fa",
   "metadata": {
    "tags": []
   },
   "outputs": [
    {
     "data": {
      "text/plain": [
       "true"
      ]
     },
     "execution_count": 17,
     "metadata": {},
     "output_type": "execute_result"
    }
   ],
   "source": [
    "D[2].flag[]"
   ]
  },
  {
   "cell_type": "code",
   "execution_count": 27,
   "id": "c64989d8-85a3-4eb4-a925-d2a9a491b359",
   "metadata": {
    "tags": []
   },
   "outputs": [
    {
     "data": {
      "text/plain": [
       "Task (runnable) @0x00000001120b1f90"
      ]
     },
     "execution_count": 27,
     "metadata": {},
     "output_type": "execute_result"
    }
   ],
   "source": [
    "t = @async begin\n",
    "    sleep(10)\n",
    "    1\n",
    "end"
   ]
  },
  {
   "cell_type": "code",
   "execution_count": 28,
   "id": "8f8c1b51-dd9e-4af7-badc-8ebd517b3db3",
   "metadata": {
    "tags": []
   },
   "outputs": [
    {
     "data": {
      "text/plain": [
       "Task (runnable) @0x00000001120b1f90"
      ]
     },
     "execution_count": 28,
     "metadata": {},
     "output_type": "execute_result"
    }
   ],
   "source": [
    "t"
   ]
  },
  {
   "cell_type": "code",
   "execution_count": 29,
   "id": "63b8e289-ef21-478e-96b7-83a5748124b9",
   "metadata": {
    "tags": []
   },
   "outputs": [
    {
     "data": {
      "text/plain": [
       "false"
      ]
     },
     "execution_count": 29,
     "metadata": {},
     "output_type": "execute_result"
    }
   ],
   "source": [
    "istaskdone(t)"
   ]
  },
  {
   "cell_type": "code",
   "execution_count": 30,
   "id": "dd4954a0-c5c7-4709-be85-5bd199dbf9a1",
   "metadata": {
    "tags": []
   },
   "outputs": [
    {
     "name": "stdout",
     "output_type": "stream",
     "text": [
      "Waiting\n",
      "Done waiting: 1\n"
     ]
    }
   ],
   "source": [
    "while true\n",
    "    println(\"Waiting\")\n",
    "    if timedwait(()->istaskdone(t), 100) == :ok\n",
    "        println(\"Done waiting: $(fetch(t))\")\n",
    "        break\n",
    "    end\n",
    "end"
   ]
  },
  {
   "cell_type": "code",
   "execution_count": 31,
   "id": "3fba5af7-7e29-49a8-8eb6-8baefc95670a",
   "metadata": {
    "tags": []
   },
   "outputs": [
    {
     "data": {
      "text/plain": [
       "1"
      ]
     },
     "execution_count": 31,
     "metadata": {},
     "output_type": "execute_result"
    }
   ],
   "source": [
    "fetch(t)"
   ]
  },
  {
   "cell_type": "code",
   "execution_count": 32,
   "id": "82a3dc72-da3f-48e0-9d37-d858910ad3e5",
   "metadata": {
    "tags": []
   },
   "outputs": [],
   "source": [
    "using Distributed"
   ]
  },
  {
   "cell_type": "code",
   "execution_count": 50,
   "id": "a64584d3-6b1c-4862-a347-202f8134ad39",
   "metadata": {
    "tags": []
   },
   "outputs": [],
   "source": [
    "@everywhere function test1()\n",
    "    @async while true\n",
    "        w=workers()\n",
    "        println(\"workers=$(w)\")\n",
    "        break\n",
    "    end\n",
    "end\n",
    "@everywhere test2() = println(\"myid=$(myid())\")\n",
    "@everywhere function test3()\n",
    "    println(\"myid=$(myid()), running test2\")\n",
    "    remote_do(test2, 2)\n",
    "end\n",
    "\n",
    "@everywhere function test4(channel)\n",
    "    println(\"taking from channel\")\n",
    "    x = take!(channel)\n",
    "    println(\"x=$(x)\")\n",
    "end"
   ]
  },
  {
   "cell_type": "code",
   "execution_count": 35,
   "id": "bd5d06c7-484b-40f9-91d2-fbc0bd3f3184",
   "metadata": {
    "tags": []
   },
   "outputs": [
    {
     "name": "stdout",
     "output_type": "stream",
     "text": [
      "workers=[2, 3, 4, 5, 6, 7, 8, 9]\n"
     ]
    }
   ],
   "source": [
    "test1()"
   ]
  },
  {
   "cell_type": "code",
   "execution_count": 36,
   "id": "1b074fc1-9adb-4eaf-a5cd-fe71f4c1e5e5",
   "metadata": {
    "tags": []
   },
   "outputs": [
    {
     "name": "stdout",
     "output_type": "stream",
     "text": [
      "myid=1\n"
     ]
    }
   ],
   "source": [
    "test2()"
   ]
  },
  {
   "cell_type": "code",
   "execution_count": 37,
   "id": "a6362a6d-a157-4820-a14d-e27f141eb578",
   "metadata": {
    "tags": []
   },
   "outputs": [
    {
     "name": "stdout",
     "output_type": "stream",
     "text": [
      "myid=1, running test2\n",
      "      From worker 2:\tmyid=2\n"
     ]
    }
   ],
   "source": [
    "test3()"
   ]
  },
  {
   "cell_type": "code",
   "execution_count": 55,
   "id": "e617af3e-a3be-4977-bdcd-033d9b19c075",
   "metadata": {
    "tags": []
   },
   "outputs": [
    {
     "name": "stdout",
     "output_type": "stream",
     "text": [
      "      From worker 2:\tworkers=[2, 3, 4, 5, 6, 8, 9, 10, 11]\n"
     ]
    }
   ],
   "source": [
    "remote_do(test1, 2)"
   ]
  },
  {
   "cell_type": "code",
   "execution_count": 39,
   "id": "de04f5e5-276a-4b26-8bbe-4aa8a13fb8de",
   "metadata": {
    "tags": []
   },
   "outputs": [
    {
     "name": "stdout",
     "output_type": "stream",
     "text": [
      "      From worker 3:\tmyid=3, running test2\n",
      "      From worker 2:\tmyid=2\n"
     ]
    }
   ],
   "source": [
    "remote_do(test3, 3)"
   ]
  },
  {
   "cell_type": "code",
   "execution_count": 40,
   "id": "c67954c0-eca3-4342-b6ba-126a0379ca99",
   "metadata": {
    "tags": []
   },
   "outputs": [
    {
     "data": {
      "text/plain": [
       "2-element Vector{Int64}:\n",
       " 10\n",
       " 11"
      ]
     },
     "execution_count": 40,
     "metadata": {},
     "output_type": "execute_result"
    }
   ],
   "source": [
    "addprocs(2)"
   ]
  },
  {
   "cell_type": "code",
   "execution_count": 11,
   "id": "94e128e3-7a31-485f-a6b2-6675d91ef59e",
   "metadata": {},
   "outputs": [
    {
     "name": "stdout",
     "output_type": "stream",
     "text": [
      "      From worker 3:\tworkers=[3, 2, 4, 5, 6, 7]\n"
     ]
    }
   ],
   "source": [
    "remote_do(test1, 3)"
   ]
  },
  {
   "cell_type": "code",
   "execution_count": 41,
   "id": "75ab5752-a2e4-4cb2-9596-89b2601b93da",
   "metadata": {
    "tags": []
   },
   "outputs": [
    {
     "data": {
      "text/plain": [
       "RemoteChannel{Channel{Int64}}(1, 1, 156)"
      ]
     },
     "execution_count": 41,
     "metadata": {},
     "output_type": "execute_result"
    }
   ],
   "source": [
    "ch = RemoteChannel(()->Channel{Int64}(32))"
   ]
  },
  {
   "cell_type": "code",
   "execution_count": 42,
   "id": "649c3559-5a49-4d8a-beda-c27454783c88",
   "metadata": {
    "tags": []
   },
   "outputs": [
    {
     "data": {
      "text/plain": [
       "RemoteChannel{Channel{Int64}}(1, 1, 156)"
      ]
     },
     "execution_count": 42,
     "metadata": {},
     "output_type": "execute_result"
    }
   ],
   "source": [
    "put!(ch, 1)"
   ]
  },
  {
   "cell_type": "code",
   "execution_count": 43,
   "id": "bacf0e7d-5526-40eb-9a61-ddfc90242bfc",
   "metadata": {
    "tags": []
   },
   "outputs": [
    {
     "data": {
      "text/plain": [
       "10-element Vector{Int64}:\n",
       "  2\n",
       "  3\n",
       "  4\n",
       "  5\n",
       "  6\n",
       "  7\n",
       "  8\n",
       "  9\n",
       " 10\n",
       " 11"
      ]
     },
     "execution_count": 43,
     "metadata": {},
     "output_type": "execute_result"
    }
   ],
   "source": [
    "workers()"
   ]
  },
  {
   "cell_type": "code",
   "execution_count": 44,
   "id": "3201d3fb-19e0-454e-b4fe-2294bac7f26c",
   "metadata": {
    "tags": []
   },
   "outputs": [
    {
     "name": "stdout",
     "output_type": "stream",
     "text": [
      "      From worker 6:\ttaking from channel\n",
      "      From worker 6:\tx=1\n"
     ]
    }
   ],
   "source": [
    "remote_do(test4, 6, ch)"
   ]
  },
  {
   "cell_type": "code",
   "execution_count": 45,
   "id": "e532dd61-828b-45de-91b1-a3ce16466d6b",
   "metadata": {
    "tags": []
   },
   "outputs": [
    {
     "data": {
      "text/plain": [
       "Task (done) @0x0000000113630be0"
      ]
     },
     "execution_count": 45,
     "metadata": {},
     "output_type": "execute_result"
    }
   ],
   "source": [
    "rmprocs(7)"
   ]
  },
  {
   "cell_type": "code",
   "execution_count": 46,
   "id": "703834e9-5b6d-4d0e-8884-fffaa87ac051",
   "metadata": {
    "tags": []
   },
   "outputs": [
    {
     "data": {
      "text/plain": [
       "9-element Vector{Int64}:\n",
       "  2\n",
       "  3\n",
       "  4\n",
       "  5\n",
       "  6\n",
       "  8\n",
       "  9\n",
       " 10\n",
       " 11"
      ]
     },
     "execution_count": 46,
     "metadata": {},
     "output_type": "execute_result"
    }
   ],
   "source": [
    "workers()"
   ]
  },
  {
   "cell_type": "code",
   "execution_count": 48,
   "id": "488c3d93-3dde-4dfe-8c73-1b80ce6d1e78",
   "metadata": {
    "tags": []
   },
   "outputs": [
    {
     "name": "stdout",
     "output_type": "stream",
     "text": [
      "workers=[2, 3, 4, 5, 6, 8, 9, 10, 11]\n"
     ]
    },
    {
     "data": {
      "text/plain": [
       "Task (runnable) @0x0000000149f8ecb0"
      ]
     },
     "execution_count": 48,
     "metadata": {},
     "output_type": "execute_result"
    },
    {
     "name": "stdout",
     "output_type": "stream",
     "text": [
      "workers=[2, 3, 4, 5, 6, 8, 9, 10, 11]\n",
      "workers=[2, 3, 4, 5, 6, 8, 9, 10, 11]\n",
      "workers=[2, 3, 4, 5, 6, 8, 9, 10, 11]\n",
      "workers=[2, 3, 4, 5, 6, 8, 9, 10, 11]\n",
      "workers=[2, 3, 4, 5, 6, 8, 9, 10, 11]\n"
     ]
    }
   ],
   "source": [
    "stop_thread = false\n",
    "@async while true\n",
    "    if stop_thread\n",
    "        break\n",
    "    end\n",
    "    x = workers()\n",
    "    println(\"workers=$(x)\")\n",
    "    sleep(2)\n",
    "end"
   ]
  },
  {
   "cell_type": "code",
   "execution_count": 49,
   "id": "1d11fbed-4e47-44e9-88f4-10163ef66c9d",
   "metadata": {
    "tags": []
   },
   "outputs": [
    {
     "data": {
      "text/plain": [
       "true"
      ]
     },
     "execution_count": 49,
     "metadata": {},
     "output_type": "execute_result"
    }
   ],
   "source": [
    "stop_thread=true"
   ]
  },
  {
   "cell_type": "code",
   "execution_count": null,
   "id": "0665f758-5fa8-40c9-82b7-b4ff07745557",
   "metadata": {},
   "outputs": [],
   "source": []
  }
 ],
 "metadata": {
  "kernelspec": {
   "display_name": "Juliaup 1.10.2",
   "language": "julia",
   "name": "juliaup-1.10"
  },
  "language_info": {
   "file_extension": ".jl",
   "mimetype": "application/julia",
   "name": "julia",
   "version": "1.10.2"
  }
 },
 "nbformat": 4,
 "nbformat_minor": 5
}
