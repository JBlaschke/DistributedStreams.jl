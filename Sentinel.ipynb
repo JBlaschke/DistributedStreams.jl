{
 "cells": [
  {
   "cell_type": "code",
   "execution_count": 1,
   "id": "1f573589-dc84-46e7-942c-e3102965ef0e",
   "metadata": {
    "tags": []
   },
   "outputs": [
    {
     "name": "stderr",
     "output_type": "stream",
     "text": [
      "\u001b[32m\u001b[1m  Activating\u001b[22m\u001b[39m project at `~/Developer/DistributedStreams`\n"
     ]
    }
   ],
   "source": [
    "import Pkg\n",
    "Pkg.activate(\".\")"
   ]
  },
  {
   "cell_type": "code",
   "execution_count": 2,
   "id": "b9acaed0-93e7-4103-b1b8-f4b5db0cd1c4",
   "metadata": {
    "tags": []
   },
   "outputs": [],
   "source": [
    "using Distributed"
   ]
  },
  {
   "cell_type": "code",
   "execution_count": 3,
   "id": "ec917fca-1fa5-4868-9eb1-bafd577b9fdc",
   "metadata": {
    "tags": []
   },
   "outputs": [
    {
     "data": {
      "text/plain": [
       "2-element Vector{Int64}:\n",
       " 2\n",
       " 3"
      ]
     },
     "execution_count": 3,
     "metadata": {},
     "output_type": "execute_result"
    }
   ],
   "source": [
    "addprocs(2)"
   ]
  },
  {
   "cell_type": "code",
   "execution_count": 4,
   "id": "553c864f-9ce0-466f-9d66-0ffaedc3b1da",
   "metadata": {
    "tags": []
   },
   "outputs": [],
   "source": [
    "@everywhere using Base: @kwdef\n",
    "@everywhere using Distributed, DistributedStreams, DistributedArrays"
   ]
  },
  {
   "cell_type": "code",
   "execution_count": 5,
   "id": "78cd5e8a-0b88-46ec-95a5-99bc394716a5",
   "metadata": {
    "tags": []
   },
   "outputs": [
    {
     "data": {
      "text/plain": [
       "(RemoteChannel{Channel{ControlMessage}}(1, 1, 19), RemoteChannel{Channel{ControlMessage}}(1, 1, 20), DistributedStreams.RemoteWorkerControl(@NamedTuple{worker::Int64, flag::Base.RefValue{Bool}}[(worker = 2, flag = Base.RefValue{Bool}(false))], Any[Future(2, 1, 21, ReentrantLock(nothing, 0x00000000, 0x00, Base.GenericCondition{Base.Threads.SpinLock}(Base.IntrusiveLinkedList{Task}(nothing, nothing), Base.Threads.SpinLock(0)), (8, 130653765041152, 130653764987024)), nothing)]))"
      ]
     },
     "execution_count": 5,
     "metadata": {},
     "output_type": "execute_result"
    }
   ],
   "source": [
    "control_messages, control_responses, control = launch_sentinel(;\n",
    "    workers=[2], verbose=true, buffer_size=1024, timeout=1\n",
    ")"
   ]
  },
  {
   "cell_type": "code",
   "execution_count": 6,
   "id": "568ab3d5-a0de-48c4-93fd-b2779c5ba5d5",
   "metadata": {
    "tags": []
   },
   "outputs": [
    {
     "data": {
      "text/plain": [
       "sentinel_running (generic function with 1 method)"
      ]
     },
     "execution_count": 6,
     "metadata": {},
     "output_type": "execute_result"
    }
   ],
   "source": [
    "sentinel_status_t = @async fetch(only(control.status))\n",
    "sentinel_running() = ! istaskdone(sentinel_status_t)"
   ]
  },
  {
   "cell_type": "code",
   "execution_count": 7,
   "id": "7fa31396-b4b7-44b2-bb69-daf923b398c1",
   "metadata": {},
   "outputs": [
    {
     "data": {
      "text/plain": [
       "true"
      ]
     },
     "execution_count": 7,
     "metadata": {},
     "output_type": "execute_result"
    }
   ],
   "source": [
    "sentinel_running()"
   ]
  },
  {
   "cell_type": "code",
   "execution_count": 8,
   "id": "d923272b-c874-448a-be93-b977bc98bf8d",
   "metadata": {
    "tags": []
   },
   "outputs": [],
   "source": [
    "ch_in = RemoteChannel(()->Channel{Int64}(32), 1)\n",
    "ch_out = RemoteChannel(()->Channel{Int64}(32), 1)\n",
    "\n",
    "@everywhere function test_fn(i)\n",
    "    println(\"hi there, I'm running on pid=$(myid())\")\n",
    "    if i == 1\n",
    "        error(\"bad input\")\n",
    "    end\n",
    "    return i+1\n",
    "end"
   ]
  },
  {
   "cell_type": "code",
   "execution_count": 9,
   "id": "207fd9c7-8a1b-41f1-bb07-3342246a5114",
   "metadata": {
    "tags": []
   },
   "outputs": [
    {
     "data": {
      "text/plain": [
       "ControlMessage(DistributedStreams.start, 3, FunctionPayload(test_fn, RemoteChannel{Channel{Int64}}(1, 1, 25), RemoteChannel{Channel{Int64}}(1, 1, 26)))"
      ]
     },
     "execution_count": 9,
     "metadata": {},
     "output_type": "execute_result"
    }
   ],
   "source": [
    "m_f = ControlMessage(\n",
    "    message_type=DistributedStreams.start,\n",
    "    target=3,\n",
    "    payload=FunctionPayload(\n",
    "        f=test_fn,\n",
    "        in=ch_in,\n",
    "        out=ch_out\n",
    "    )\n",
    ")"
   ]
  },
  {
   "cell_type": "code",
   "execution_count": 10,
   "id": "286f68da-b286-49fe-b7b5-5a1f208f696f",
   "metadata": {
    "tags": []
   },
   "outputs": [
    {
     "data": {
      "text/plain": [
       "RemoteChannel{Channel{ControlMessage}}(1, 1, 19)"
      ]
     },
     "execution_count": 10,
     "metadata": {},
     "output_type": "execute_result"
    },
    {
     "name": "stdout",
     "output_type": "stream",
     "text": [
      "      From worker 2:\tStart instruction for 3\n"
     ]
    }
   ],
   "source": [
    "put!(control_messages, m_f)"
   ]
  },
  {
   "cell_type": "code",
   "execution_count": 11,
   "id": "80cdf8bc-8377-4ad8-88ff-2efb481b0742",
   "metadata": {
    "tags": []
   },
   "outputs": [
    {
     "name": "stdout",
     "output_type": "stream",
     "text": [
      "      From worker 2:\tStarted\n",
      "      From worker 2:\tWorker started for: 3\n"
     ]
    },
    {
     "data": {
      "text/plain": [
       "1-element Vector{ControlMessage}:\n",
       " ControlMessage(DistributedStreams.started, 3, nothing)"
      ]
     },
     "execution_count": 11,
     "metadata": {},
     "output_type": "execute_result"
    }
   ],
   "source": [
    "collect!(control_responses)"
   ]
  },
  {
   "cell_type": "code",
   "execution_count": 12,
   "id": "9aeaeb1f-e3a2-48a0-8f66-9edda937e271",
   "metadata": {
    "tags": []
   },
   "outputs": [
    {
     "data": {
      "text/plain": [
       "RemoteChannel{Channel{Int64}}(1, 1, 25)"
      ]
     },
     "execution_count": 12,
     "metadata": {},
     "output_type": "execute_result"
    },
    {
     "name": "stdout",
     "output_type": "stream",
     "text": [
      "      From worker 3:\thi there, I'm running on pid=3\n"
     ]
    }
   ],
   "source": [
    "put!(ch_in, 10)"
   ]
  },
  {
   "cell_type": "code",
   "execution_count": 13,
   "id": "07d291e3-d6e6-406f-9be9-153ed1007ed3",
   "metadata": {
    "tags": []
   },
   "outputs": [
    {
     "data": {
      "text/plain": [
       "1-element Vector{Int64}:\n",
       " 11"
      ]
     },
     "execution_count": 13,
     "metadata": {},
     "output_type": "execute_result"
    }
   ],
   "source": [
    "collect!(ch_out)"
   ]
  },
  {
   "cell_type": "code",
   "execution_count": 14,
   "id": "a3734da7-a379-4235-bcd7-6fdde7972d1b",
   "metadata": {},
   "outputs": [
    {
     "data": {
      "text/plain": [
       "RemoteChannel{Channel{Int64}}(1, 1, 25)"
      ]
     },
     "execution_count": 14,
     "metadata": {},
     "output_type": "execute_result"
    },
    {
     "name": "stdout",
     "output_type": "stream",
     "text": [
      "      From worker 3:\thi there, I'm running on pid=3\n"
     ]
    }
   ],
   "source": [
    "put!(ch_in, 11)"
   ]
  },
  {
   "cell_type": "code",
   "execution_count": 15,
   "id": "2f7adac9-6c3e-4c6a-819a-d8d7a65727d1",
   "metadata": {},
   "outputs": [
    {
     "data": {
      "text/plain": [
       "1-element Vector{Int64}:\n",
       " 12"
      ]
     },
     "execution_count": 15,
     "metadata": {},
     "output_type": "execute_result"
    }
   ],
   "source": [
    "collect!(ch_out)"
   ]
  },
  {
   "cell_type": "code",
   "execution_count": 16,
   "id": "9f2c6537-a887-4a3f-a65a-562aa1f47a59",
   "metadata": {
    "tags": []
   },
   "outputs": [
    {
     "data": {
      "text/plain": [
       "Task (done) @0x000076d4304104c0"
      ]
     },
     "execution_count": 16,
     "metadata": {},
     "output_type": "execute_result"
    },
    {
     "name": "stdout",
     "output_type": "stream",
     "text": [
      "      From worker 2:\tWorker 3 died\n",
      "      From worker 2:\tWorker 3 completed\n"
     ]
    }
   ],
   "source": [
    "rmprocs(3)"
   ]
  },
  {
   "cell_type": "code",
   "execution_count": 17,
   "id": "c8395360-69ce-4c06-b472-f8a4ef769dac",
   "metadata": {},
   "outputs": [
    {
     "data": {
      "text/plain": [
       "2-element Vector{ControlMessage}:\n",
       " ControlMessage(DistributedStreams.failed, 3, nothing)\n",
       " ControlMessage(DistributedStreams.completed, 3, ReturnPayload(ProcessExitedException(3)))"
      ]
     },
     "execution_count": 17,
     "metadata": {},
     "output_type": "execute_result"
    }
   ],
   "source": [
    "collect!(control_responses)"
   ]
  },
  {
   "cell_type": "code",
   "execution_count": 18,
   "id": "b2079e0b-bef9-459c-9edf-ad6d6d57628b",
   "metadata": {},
   "outputs": [
    {
     "data": {
      "text/plain": [
       "1-element Vector{Int64}:\n",
       " 2"
      ]
     },
     "execution_count": 18,
     "metadata": {},
     "output_type": "execute_result"
    }
   ],
   "source": [
    "workers()"
   ]
  },
  {
   "cell_type": "code",
   "execution_count": 20,
   "id": "5fa0693e-b760-43ac-94ea-edbc5f76275c",
   "metadata": {},
   "outputs": [
    {
     "data": {
      "text/plain": [
       "true"
      ]
     },
     "execution_count": 20,
     "metadata": {},
     "output_type": "execute_result"
    }
   ],
   "source": [
    "sentinel_running()"
   ]
  },
  {
   "cell_type": "code",
   "execution_count": 21,
   "id": "0b5dbbfd-10f0-493f-9bac-a67f550d5409",
   "metadata": {
    "tags": []
   },
   "outputs": [],
   "source": [
    "addprocs(1)\n",
    "@everywhere using Distributed, DistributedStreams, DistributedArrays"
   ]
  },
  {
   "cell_type": "code",
   "execution_count": 24,
   "id": "35ccddf3-8554-45f5-818a-c0eb77314b5c",
   "metadata": {
    "tags": []
   },
   "outputs": [
    {
     "data": {
      "text/plain": [
       "ControlMessage(DistributedStreams.start, 4, FunctionPayload(test_fn, RemoteChannel{Channel{Int64}}(1, 1, 25), RemoteChannel{Channel{Int64}}(1, 1, 26)))"
      ]
     },
     "execution_count": 24,
     "metadata": {},
     "output_type": "execute_result"
    }
   ],
   "source": [
    "# ch_in = RemoteChannel(()->Channel{Int64}(32), 1)\n",
    "# ch_out = RemoteChannel(()->Channel{Int64}(32), 1)\n",
    "\n",
    "m = ControlMessage(\n",
    "    message_type=DistributedStreams.start,\n",
    "    target=4,\n",
    "    payload=FunctionPayload(\n",
    "        f=m_f.payload.f,\n",
    "        in=m_f.payload.in,\n",
    "        out=m_f.payload.out\n",
    "    )\n",
    ")"
   ]
  },
  {
   "cell_type": "code",
   "execution_count": 25,
   "id": "538ab80d-89a0-4067-932c-ed1caa98097a",
   "metadata": {
    "tags": []
   },
   "outputs": [
    {
     "data": {
      "text/plain": [
       "RemoteChannel{Channel{ControlMessage}}(1, 1, 19)"
      ]
     },
     "execution_count": 25,
     "metadata": {},
     "output_type": "execute_result"
    },
    {
     "name": "stdout",
     "output_type": "stream",
     "text": [
      "      From worker 2:\tStart instruction for 4\n",
      "      From worker 2:\tStarted\n",
      "      From worker 2:\tWorker started for: 4\n",
      "      From worker 2:\tWorker 4 completed\n"
     ]
    }
   ],
   "source": [
    "put!(control_messages, m)"
   ]
  },
  {
   "cell_type": "code",
   "execution_count": 26,
   "id": "cc25d853-b58a-4933-85ae-27254629cb84",
   "metadata": {
    "tags": []
   },
   "outputs": [
    {
     "data": {
      "text/plain": [
       "2-element Vector{ControlMessage}:\n",
       " ControlMessage(DistributedStreams.started, 4, nothing)\n",
       " ControlMessage(DistributedStreams.completed, 4, ReturnPayload(RemoteException(4, CapturedException(UndefVarError(Symbol(\"#test_fn\")), Any[(deserialize_datatype at Serialization.jl:1399, 1), (handle_deserialize at Serialization.jl:867, 1), (deserialize at Serialization.jl:814, 1), (handle_deserialize at Serialization.jl:874, 1), (deserialize at Serialization.jl:814, 1), (#5 at Serialization.jl:973, 1), (ntupleany at ntuple.jl:43, 1), (deserialize_tuple at Serialization.jl:973, 1), (handle_deserialize at Serialization.jl:857, 1), (deserialize at Serialization.jl:814 [inlined], 1), (deserialize_msg at messages.jl:87, 1), (#invokelatest#2 at essentials.jl:892 [inlined], 1), (invokelatest at essentials.jl:889 [inlined], 1), (message_handler_loop at process_messages.jl:176, 1), (process_tcp_streams at process_messages.jl:133, 1), (#103 at process_messages.jl:121, 1)]))))"
      ]
     },
     "execution_count": 26,
     "metadata": {},
     "output_type": "execute_result"
    }
   ],
   "source": [
    "collect!(control_responses)"
   ]
  },
  {
   "cell_type": "code",
   "execution_count": 27,
   "id": "2eebaffb-2e37-48a2-bfbe-9ee75c8ddacc",
   "metadata": {},
   "outputs": [
    {
     "data": {
      "text/plain": [
       "true"
      ]
     },
     "execution_count": 27,
     "metadata": {},
     "output_type": "execute_result"
    }
   ],
   "source": [
    "sentinel_running()"
   ]
  },
  {
   "cell_type": "code",
   "execution_count": null,
   "id": "a63247a8-5041-4e5c-a6ab-e5b249e6cd44",
   "metadata": {},
   "outputs": [],
   "source": []
  },
  {
   "cell_type": "code",
   "execution_count": null,
   "id": "2c74245b-938b-4e04-875a-432b2837b16f",
   "metadata": {},
   "outputs": [],
   "source": []
  },
  {
   "cell_type": "code",
   "execution_count": null,
   "id": "dcfba5de-c08e-4acf-8811-1dcdc8e31634",
   "metadata": {},
   "outputs": [],
   "source": []
  },
  {
   "cell_type": "code",
   "execution_count": 34,
   "id": "990d73b3-7fa5-4017-9318-f100f2613355",
   "metadata": {
    "tags": []
   },
   "outputs": [
    {
     "data": {
      "text/plain": [
       "RemoteChannel{Channel{ControlMessage}}(1, 1, 19)"
      ]
     },
     "execution_count": 34,
     "metadata": {},
     "output_type": "execute_result"
    },
    {
     "name": "stdout",
     "output_type": "stream",
     "text": [
      "      From worker 2:\tStop instruction for 4\n",
      "      From worker 2:\tStopped\n"
     ]
    }
   ],
   "source": [
    "m = ControlMessage(\n",
    "    message_type=DistributedStreams.stop,\n",
    "    target=4,\n",
    "    func_f=nothing,\n",
    "    func_in=nothing,\n",
    "    func_out=nothing\n",
    ")\n",
    "\n",
    "put!(control_messages, m)"
   ]
  },
  {
   "cell_type": "code",
   "execution_count": 25,
   "id": "21e177e2-b6bf-45a7-b66b-e9820a209915",
   "metadata": {
    "tags": []
   },
   "outputs": [
    {
     "name": "stdout",
     "output_type": "stream",
     "text": [
      "      From worker 2:\tWorker 4 completed\n"
     ]
    },
    {
     "data": {
      "text/plain": [
       "15-element Vector{ControlMessage}:\n",
       " ControlMessage(DistributedStreams.completed, 4, nothing, nothing, nothing)\n",
       " ControlMessage(DistributedStreams.completed, 4, nothing, nothing, nothing)\n",
       " ControlMessage(DistributedStreams.completed, 4, nothing, nothing, nothing)\n",
       " ControlMessage(DistributedStreams.completed, 4, nothing, nothing, nothing)\n",
       " ControlMessage(DistributedStreams.completed, 4, nothing, nothing, nothing)\n",
       " ControlMessage(DistributedStreams.completed, 4, nothing, nothing, nothing)\n",
       " ControlMessage(DistributedStreams.completed, 4, nothing, nothing, nothing)\n",
       " ControlMessage(DistributedStreams.completed, 4, nothing, nothing, nothing)\n",
       " ControlMessage(DistributedStreams.completed, 4, nothing, nothing, nothing)\n",
       " ControlMessage(DistributedStreams.completed, 4, nothing, nothing, nothing)\n",
       " ControlMessage(DistributedStreams.completed, 4, nothing, nothing, nothing)\n",
       " ControlMessage(DistributedStreams.completed, 4, nothing, nothing, nothing)\n",
       " ControlMessage(DistributedStreams.completed, 4, nothing, nothing, nothing)\n",
       " ControlMessage(DistributedStreams.completed, 4, nothing, nothing, nothing)\n",
       " ControlMessage(DistributedStreams.completed, 4, nothing, nothing, nothing)"
      ]
     },
     "execution_count": 25,
     "metadata": {},
     "output_type": "execute_result"
    },
    {
     "name": "stdout",
     "output_type": "stream",
     "text": [
      "      From worker 2:\tWorker started for: 4\n",
      "      From worker 2:\tWorker 4 completed\n",
      "      From worker 2:\tWorker started for: 4\n",
      "      From worker 2:\tWorker 4 completed\n",
      "      From worker 2:\tWorker started for: 4\n",
      "      From worker 2:\tWorker 4 completed\n",
      "      From worker 2:\tWorker started for: 4\n"
     ]
    }
   ],
   "source": [
    "collect!(control_responses)"
   ]
  },
  {
   "cell_type": "code",
   "execution_count": 36,
   "id": "ab5d395c-2553-445f-8fb6-dc06db9896c1",
   "metadata": {
    "tags": []
   },
   "outputs": [
    {
     "data": {
      "text/plain": [
       "Task (done) @0x00007214eb11dc30"
      ]
     },
     "execution_count": 36,
     "metadata": {},
     "output_type": "execute_result"
    }
   ],
   "source": [
    "rmprocs(4)"
   ]
  },
  {
   "cell_type": "code",
   "execution_count": 38,
   "id": "ef8323a8-6acd-4a63-a19a-ce92efc29bb5",
   "metadata": {
    "tags": []
   },
   "outputs": [
    {
     "data": {
      "text/plain": [
       "ControlMessage[]"
      ]
     },
     "execution_count": 38,
     "metadata": {},
     "output_type": "execute_result"
    }
   ],
   "source": [
    "collect!(control_responses)"
   ]
  },
  {
   "cell_type": "code",
   "execution_count": 39,
   "id": "88f0324d-62d6-4c8b-9c13-8829bdb6c416",
   "metadata": {},
   "outputs": [
    {
     "data": {
      "text/plain": [
       "1-element Vector{Int64}:\n",
       " 2"
      ]
     },
     "execution_count": 39,
     "metadata": {},
     "output_type": "execute_result"
    }
   ],
   "source": [
    "workers()"
   ]
  },
  {
   "cell_type": "code",
   "execution_count": 40,
   "id": "ec2f479e-630c-4521-a1bd-002f31b09052",
   "metadata": {},
   "outputs": [
    {
     "name": "stdout",
     "output_type": "stream",
     "text": [
      "      From worker 2:\tSentinel on 2 is shutting down\n"
     ]
    }
   ],
   "source": [
    "stop_workers!(control; workers=[2])"
   ]
  },
  {
   "cell_type": "code",
   "execution_count": 30,
   "id": "c2f0d9cc-bca4-4c51-9770-86127fada25e",
   "metadata": {},
   "outputs": [
    {
     "data": {
      "text/plain": [
       "Task (done) @0x00007f3c2b37a0e0"
      ]
     },
     "execution_count": 30,
     "metadata": {},
     "output_type": "execute_result"
    }
   ],
   "source": [
    "rmprocs()"
   ]
  },
  {
   "cell_type": "code",
   "execution_count": 42,
   "id": "b0e5ff13-121e-4238-ad27-8e3762b9138d",
   "metadata": {},
   "outputs": [
    {
     "data": {
      "text/plain": [
       "false"
      ]
     },
     "execution_count": 42,
     "metadata": {},
     "output_type": "execute_result"
    }
   ],
   "source": [
    "istaskdone(t)"
   ]
  }
 ],
 "metadata": {
  "kernelspec": {
   "display_name": "Juliaup 1.10.2",
   "language": "julia",
   "name": "juliaup-1.10"
  },
  "language_info": {
   "file_extension": ".jl",
   "mimetype": "application/julia",
   "name": "julia",
   "version": "1.10.2"
  }
 },
 "nbformat": 4,
 "nbformat_minor": 5
}
