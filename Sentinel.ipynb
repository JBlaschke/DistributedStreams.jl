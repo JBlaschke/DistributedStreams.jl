{
 "cells": [
  {
   "cell_type": "code",
   "execution_count": 1,
   "id": "1f573589-dc84-46e7-942c-e3102965ef0e",
   "metadata": {},
   "outputs": [
    {
     "name": "stderr",
     "output_type": "stream",
     "text": [
      "\u001b[32m\u001b[1m  Activating\u001b[22m\u001b[39m project at `~/Developer/DistributedStreams`\n"
     ]
    }
   ],
   "source": [
    "import Pkg\n",
    "Pkg.activate(\".\")"
   ]
  },
  {
   "cell_type": "code",
   "execution_count": 2,
   "id": "b9acaed0-93e7-4103-b1b8-f4b5db0cd1c4",
   "metadata": {},
   "outputs": [],
   "source": [
    "using Distributed"
   ]
  },
  {
   "cell_type": "code",
   "execution_count": 3,
   "id": "ec917fca-1fa5-4868-9eb1-bafd577b9fdc",
   "metadata": {},
   "outputs": [
    {
     "data": {
      "text/plain": [
       "2-element Vector{Int64}:\n",
       " 2\n",
       " 3"
      ]
     },
     "execution_count": 3,
     "metadata": {},
     "output_type": "execute_result"
    }
   ],
   "source": [
    "addprocs(2)"
   ]
  },
  {
   "cell_type": "code",
   "execution_count": 4,
   "id": "553c864f-9ce0-466f-9d66-0ffaedc3b1da",
   "metadata": {},
   "outputs": [],
   "source": [
    "@everywhere using Base: @kwdef\n",
    "@everywhere using DistributedStreams, DistributedArrays"
   ]
  },
  {
   "cell_type": "code",
   "execution_count": 5,
   "id": "1b3f8227-85ea-4b8e-948f-a9d210535576",
   "metadata": {},
   "outputs": [],
   "source": [
    "@everywhere @enum MessageType begin\n",
    "    start\n",
    "    stop\n",
    "    started\n",
    "    stopped\n",
    "    failed\n",
    "end\n",
    "\n",
    "@everywhere @kwdef struct ControlMessage\n",
    "    message_type::MessageType\n",
    "    target::Int64\n",
    "    func_f::Union{Function, Nothing}\n",
    "    func_in::Union{RemoteChannel, Nothing}\n",
    "    func_out::Union{RemoteChannel, Nothing}\n",
    "end"
   ]
  },
  {
   "cell_type": "code",
   "execution_count": 7,
   "id": "1edafbff-cf03-4ef2-a7e0-9da843b736b0",
   "metadata": {},
   "outputs": [],
   "source": [
    "@everywhere function launch_sentinel(;workers=[2], verbose=false, buffer_size=32, timeout=1)\n",
    "\n",
    "    distributed_control = DArray([\n",
    "        @spawnat p [(worker = p, flag = Ref(false))]\n",
    "        for p in workers\n",
    "    ])\n",
    "\n",
    "    function remote_worker(entries, results, control)\n",
    "        # list of active workers\n",
    "        active_workers = Dict{Int64}{DArray}()\n",
    "        \n",
    "        # controller used to modify the behaviour of a running worker, e.g.\n",
    "        # shut it down gracefully\n",
    "        local_control = only(localpart(control))\n",
    "\n",
    "        # check for any failed workers -- if failures did occur, report them as\n",
    "        # a `failed` type message and remove them from the active_workers list\n",
    "        @async while true\n",
    "            println(\"A\")\n",
    "            # check if should stop checking \n",
    "            if local_control.flag[]  # Shutdown flag raised\n",
    "                if verbose\n",
    "                    println(\"Sentinel on $(local_control.worker) is shutting down\")\n",
    "                end\n",
    "                break\n",
    "            end\n",
    "            println(\"B\")\n",
    "            current_worker_list = workers()\n",
    "            # println(\"C\")\n",
    "            # println(\"current_worker_list=$(current_worker_list)\")\n",
    "            # for w in keys(active_workers)\n",
    "            #     println(\"Checking: if $(w) is still alive\")\n",
    "            #     if !(w in current_worker_list)\n",
    "            #         @async put!(results, ControlMessage(\n",
    "            #             message_type=failed,\n",
    "            #             target=w,\n",
    "            #             func_f=nothing,\n",
    "            #             func_in=nothing,\n",
    "            #             func_out=nothing\n",
    "            #         ))\n",
    "            #         delete!(active_workers, w)\n",
    "            #         println(\"Worker $(w) died\")\n",
    "            #     end\n",
    "            # end\n",
    "\n",
    "            # we don't need to check all the time\n",
    "            sleep(timeout)\n",
    "        end\n",
    "        \n",
    "        @async while true\n",
    "            println(\"active_workers=$(active_workers)\")\n",
    "            # take data from remote channel asynchronously\n",
    "            t = @async take!(entries)\n",
    "            # Gard against hanging `take!` calls by periodically checking if the\n",
    "            # worker is flagged to be shut down. timedwait is slow, so we run\n",
    "            # this in async mode. `local_control.safe` can be used to skip this\n",
    "            # check entirely.\n",
    "            @async while true\n",
    "                # introduce timeout which will shut down the worker with\n",
    "                # `local_control.flag[] == true`\n",
    "                if timedwait(()->istaskdone(t), timeout) == :ok\n",
    "                    break\n",
    "                end\n",
    "                # ALL CODE ENTERING HERE => TIMEDWAIT TIMED OUT\n",
    "                if local_control.flag[]  # Shutdown flag raised\n",
    "                    if verbose\n",
    "                        println(\"Sentinel on $(local_control.worker) is shutting down\")\n",
    "                    end\n",
    "                    sleep(2*timeout) # give everything time to quit\n",
    "                    return\n",
    "                end\n",
    "            end\n",
    "            println(\"a\")\n",
    "            # process messages in order\n",
    "            message = fetch(t)\n",
    "            println(\"a\")\n",
    "            if message.message_type == start\n",
    "                println(\"Start instruction for $(message.target)\")\n",
    "                control = launch_consumer(\n",
    "                    message.func_f, message.func_in, message.func_out;\n",
    "                    workers=[message.target], verbose=true, buffer_size=32, timeout=1,\n",
    "                    start_safe=false\n",
    "                )\n",
    "                active_workers[message.target] = control\n",
    "                @async put!(results, ControlMessage(\n",
    "                    message_type=started,\n",
    "                    target=message.target,\n",
    "                    func_f=nothing,\n",
    "                    func_in=nothing,\n",
    "                    func_out=nothing\n",
    "                ))\n",
    "            elseif message.message_type == stop\n",
    "                println(\"Stop instruction for $(message.target)\")\n",
    "                if message.target in keys(active_workers)\n",
    "                    make_unsafe!(active_workers[message.target]; workers=[message.target])\n",
    "                    stop_workers!(active_workers[message.target]; workers=[message.target])\n",
    "                    @async put!(results, ControlMessage(\n",
    "                        message_type=stopped,\n",
    "                        target=message.target,\n",
    "                        func_f=nothing,\n",
    "                        func_in=nothing,\n",
    "                        func_out=nothing\n",
    "                    ))\n",
    "                end\n",
    "            else\n",
    "                # all other message types ignored by putting them directly into the\n",
    "                # output channel\n",
    "                @async put!(results, message)\n",
    "            end\n",
    "            println(\"c\")\n",
    "            sleep(timeout)\n",
    "        end\n",
    "    end\n",
    "\n",
    "    control_messages  = RemoteChannel(()->Channel{ControlMessage}(buffer_size), 1)\n",
    "    control_responses = RemoteChannel(()->Channel{ControlMessage}(buffer_size), 1)\n",
    "\n",
    "    for p in workers\n",
    "        remote_do(\n",
    "            remote_worker, p,\n",
    "            control_messages, control_responses, distributed_control\n",
    "        )\n",
    "    end\n",
    "\n",
    "    return control_messages, control_responses, distributed_control\n",
    "end"
   ]
  },
  {
   "cell_type": "code",
   "execution_count": 8,
   "id": "78cd5e8a-0b88-46ec-95a5-99bc394716a5",
   "metadata": {},
   "outputs": [
    {
     "name": "stdout",
     "output_type": "stream",
     "text": [
      "      From worker 2:\tA\n",
      "      From worker 2:\tB\n",
      "      From worker 2:\tactive_workers=Dict{Int64, DArray}()\n"
     ]
    },
    {
     "data": {
      "text/plain": [
       "(RemoteChannel{Channel{ControlMessage}}(1, 1, 35), RemoteChannel{Channel{ControlMessage}}(1, 1, 36), @NamedTuple{worker::Int64, flag::Base.RefValue{Bool}}[(worker = 2, flag = Base.RefValue{Bool}(false))])"
      ]
     },
     "execution_count": 8,
     "metadata": {},
     "output_type": "execute_result"
    },
    {
     "name": "stdout",
     "output_type": "stream",
     "text": [
      "      From worker 2:\ta\n"
     ]
    }
   ],
   "source": [
    "control_messages, control_responses, distributed_control = launch_sentinel(;\n",
    "    workers=[2], verbose=true, buffer_size=32, timeout=1\n",
    ")"
   ]
  },
  {
   "cell_type": "code",
   "execution_count": 23,
   "id": "568ab3d5-a0de-48c4-93fd-b2779c5ba5d5",
   "metadata": {},
   "outputs": [
    {
     "data": {
      "text/plain": [
       "1-element DArray{@NamedTuple{worker::Int64, flag::Base.RefValue{Bool}}, 1, Vector{@NamedTuple{worker::Int64, flag::Base.RefValue{Bool}}}}:\n",
       " (worker = 2, flag = Base.RefValue{Bool}(false))"
      ]
     },
     "execution_count": 23,
     "metadata": {},
     "output_type": "execute_result"
    }
   ],
   "source": [
    "distributed_control"
   ]
  },
  {
   "cell_type": "code",
   "execution_count": 24,
   "id": "d923272b-c874-448a-be93-b977bc98bf8d",
   "metadata": {},
   "outputs": [],
   "source": [
    "ch_in = RemoteChannel(()->Channel{Int64}(32), 1)\n",
    "ch_out = RemoteChannel(()->Channel{Int64}(32), 1)\n",
    "\n",
    "@everywhere function test_fn(i)\n",
    "    println(\"hi there, I'm running on pid=$(myid())\")\n",
    "    sleep(2)\n",
    "    return i+1\n",
    "end"
   ]
  },
  {
   "cell_type": "code",
   "execution_count": 25,
   "id": "207fd9c7-8a1b-41f1-bb07-3342246a5114",
   "metadata": {},
   "outputs": [
    {
     "data": {
      "text/plain": [
       "ControlMessage(start, 3, test_fn, RemoteChannel{Channel{Int64}}(1, 1, 100), RemoteChannel{Channel{Int64}}(1, 1, 101))"
      ]
     },
     "execution_count": 25,
     "metadata": {},
     "output_type": "execute_result"
    }
   ],
   "source": [
    "m = ControlMessage(\n",
    "    message_type=start,\n",
    "    target=3,\n",
    "    func_f=test_fn,\n",
    "    func_in=ch_in,\n",
    "    func_out=ch_out\n",
    ")"
   ]
  },
  {
   "cell_type": "code",
   "execution_count": 26,
   "id": "286f68da-b286-49fe-b7b5-5a1f208f696f",
   "metadata": {},
   "outputs": [
    {
     "data": {
      "text/plain": [
       "RemoteChannel{Channel{ControlMessage}}(1, 1, 92)"
      ]
     },
     "execution_count": 26,
     "metadata": {},
     "output_type": "execute_result"
    },
    {
     "name": "stdout",
     "output_type": "stream",
     "text": [
      "      From worker 2:\ta\n",
      "      From worker 2:\tStart instruction for 3\n",
      "      From worker 2:\tc\n",
      "      From worker 2:\tactive_workers=Dict{Int64, DArray}(3 => @NamedTuple{worker::Int64, safe::Base.RefValue{Bool}, flag::Base.RefValue{Bool}}[(worker = 3, safe = Base.RefValue{Bool}(false), flag = Base.RefValue{Bool}(false))])\n",
      "      From worker 2:\ta\n"
     ]
    }
   ],
   "source": [
    "put!(control_messages, m)"
   ]
  },
  {
   "cell_type": "code",
   "execution_count": 27,
   "id": "80cdf8bc-8377-4ad8-88ff-2efb481b0742",
   "metadata": {},
   "outputs": [
    {
     "data": {
      "text/plain": [
       "ControlMessage(started, 3, nothing, nothing, nothing)"
      ]
     },
     "execution_count": 27,
     "metadata": {},
     "output_type": "execute_result"
    }
   ],
   "source": [
    "take!(control_responses)"
   ]
  },
  {
   "cell_type": "code",
   "execution_count": 28,
   "id": "9aeaeb1f-e3a2-48a0-8f66-9edda937e271",
   "metadata": {},
   "outputs": [
    {
     "data": {
      "text/plain": [
       "RemoteChannel{Channel{Int64}}(1, 1, 100)"
      ]
     },
     "execution_count": 28,
     "metadata": {},
     "output_type": "execute_result"
    },
    {
     "name": "stdout",
     "output_type": "stream",
     "text": [
      "      From worker 3:\thi there, I'm running on pid=3\n"
     ]
    }
   ],
   "source": [
    "put!(ch_in, 10)"
   ]
  },
  {
   "cell_type": "code",
   "execution_count": 29,
   "id": "07d291e3-d6e6-406f-9be9-153ed1007ed3",
   "metadata": {},
   "outputs": [
    {
     "data": {
      "text/plain": [
       "11"
      ]
     },
     "execution_count": 29,
     "metadata": {},
     "output_type": "execute_result"
    }
   ],
   "source": [
    "take!(ch_out)"
   ]
  },
  {
   "cell_type": "code",
   "execution_count": 30,
   "id": "4b9c8b69-f7f6-4cd0-be2f-2c038d2b94b4",
   "metadata": {},
   "outputs": [
    {
     "data": {
      "text/plain": [
       "Task (done) @0x00007fd2ebdafb70"
      ]
     },
     "execution_count": 30,
     "metadata": {},
     "output_type": "execute_result"
    }
   ],
   "source": [
    "rmprocs(3)"
   ]
  },
  {
   "cell_type": "code",
   "execution_count": 31,
   "id": "35ccddf3-8554-45f5-818a-c0eb77314b5c",
   "metadata": {},
   "outputs": [
    {
     "data": {
      "text/plain": [
       "Task (runnable) @0x00007fd2ebb2d910"
      ]
     },
     "execution_count": 31,
     "metadata": {},
     "output_type": "execute_result"
    }
   ],
   "source": [
    "t = @async take!(control_messages)"
   ]
  },
  {
   "cell_type": "code",
   "execution_count": 33,
   "id": "cc25d853-b58a-4933-85ae-27254629cb84",
   "metadata": {},
   "outputs": [
    {
     "data": {
      "text/plain": [
       "Task (runnable) @0x00007fd2ebb2d910"
      ]
     },
     "execution_count": 33,
     "metadata": {},
     "output_type": "execute_result"
    }
   ],
   "source": [
    "t"
   ]
  },
  {
   "cell_type": "code",
   "execution_count": null,
   "id": "12005f58-b489-4cc7-9226-ef19b5ce53d2",
   "metadata": {},
   "outputs": [],
   "source": []
  }
 ],
 "metadata": {
  "kernelspec": {
   "display_name": "Juliaup 1.10.0",
   "language": "julia",
   "name": "juliaup-1.10"
  },
  "language_info": {
   "file_extension": ".jl",
   "mimetype": "application/julia",
   "name": "julia",
   "version": "1.10.0"
  }
 },
 "nbformat": 4,
 "nbformat_minor": 5
}
