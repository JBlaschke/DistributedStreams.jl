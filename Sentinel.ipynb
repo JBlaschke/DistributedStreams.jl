{
 "cells": [
  {
   "cell_type": "code",
   "execution_count": 1,
   "id": "1f573589-dc84-46e7-942c-e3102965ef0e",
   "metadata": {
    "tags": []
   },
   "outputs": [
    {
     "name": "stderr",
     "output_type": "stream",
     "text": [
      "\u001b[32m\u001b[1m  Activating\u001b[22m\u001b[39m project at `~/Developer/DistributedStreams`\n"
     ]
    }
   ],
   "source": [
    "import Pkg\n",
    "Pkg.activate(\".\")"
   ]
  },
  {
   "cell_type": "code",
   "execution_count": 2,
   "id": "b9acaed0-93e7-4103-b1b8-f4b5db0cd1c4",
   "metadata": {
    "tags": []
   },
   "outputs": [],
   "source": [
    "using Distributed"
   ]
  },
  {
   "cell_type": "code",
   "execution_count": 3,
   "id": "ec917fca-1fa5-4868-9eb1-bafd577b9fdc",
   "metadata": {
    "tags": []
   },
   "outputs": [
    {
     "data": {
      "text/plain": [
       "2-element Vector{Int64}:\n",
       " 2\n",
       " 3"
      ]
     },
     "execution_count": 3,
     "metadata": {},
     "output_type": "execute_result"
    }
   ],
   "source": [
    "addprocs(2)"
   ]
  },
  {
   "cell_type": "code",
   "execution_count": 4,
   "id": "553c864f-9ce0-466f-9d66-0ffaedc3b1da",
   "metadata": {
    "tags": []
   },
   "outputs": [],
   "source": [
    "@everywhere using Base: @kwdef\n",
    "@everywhere using Distributed, DistributedStreams, DistributedArrays"
   ]
  },
  {
   "cell_type": "markdown",
   "id": "98f111a6-0200-44e5-a29b-13425d00deda",
   "metadata": {},
   "source": [
    "## Start Sentinel"
   ]
  },
  {
   "cell_type": "code",
   "execution_count": 5,
   "id": "78cd5e8a-0b88-46ec-95a5-99bc394716a5",
   "metadata": {
    "tags": []
   },
   "outputs": [
    {
     "data": {
      "text/plain": [
       "(RemoteChannel{Channel{ControlMessage}}(1, 1, 19), RemoteChannel{Channel{ControlMessage}}(1, 1, 20), DistributedStreams.RemoteWorkerControl(@NamedTuple{worker::Int64, flag::Base.RefValue{Bool}}[(worker = 2, flag = Base.RefValue{Bool}(false))], Any[Future(2, 1, 21, ReentrantLock(nothing, 0x00000000, 0x00, Base.GenericCondition{Base.Threads.SpinLock}(Base.IntrusiveLinkedList{Task}(nothing, nothing), Base.Threads.SpinLock(0)), (2, 126114975044800, 81604378642)), nothing)]))"
      ]
     },
     "execution_count": 5,
     "metadata": {},
     "output_type": "execute_result"
    }
   ],
   "source": [
    "control_messages, control_responses, control = launch_sentinel(;\n",
    "    workers=[2], verbose=true, buffer_size=1024, timeout=1\n",
    ")"
   ]
  },
  {
   "cell_type": "code",
   "execution_count": 6,
   "id": "568ab3d5-a0de-48c4-93fd-b2779c5ba5d5",
   "metadata": {
    "tags": []
   },
   "outputs": [
    {
     "data": {
      "text/plain": [
       "sentinel_running (generic function with 1 method)"
      ]
     },
     "execution_count": 6,
     "metadata": {},
     "output_type": "execute_result"
    }
   ],
   "source": [
    "sentinel_status_t = @async fetch(only(control.status))\n",
    "sentinel_running() = ! istaskdone(sentinel_status_t)"
   ]
  },
  {
   "cell_type": "code",
   "execution_count": 7,
   "id": "7fa31396-b4b7-44b2-bb69-daf923b398c1",
   "metadata": {},
   "outputs": [
    {
     "data": {
      "text/plain": [
       "true"
      ]
     },
     "execution_count": 7,
     "metadata": {},
     "output_type": "execute_result"
    }
   ],
   "source": [
    "sentinel_running()"
   ]
  },
  {
   "cell_type": "markdown",
   "id": "a423615a-029f-4a81-b47f-10a329be8a59",
   "metadata": {},
   "source": [
    "## Test Managed Worker"
   ]
  },
  {
   "cell_type": "code",
   "execution_count": 8,
   "id": "d923272b-c874-448a-be93-b977bc98bf8d",
   "metadata": {
    "tags": []
   },
   "outputs": [],
   "source": [
    "ch_in = RemoteChannel(()->Channel{Int64}(32), 1)\n",
    "ch_out = RemoteChannel(()->Channel{Int64}(32), 1)\n",
    "\n",
    "@everywhere function test_fn(i)\n",
    "    println(\"hi there, I'm running on pid=$(myid())\")\n",
    "    if i == 1\n",
    "        error(\"bad input\")\n",
    "    end\n",
    "    return i+1\n",
    "end"
   ]
  },
  {
   "cell_type": "code",
   "execution_count": 9,
   "id": "207fd9c7-8a1b-41f1-bb07-3342246a5114",
   "metadata": {
    "tags": []
   },
   "outputs": [
    {
     "data": {
      "text/plain": [
       "ControlMessage(DistributedStreams.start, 3, FunctionPayload(test_fn, RemoteChannel{Channel{Int64}}(1, 1, 25), RemoteChannel{Channel{Int64}}(1, 1, 26)))"
      ]
     },
     "execution_count": 9,
     "metadata": {},
     "output_type": "execute_result"
    }
   ],
   "source": [
    "m_f = ControlMessage(\n",
    "    message_type=DistributedStreams.start,\n",
    "    target=3,\n",
    "    payload=FunctionPayload(\n",
    "        f=test_fn,\n",
    "        in=ch_in,\n",
    "        out=ch_out\n",
    "    )\n",
    ")"
   ]
  },
  {
   "cell_type": "code",
   "execution_count": 10,
   "id": "286f68da-b286-49fe-b7b5-5a1f208f696f",
   "metadata": {
    "tags": []
   },
   "outputs": [
    {
     "data": {
      "text/plain": [
       "RemoteChannel{Channel{ControlMessage}}(1, 1, 19)"
      ]
     },
     "execution_count": 10,
     "metadata": {},
     "output_type": "execute_result"
    },
    {
     "name": "stdout",
     "output_type": "stream",
     "text": [
      "      From worker 2:\tStart instruction for 3\n",
      "      From worker 2:\tWorker started for: 3\n"
     ]
    }
   ],
   "source": [
    "put!(control_messages, m_f)"
   ]
  },
  {
   "cell_type": "code",
   "execution_count": 11,
   "id": "80cdf8bc-8377-4ad8-88ff-2efb481b0742",
   "metadata": {
    "tags": []
   },
   "outputs": [
    {
     "data": {
      "text/plain": [
       "1-element Vector{ControlMessage}:\n",
       " ControlMessage(DistributedStreams.started, 3, nothing)"
      ]
     },
     "execution_count": 11,
     "metadata": {},
     "output_type": "execute_result"
    }
   ],
   "source": [
    "collect!(control_responses)"
   ]
  },
  {
   "cell_type": "markdown",
   "id": "99feec09-8fa3-43e5-b0f4-263347a7d306",
   "metadata": {},
   "source": [
    "### Test worker's ability to run tasks"
   ]
  },
  {
   "cell_type": "code",
   "execution_count": 12,
   "id": "9aeaeb1f-e3a2-48a0-8f66-9edda937e271",
   "metadata": {
    "tags": []
   },
   "outputs": [
    {
     "data": {
      "text/plain": [
       "RemoteChannel{Channel{Int64}}(1, 1, 25)"
      ]
     },
     "execution_count": 12,
     "metadata": {},
     "output_type": "execute_result"
    },
    {
     "name": "stdout",
     "output_type": "stream",
     "text": [
      "      From worker 3:\thi there, I'm running on pid=3\n"
     ]
    }
   ],
   "source": [
    "put!(ch_in, 10)"
   ]
  },
  {
   "cell_type": "code",
   "execution_count": 13,
   "id": "07d291e3-d6e6-406f-9be9-153ed1007ed3",
   "metadata": {
    "tags": []
   },
   "outputs": [
    {
     "data": {
      "text/plain": [
       "1-element Vector{Int64}:\n",
       " 11"
      ]
     },
     "execution_count": 13,
     "metadata": {},
     "output_type": "execute_result"
    }
   ],
   "source": [
    "collect!(ch_out)"
   ]
  },
  {
   "cell_type": "markdown",
   "id": "b9f3554c-c33c-475e-90ff-98e53695f157",
   "metadata": {},
   "source": [
    "## Simumulate sudden termination of worker process"
   ]
  },
  {
   "cell_type": "code",
   "execution_count": 14,
   "id": "9f2c6537-a887-4a3f-a65a-562aa1f47a59",
   "metadata": {
    "tags": []
   },
   "outputs": [
    {
     "data": {
      "text/plain": [
       "Task (done) @0x000072b345bec010"
      ]
     },
     "execution_count": 14,
     "metadata": {},
     "output_type": "execute_result"
    },
    {
     "name": "stdout",
     "output_type": "stream",
     "text": [
      "      From worker 2:\tWorker 3 died\n",
      "      From worker 2:\tWorker 3 completed\n"
     ]
    }
   ],
   "source": [
    "rmprocs(3)"
   ]
  },
  {
   "cell_type": "code",
   "execution_count": 15,
   "id": "c8395360-69ce-4c06-b472-f8a4ef769dac",
   "metadata": {},
   "outputs": [
    {
     "data": {
      "text/plain": [
       "2-element Vector{ControlMessage}:\n",
       " ControlMessage(DistributedStreams.failed, 3, nothing)\n",
       " ControlMessage(DistributedStreams.completed, 3, ReturnPayload(ProcessExitedException(3)))"
      ]
     },
     "execution_count": 15,
     "metadata": {},
     "output_type": "execute_result"
    }
   ],
   "source": [
    "collect!(control_responses)"
   ]
  },
  {
   "cell_type": "code",
   "execution_count": 16,
   "id": "b2079e0b-bef9-459c-9edf-ad6d6d57628b",
   "metadata": {},
   "outputs": [
    {
     "data": {
      "text/plain": [
       "1-element Vector{Int64}:\n",
       " 2"
      ]
     },
     "execution_count": 16,
     "metadata": {},
     "output_type": "execute_result"
    }
   ],
   "source": [
    "workers()"
   ]
  },
  {
   "cell_type": "code",
   "execution_count": 17,
   "id": "5fa0693e-b760-43ac-94ea-edbc5f76275c",
   "metadata": {},
   "outputs": [
    {
     "data": {
      "text/plain": [
       "true"
      ]
     },
     "execution_count": 17,
     "metadata": {},
     "output_type": "execute_result"
    }
   ],
   "source": [
    "sentinel_running()"
   ]
  },
  {
   "cell_type": "markdown",
   "id": "9f93c1d7-fc5f-4776-bfb3-0c84a725a5bb",
   "metadata": {},
   "source": [
    "## Test adding additional worker processes"
   ]
  },
  {
   "cell_type": "code",
   "execution_count": 18,
   "id": "0b5dbbfd-10f0-493f-9bac-a67f550d5409",
   "metadata": {
    "tags": []
   },
   "outputs": [],
   "source": [
    "addprocs(1)\n",
    "@everywhere using Distributed, DistributedStreams, DistributedArrays"
   ]
  },
  {
   "cell_type": "code",
   "execution_count": 19,
   "id": "18fb189c-d403-4ed4-9a07-2561b33df316",
   "metadata": {},
   "outputs": [
    {
     "data": {
      "text/plain": [
       "2-element Vector{Int64}:\n",
       " 2\n",
       " 4"
      ]
     },
     "execution_count": 19,
     "metadata": {},
     "output_type": "execute_result"
    }
   ],
   "source": [
    "workers()"
   ]
  },
  {
   "cell_type": "markdown",
   "id": "2c340f86-06a6-4e15-bae3-ed2ea0136801",
   "metadata": {},
   "source": [
    "### Test Incorrect Payload"
   ]
  },
  {
   "cell_type": "code",
   "execution_count": 20,
   "id": "f584d831-3f06-4a54-928e-e5279794230a",
   "metadata": {},
   "outputs": [
    {
     "data": {
      "text/plain": [
       "ControlMessage(DistributedStreams.start, 4, nothing)"
      ]
     },
     "execution_count": 20,
     "metadata": {},
     "output_type": "execute_result"
    }
   ],
   "source": [
    "m = ControlMessage(\n",
    "    message_type=DistributedStreams.start,\n",
    "    target=4,\n",
    "    payload=nothing\n",
    ")"
   ]
  },
  {
   "cell_type": "code",
   "execution_count": 21,
   "id": "bc5abad8-d1ec-4aa3-baef-91c9e2b43404",
   "metadata": {},
   "outputs": [
    {
     "data": {
      "text/plain": [
       "RemoteChannel{Channel{ControlMessage}}(1, 1, 19)"
      ]
     },
     "execution_count": 21,
     "metadata": {},
     "output_type": "execute_result"
    },
    {
     "name": "stdout",
     "output_type": "stream",
     "text": [
      "      From worker 2:\tStart instruction for 4\n"
     ]
    }
   ],
   "source": [
    "put!(control_messages, m)"
   ]
  },
  {
   "cell_type": "code",
   "execution_count": 22,
   "id": "7259e79b-20cf-4100-a9a5-d2e3a8a6a488",
   "metadata": {},
   "outputs": [
    {
     "data": {
      "text/plain": [
       "1-element Vector{ControlMessage}:\n",
       " ControlMessage(DistributedStreams.completed, 4, ReturnPayload(ArgumentError(\"Start request does not contain function\")))"
      ]
     },
     "execution_count": 22,
     "metadata": {},
     "output_type": "execute_result"
    }
   ],
   "source": [
    "collect!(control_responses)"
   ]
  },
  {
   "cell_type": "markdown",
   "id": "8bb69637-e757-4a58-8f7f-f52287e7d290",
   "metadata": {},
   "source": [
    "### Test correct start payload"
   ]
  },
  {
   "cell_type": "code",
   "execution_count": 23,
   "id": "35ccddf3-8554-45f5-818a-c0eb77314b5c",
   "metadata": {
    "tags": []
   },
   "outputs": [
    {
     "data": {
      "text/plain": [
       "ControlMessage(DistributedStreams.start, 4, FunctionPayload(test_fn, RemoteChannel{Channel{Int64}}(1, 1, 25), RemoteChannel{Channel{Int64}}(1, 1, 26)))"
      ]
     },
     "execution_count": 23,
     "metadata": {},
     "output_type": "execute_result"
    }
   ],
   "source": [
    "m = ControlMessage(\n",
    "    message_type=DistributedStreams.start,\n",
    "    target=4,\n",
    "    payload=m_f.payload\n",
    ")"
   ]
  },
  {
   "cell_type": "code",
   "execution_count": 24,
   "id": "538ab80d-89a0-4067-932c-ed1caa98097a",
   "metadata": {
    "tags": []
   },
   "outputs": [
    {
     "data": {
      "text/plain": [
       "RemoteChannel{Channel{ControlMessage}}(1, 1, 19)"
      ]
     },
     "execution_count": 24,
     "metadata": {},
     "output_type": "execute_result"
    },
    {
     "name": "stdout",
     "output_type": "stream",
     "text": [
      "      From worker 2:\tStart instruction for 4\n",
      "      From worker 2:\tWorker started for: 4\n",
      "      From worker 2:\tWorker 4 completed\n"
     ]
    }
   ],
   "source": [
    "put!(control_messages, m)"
   ]
  },
  {
   "cell_type": "markdown",
   "id": "ed357c5c-288d-4399-ae85-ed6b621fc177",
   "metadata": {},
   "source": [
    "## Test expected failure due to undefined function"
   ]
  },
  {
   "cell_type": "code",
   "execution_count": 25,
   "id": "cc25d853-b58a-4933-85ae-27254629cb84",
   "metadata": {
    "tags": []
   },
   "outputs": [
    {
     "data": {
      "text/plain": [
       "2-element Vector{ControlMessage}:\n",
       " ControlMessage(DistributedStreams.started, 4, nothing)\n",
       " ControlMessage(DistributedStreams.completed, 4, ReturnPayload(RemoteException(4, CapturedException(UndefVarError(Symbol(\"#test_fn\")), Any[(deserialize_datatype at Serialization.jl:1399, 1), (handle_deserialize at Serialization.jl:867, 1), (deserialize at Serialization.jl:814, 1), (handle_deserialize at Serialization.jl:874, 1), (deserialize at Serialization.jl:814, 1), (#5 at Serialization.jl:973, 1), (ntupleany at ntuple.jl:43, 1), (deserialize_tuple at Serialization.jl:973, 1), (handle_deserialize at Serialization.jl:857, 1), (deserialize at Serialization.jl:814 [inlined], 1), (deserialize_msg at messages.jl:87, 1), (#invokelatest#2 at essentials.jl:892 [inlined], 1), (invokelatest at essentials.jl:889 [inlined], 1), (message_handler_loop at process_messages.jl:176, 1), (process_tcp_streams at process_messages.jl:133, 1), (#103 at process_messages.jl:121, 1)]))))"
      ]
     },
     "execution_count": 25,
     "metadata": {},
     "output_type": "execute_result"
    }
   ],
   "source": [
    "collect!(control_responses)"
   ]
  },
  {
   "cell_type": "markdown",
   "id": "f6e97f92-8011-4de6-9fb8-0f70aa45e905",
   "metadata": {},
   "source": [
    "### Send function and try again"
   ]
  },
  {
   "cell_type": "code",
   "execution_count": 26,
   "id": "2eebaffb-2e37-48a2-bfbe-9ee75c8ddacc",
   "metadata": {},
   "outputs": [],
   "source": [
    "sendfunc(m_f.payload.f, 4)"
   ]
  },
  {
   "cell_type": "code",
   "execution_count": 27,
   "id": "dcfba5de-c08e-4acf-8811-1dcdc8e31634",
   "metadata": {},
   "outputs": [
    {
     "data": {
      "text/plain": [
       "RemoteChannel{Channel{ControlMessage}}(1, 1, 19)"
      ]
     },
     "execution_count": 27,
     "metadata": {},
     "output_type": "execute_result"
    },
    {
     "name": "stdout",
     "output_type": "stream",
     "text": [
      "      From worker 2:\tStart instruction for 4\n",
      "      From worker 2:\tWorker started for: 4\n"
     ]
    }
   ],
   "source": [
    "put!(control_messages, m)"
   ]
  },
  {
   "cell_type": "code",
   "execution_count": 28,
   "id": "0eb14184-a723-401f-978c-259af261168e",
   "metadata": {},
   "outputs": [
    {
     "data": {
      "text/plain": [
       "1-element Vector{ControlMessage}:\n",
       " ControlMessage(DistributedStreams.started, 4, nothing)"
      ]
     },
     "execution_count": 28,
     "metadata": {},
     "output_type": "execute_result"
    }
   ],
   "source": [
    "collect!(control_responses)"
   ]
  },
  {
   "cell_type": "markdown",
   "id": "8954a1b4-da5d-4c7d-a302-539a62cce254",
   "metadata": {},
   "source": [
    "### Worker works normally now"
   ]
  },
  {
   "cell_type": "code",
   "execution_count": 30,
   "id": "07f38992-3b00-4542-8b13-46e32be9f21e",
   "metadata": {},
   "outputs": [
    {
     "data": {
      "text/plain": [
       "RemoteChannel{Channel{Int64}}(1, 1, 25)"
      ]
     },
     "execution_count": 30,
     "metadata": {},
     "output_type": "execute_result"
    },
    {
     "name": "stdout",
     "output_type": "stream",
     "text": [
      "      From worker 4:\thi there, I'm running on pid=4\n"
     ]
    }
   ],
   "source": [
    "put!(ch_in, 2)"
   ]
  },
  {
   "cell_type": "code",
   "execution_count": 31,
   "id": "e11f614b-4819-4951-85da-1b4da923f515",
   "metadata": {},
   "outputs": [
    {
     "data": {
      "text/plain": [
       "1-element Vector{Int64}:\n",
       " 3"
      ]
     },
     "execution_count": 31,
     "metadata": {},
     "output_type": "execute_result"
    }
   ],
   "source": [
    "collect!(ch_out)"
   ]
  },
  {
   "cell_type": "markdown",
   "id": "47cac5a5-79a5-4cae-a3d1-9d98ada40492",
   "metadata": {},
   "source": [
    "## Test deliberate failure of worker"
   ]
  },
  {
   "cell_type": "code",
   "execution_count": 39,
   "id": "b2bf7297-2afa-44ce-9cc6-c79a8f748cc0",
   "metadata": {},
   "outputs": [
    {
     "data": {
      "text/plain": [
       "RemoteChannel{Channel{Int64}}(1, 1, 25)"
      ]
     },
     "execution_count": 39,
     "metadata": {},
     "output_type": "execute_result"
    },
    {
     "name": "stdout",
     "output_type": "stream",
     "text": [
      "      From worker 4:\thi there, I'm running on pid=4\n",
      "      From worker 2:\tWorker 4 completed\n"
     ]
    }
   ],
   "source": [
    "put!(ch_in, 1)"
   ]
  },
  {
   "cell_type": "code",
   "execution_count": 40,
   "id": "07293c24-421f-4cf6-ab75-6886da0160ff",
   "metadata": {},
   "outputs": [
    {
     "data": {
      "text/plain": [
       "1-element Vector{ControlMessage}:\n",
       " ControlMessage(DistributedStreams.completed, 4, ReturnPayload(RemoteException(4, CapturedException(ErrorException(\"bad input\"), Any[(error at error.jl:35, 1), (test_fn at In[8]:7, 1), (macro expansion at task.jl:479 [inlined], 1), (remote_worker at DistributedStreams.jl:156, 1), (#invokelatest#2 at essentials.jl:892, 1), (invokelatest at essentials.jl:889, 1), (#107 at process_messages.jl:283, 1), (run_work_thunk at process_messages.jl:70, 1), (run_work_thunk at process_messages.jl:79, 1), (#100 at process_messages.jl:88, 1)]))))"
      ]
     },
     "execution_count": 40,
     "metadata": {},
     "output_type": "execute_result"
    }
   ],
   "source": [
    "collect!(control_responses)"
   ]
  },
  {
   "cell_type": "markdown",
   "id": "7ea2629d-434c-4e6c-8210-c21c541e0b02",
   "metadata": {},
   "source": [
    "## Test Start Stop"
   ]
  },
  {
   "cell_type": "code",
   "execution_count": 33,
   "id": "010ab81a-54b7-4891-bbc1-0d2ba76cfa4c",
   "metadata": {},
   "outputs": [
    {
     "data": {
      "text/plain": [
       "RemoteChannel{Channel{ControlMessage}}(1, 1, 19)"
      ]
     },
     "execution_count": 33,
     "metadata": {},
     "output_type": "execute_result"
    },
    {
     "name": "stdout",
     "output_type": "stream",
     "text": [
      "      From worker 2:\tStart instruction for 4\n"
     ]
    }
   ],
   "source": [
    "m = ControlMessage(\n",
    "    message_type=DistributedStreams.start,\n",
    "    target=4,\n",
    "    payload=m_f.payload\n",
    ")\n",
    "\n",
    "put!(control_messages, m)"
   ]
  },
  {
   "cell_type": "code",
   "execution_count": 34,
   "id": "036a0c8f-7642-44b5-9496-d0a86b347091",
   "metadata": {},
   "outputs": [
    {
     "data": {
      "text/plain": [
       "1-element Vector{ControlMessage}:\n",
       " ControlMessage(DistributedStreams.started, 4, nothing)"
      ]
     },
     "execution_count": 34,
     "metadata": {},
     "output_type": "execute_result"
    }
   ],
   "source": [
    "collect!(control_responses)"
   ]
  },
  {
   "cell_type": "code",
   "execution_count": 29,
   "id": "990d73b3-7fa5-4017-9318-f100f2613355",
   "metadata": {
    "tags": []
   },
   "outputs": [
    {
     "data": {
      "text/plain": [
       "RemoteChannel{Channel{ControlMessage}}(1, 1, 19)"
      ]
     },
     "execution_count": 29,
     "metadata": {},
     "output_type": "execute_result"
    },
    {
     "name": "stdout",
     "output_type": "stream",
     "text": [
      "      From worker 2:\tStop instruction for 4\n"
     ]
    }
   ],
   "source": [
    "m = ControlMessage(\n",
    "    message_type=DistributedStreams.stop,\n",
    "    target=4,\n",
    "    payload=nothing\n",
    ")\n",
    "\n",
    "put!(control_messages, m)"
   ]
  },
  {
   "cell_type": "code",
   "execution_count": 32,
   "id": "21e177e2-b6bf-45a7-b66b-e9820a209915",
   "metadata": {
    "tags": []
   },
   "outputs": [
    {
     "data": {
      "text/plain": [
       "ControlMessage[]"
      ]
     },
     "execution_count": 32,
     "metadata": {},
     "output_type": "execute_result"
    }
   ],
   "source": [
    "collect!(control_responses)"
   ]
  },
  {
   "cell_type": "code",
   "execution_count": 34,
   "id": "ef8323a8-6acd-4a63-a19a-ce92efc29bb5",
   "metadata": {
    "tags": []
   },
   "outputs": [
    {
     "data": {
      "text/plain": [
       "1-element Vector{ControlMessage}:\n",
       " ControlMessage(DistributedStreams.completed, 4, ReturnPayload(ProcessExitedException(4)))"
      ]
     },
     "execution_count": 34,
     "metadata": {},
     "output_type": "execute_result"
    }
   ],
   "source": [
    "collect!(control_responses)"
   ]
  },
  {
   "cell_type": "code",
   "execution_count": 33,
   "id": "ab5d395c-2553-445f-8fb6-dc06db9896c1",
   "metadata": {
    "tags": []
   },
   "outputs": [
    {
     "data": {
      "text/plain": [
       "Task (done) @0x00007af5b2b61aa0"
      ]
     },
     "execution_count": 33,
     "metadata": {},
     "output_type": "execute_result"
    },
    {
     "name": "stdout",
     "output_type": "stream",
     "text": [
      "      From worker 2:\tWorker 4 completed\n"
     ]
    }
   ],
   "source": [
    "rmprocs(4)"
   ]
  },
  {
   "cell_type": "code",
   "execution_count": 35,
   "id": "88f0324d-62d6-4c8b-9c13-8829bdb6c416",
   "metadata": {},
   "outputs": [
    {
     "data": {
      "text/plain": [
       "1-element Vector{Int64}:\n",
       " 2"
      ]
     },
     "execution_count": 35,
     "metadata": {},
     "output_type": "execute_result"
    }
   ],
   "source": [
    "workers()"
   ]
  },
  {
   "cell_type": "markdown",
   "id": "64be0426-859c-4222-8ba2-3f7e58c76059",
   "metadata": {},
   "source": [
    "## Test Graceful Shutdown"
   ]
  },
  {
   "cell_type": "code",
   "execution_count": 36,
   "id": "ec2f479e-630c-4521-a1bd-002f31b09052",
   "metadata": {},
   "outputs": [
    {
     "name": "stdout",
     "output_type": "stream",
     "text": [
      "      From worker 2:\tSentinel on 2 is shutting down\n"
     ]
    }
   ],
   "source": [
    "stop_workers!(control; workers=[2])"
   ]
  },
  {
   "cell_type": "code",
   "execution_count": 37,
   "id": "c2f0d9cc-bca4-4c51-9770-86127fada25e",
   "metadata": {},
   "outputs": [
    {
     "data": {
      "text/plain": [
       "Task (done) @0x00007af5aff7d460"
      ]
     },
     "execution_count": 37,
     "metadata": {},
     "output_type": "execute_result"
    }
   ],
   "source": [
    "rmprocs()"
   ]
  },
  {
   "cell_type": "code",
   "execution_count": 38,
   "id": "b0e5ff13-121e-4238-ad27-8e3762b9138d",
   "metadata": {},
   "outputs": [
    {
     "data": {
      "text/plain": [
       "false"
      ]
     },
     "execution_count": 38,
     "metadata": {},
     "output_type": "execute_result"
    }
   ],
   "source": [
    "sentinel_running()"
   ]
  }
 ],
 "metadata": {
  "kernelspec": {
   "display_name": "Juliaup 1.10.2",
   "language": "julia",
   "name": "juliaup-1.10"
  },
  "language_info": {
   "file_extension": ".jl",
   "mimetype": "application/julia",
   "name": "julia",
   "version": "1.10.2"
  }
 },
 "nbformat": 4,
 "nbformat_minor": 5
}
