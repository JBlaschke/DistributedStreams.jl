{
 "cells": [
  {
   "cell_type": "code",
   "execution_count": 1,
   "id": "1f573589-dc84-46e7-942c-e3102965ef0e",
   "metadata": {
    "tags": []
   },
   "outputs": [
    {
     "name": "stderr",
     "output_type": "stream",
     "text": [
      "\u001b[32m\u001b[1m  Activating\u001b[22m\u001b[39m project at `~/Developer/DistributedStreams`\n"
     ]
    }
   ],
   "source": [
    "import Pkg\n",
    "Pkg.activate(\".\")"
   ]
  },
  {
   "cell_type": "code",
   "execution_count": 2,
   "id": "b9acaed0-93e7-4103-b1b8-f4b5db0cd1c4",
   "metadata": {
    "tags": []
   },
   "outputs": [],
   "source": [
    "using Distributed"
   ]
  },
  {
   "cell_type": "code",
   "execution_count": 3,
   "id": "ec917fca-1fa5-4868-9eb1-bafd577b9fdc",
   "metadata": {
    "tags": []
   },
   "outputs": [
    {
     "data": {
      "text/plain": [
       "2-element Vector{Int64}:\n",
       " 2\n",
       " 3"
      ]
     },
     "execution_count": 3,
     "metadata": {},
     "output_type": "execute_result"
    }
   ],
   "source": [
    "addprocs(2)"
   ]
  },
  {
   "cell_type": "code",
   "execution_count": 4,
   "id": "553c864f-9ce0-466f-9d66-0ffaedc3b1da",
   "metadata": {
    "tags": []
   },
   "outputs": [
    {
     "name": "stderr",
     "output_type": "stream",
     "text": [
      "\u001b[32m\u001b[1mPrecompiling\u001b[22m\u001b[39m DistributedStreams\n",
      "\u001b[32m  ✓ \u001b[39mDistributedStreams\n",
      "  1 dependency successfully precompiled in 2 seconds. 19 already precompiled.\n"
     ]
    }
   ],
   "source": [
    "@everywhere using Base: @kwdef\n",
    "@everywhere using Distributed, DistributedStreams, DistributedArrays"
   ]
  },
  {
   "cell_type": "code",
   "execution_count": 5,
   "id": "78cd5e8a-0b88-46ec-95a5-99bc394716a5",
   "metadata": {
    "tags": []
   },
   "outputs": [
    {
     "data": {
      "text/plain": [
       "(RemoteChannel{Channel{ControlMessage}}(1, 1, 19), RemoteChannel{Channel{ControlMessage}}(1, 1, 20), @NamedTuple{worker::Int64, flag::Base.RefValue{Bool}}[(worker = 2, flag = Base.RefValue{Bool}(false))], Any[Future(2, 1, 21, ReentrantLock(nothing, 0x00000000, 0x00, Base.GenericCondition{Base.Threads.SpinLock}(Base.IntrusiveLinkedList{Task}(nothing, nothing), Base.Threads.SpinLock(0)), (1, 139994581224544, 139994735829000)), nothing)])"
      ]
     },
     "execution_count": 5,
     "metadata": {},
     "output_type": "execute_result"
    }
   ],
   "source": [
    "control_messages, control_responses, distributed_control, status = launch_sentinel(;\n",
    "    workers=[2], verbose=true, buffer_size=1024, timeout=1\n",
    ")"
   ]
  },
  {
   "cell_type": "code",
   "execution_count": 6,
   "id": "568ab3d5-a0de-48c4-93fd-b2779c5ba5d5",
   "metadata": {
    "tags": []
   },
   "outputs": [
    {
     "data": {
      "text/plain": [
       "1-element DArray{@NamedTuple{worker::Int64, flag::Base.RefValue{Bool}}, 1, Vector{@NamedTuple{worker::Int64, flag::Base.RefValue{Bool}}}}:\n",
       " (worker = 2, flag = Base.RefValue{Bool}(false))"
      ]
     },
     "execution_count": 6,
     "metadata": {},
     "output_type": "execute_result"
    }
   ],
   "source": [
    "distributed_control"
   ]
  },
  {
   "cell_type": "code",
   "execution_count": 8,
   "id": "0d90418a-5bf4-40ec-8455-cd121567aeea",
   "metadata": {},
   "outputs": [
    {
     "data": {
      "text/plain": [
       "1-element Vector{Any}:\n",
       " Future(2, 1, 21, ReentrantLock(nothing, 0x00000000, 0x00, Base.GenericCondition{Base.Threads.SpinLock}(Base.IntrusiveLinkedList{Task}(nothing, nothing), Base.Threads.SpinLock(0)), (1, 139994581224544, 139994735829000)), nothing)"
      ]
     },
     "execution_count": 8,
     "metadata": {},
     "output_type": "execute_result"
    }
   ],
   "source": [
    "status"
   ]
  },
  {
   "cell_type": "code",
   "execution_count": 9,
   "id": "d923272b-c874-448a-be93-b977bc98bf8d",
   "metadata": {
    "tags": []
   },
   "outputs": [],
   "source": [
    "ch_in = RemoteChannel(()->Channel{Int64}(32), 1)\n",
    "ch_out = RemoteChannel(()->Channel{Int64}(32), 1)\n",
    "\n",
    "@everywhere function test_fn(i)\n",
    "    println(\"hi there, I'm running on pid=$(myid())\")\n",
    "    sleep(2)\n",
    "    return i+1\n",
    "end"
   ]
  },
  {
   "cell_type": "code",
   "execution_count": 10,
   "id": "207fd9c7-8a1b-41f1-bb07-3342246a5114",
   "metadata": {
    "tags": []
   },
   "outputs": [
    {
     "data": {
      "text/plain": [
       "ControlMessage(DistributedStreams.start, 3, test_fn, RemoteChannel{Channel{Int64}}(1, 1, 28), RemoteChannel{Channel{Int64}}(1, 1, 29))"
      ]
     },
     "execution_count": 10,
     "metadata": {},
     "output_type": "execute_result"
    }
   ],
   "source": [
    "m_f = ControlMessage(\n",
    "    message_type=DistributedStreams.start,\n",
    "    target=3,\n",
    "    func_f=test_fn,\n",
    "    func_in=ch_in,\n",
    "    func_out=ch_out\n",
    ")"
   ]
  },
  {
   "cell_type": "code",
   "execution_count": 11,
   "id": "286f68da-b286-49fe-b7b5-5a1f208f696f",
   "metadata": {
    "tags": []
   },
   "outputs": [
    {
     "data": {
      "text/plain": [
       "RemoteChannel{Channel{ControlMessage}}(1, 1, 19)"
      ]
     },
     "execution_count": 11,
     "metadata": {},
     "output_type": "execute_result"
    },
    {
     "name": "stdout",
     "output_type": "stream",
     "text": [
      "      From worker 2:\tStart instruction for 3\n",
      "      From worker 2:\tStarted\n"
     ]
    }
   ],
   "source": [
    "put!(control_messages, m_f)"
   ]
  },
  {
   "cell_type": "code",
   "execution_count": 12,
   "id": "80cdf8bc-8377-4ad8-88ff-2efb481b0742",
   "metadata": {
    "tags": []
   },
   "outputs": [
    {
     "data": {
      "text/plain": [
       "ControlMessage[]"
      ]
     },
     "execution_count": 12,
     "metadata": {},
     "output_type": "execute_result"
    }
   ],
   "source": [
    "collect!(control_responses)"
   ]
  },
  {
   "cell_type": "code",
   "execution_count": 13,
   "id": "9aeaeb1f-e3a2-48a0-8f66-9edda937e271",
   "metadata": {
    "tags": []
   },
   "outputs": [
    {
     "data": {
      "text/plain": [
       "RemoteChannel{Channel{Int64}}(1, 1, 28)"
      ]
     },
     "execution_count": 13,
     "metadata": {},
     "output_type": "execute_result"
    },
    {
     "name": "stdout",
     "output_type": "stream",
     "text": [
      "      From worker 3:\thi there, I'm running on pid=3\n"
     ]
    }
   ],
   "source": [
    "put!(ch_in, 10)"
   ]
  },
  {
   "cell_type": "code",
   "execution_count": 14,
   "id": "07d291e3-d6e6-406f-9be9-153ed1007ed3",
   "metadata": {
    "tags": []
   },
   "outputs": [
    {
     "data": {
      "text/plain": [
       "1-element Vector{Int64}:\n",
       " 11"
      ]
     },
     "execution_count": 14,
     "metadata": {},
     "output_type": "execute_result"
    }
   ],
   "source": [
    "collect!(ch_out)"
   ]
  },
  {
   "cell_type": "code",
   "execution_count": 15,
   "id": "7a7e3874-9c83-4217-ba25-ca4609d14344",
   "metadata": {},
   "outputs": [
    {
     "data": {
      "text/plain": [
       "1-element Vector{Any}:\n",
       " Future(2, 1, 21, ReentrantLock(nothing, 0x00000000, 0x00, Base.GenericCondition{Base.Threads.SpinLock}(Base.IntrusiveLinkedList{Task}(nothing, nothing), Base.Threads.SpinLock(0)), (1, 139994581224544, 139994735829000)), nothing)"
      ]
     },
     "execution_count": 15,
     "metadata": {},
     "output_type": "execute_result"
    }
   ],
   "source": [
    "status"
   ]
  },
  {
   "cell_type": "code",
   "execution_count": 18,
   "id": "c05b3fd5-ee3d-457e-ab20-59bc28165969",
   "metadata": {},
   "outputs": [
    {
     "ename": "LoadError",
     "evalue": "On worker 2:\nMethodError: \u001b[0mCannot `convert` an object of type \n\u001b[0m  \u001b[92mTuple{DArray{@NamedTuple{worker::Int64, safe::Base.RefValue{Bool}, flag::Base.RefValue{Bool}}, 1, Vector{@NamedTuple{worker::Int64, safe::Base.RefValue{Bool}, flag::Base.RefValue{Bool}}}}, Vector{Any}}\u001b[39m\u001b[0m to an object of type \n\u001b[0m  \u001b[91mDArray\u001b[39m\n\n\u001b[0mClosest candidates are:\n\u001b[0m  convert(::Type{T}, \u001b[91m::T\u001b[39m) where T\n\u001b[0m\u001b[90m   @\u001b[39m \u001b[90mBase\u001b[39m \u001b[90m\u001b[4mBase.jl:84\u001b[24m\u001b[39m\n\u001b[0m  convert(::Type{T}, \u001b[91m::LinearAlgebra.Factorization\u001b[39m) where T<:AbstractArray\n\u001b[0m\u001b[90m   @\u001b[39m \u001b[33mLinearAlgebra\u001b[39m \u001b[90m~/local/juliaup/juliaup/julia-1.10.1+0.x64.linux.gnu/share/julia/stdlib/v1.10/LinearAlgebra/src/\u001b[39m\u001b[90m\u001b[4mfactorization.jl:108\u001b[24m\u001b[39m\n\u001b[0m  convert(::Type{T}, \u001b[91m::T\u001b[39m) where T<:AbstractArray\n\u001b[0m\u001b[90m   @\u001b[39m \u001b[90mBase\u001b[39m \u001b[90m\u001b[4mabstractarray.jl:16\u001b[24m\u001b[39m\n\u001b[0m  ...\n\nStacktrace:\n [1] \u001b[0m\u001b[1msetindex!\u001b[22m\n\u001b[90m   @\u001b[39m \u001b[90m./\u001b[39m\u001b[90m\u001b[4mdict.jl:376\u001b[24m\u001b[39m\n [2] \u001b[0m\u001b[1mremote_worker\u001b[22m\n\u001b[90m   @\u001b[39m \u001b[90m~/Developer/DistributedStreams/src/\u001b[39m\u001b[90m\u001b[4mDistributedStreams.jl:442\u001b[24m\u001b[39m\n [3] \u001b[0m\u001b[1m#invokelatest#2\u001b[22m\n\u001b[90m   @\u001b[39m \u001b[90m./\u001b[39m\u001b[90m\u001b[4messentials.jl:892\u001b[24m\u001b[39m\n [4] \u001b[0m\u001b[1minvokelatest\u001b[22m\n\u001b[90m   @\u001b[39m \u001b[90m./\u001b[39m\u001b[90m\u001b[4messentials.jl:889\u001b[24m\u001b[39m\n [5] \u001b[0m\u001b[1m#107\u001b[22m\n\u001b[90m   @\u001b[39m \u001b[90m~/local/juliaup/juliaup/julia-1.10.1+0.x64.linux.gnu/share/julia/stdlib/v1.10/Distributed/src/\u001b[39m\u001b[90m\u001b[4mprocess_messages.jl:282\u001b[24m\u001b[39m\n [6] \u001b[0m\u001b[1mrun_work_thunk\u001b[22m\n\u001b[90m   @\u001b[39m \u001b[90m~/local/juliaup/juliaup/julia-1.10.1+0.x64.linux.gnu/share/julia/stdlib/v1.10/Distributed/src/\u001b[39m\u001b[90m\u001b[4mprocess_messages.jl:70\u001b[24m\u001b[39m\n [7] \u001b[0m\u001b[1mrun_work_thunk\u001b[22m\n\u001b[90m   @\u001b[39m \u001b[90m~/local/juliaup/juliaup/julia-1.10.1+0.x64.linux.gnu/share/julia/stdlib/v1.10/Distributed/src/\u001b[39m\u001b[90m\u001b[4mprocess_messages.jl:79\u001b[24m\u001b[39m\n [8] \u001b[0m\u001b[1m#100\u001b[22m\n\u001b[90m   @\u001b[39m \u001b[90m~/local/juliaup/juliaup/julia-1.10.1+0.x64.linux.gnu/share/julia/stdlib/v1.10/Distributed/src/\u001b[39m\u001b[90m\u001b[4mprocess_messages.jl:88\u001b[24m\u001b[39m",
     "output_type": "error",
     "traceback": [
      "On worker 2:\nMethodError: \u001b[0mCannot `convert` an object of type \n\u001b[0m  \u001b[92mTuple{DArray{@NamedTuple{worker::Int64, safe::Base.RefValue{Bool}, flag::Base.RefValue{Bool}}, 1, Vector{@NamedTuple{worker::Int64, safe::Base.RefValue{Bool}, flag::Base.RefValue{Bool}}}}, Vector{Any}}\u001b[39m\u001b[0m to an object of type \n\u001b[0m  \u001b[91mDArray\u001b[39m\n\n\u001b[0mClosest candidates are:\n\u001b[0m  convert(::Type{T}, \u001b[91m::T\u001b[39m) where T\n\u001b[0m\u001b[90m   @\u001b[39m \u001b[90mBase\u001b[39m \u001b[90m\u001b[4mBase.jl:84\u001b[24m\u001b[39m\n\u001b[0m  convert(::Type{T}, \u001b[91m::LinearAlgebra.Factorization\u001b[39m) where T<:AbstractArray\n\u001b[0m\u001b[90m   @\u001b[39m \u001b[33mLinearAlgebra\u001b[39m \u001b[90m~/local/juliaup/juliaup/julia-1.10.1+0.x64.linux.gnu/share/julia/stdlib/v1.10/LinearAlgebra/src/\u001b[39m\u001b[90m\u001b[4mfactorization.jl:108\u001b[24m\u001b[39m\n\u001b[0m  convert(::Type{T}, \u001b[91m::T\u001b[39m) where T<:AbstractArray\n\u001b[0m\u001b[90m   @\u001b[39m \u001b[90mBase\u001b[39m \u001b[90m\u001b[4mabstractarray.jl:16\u001b[24m\u001b[39m\n\u001b[0m  ...\n\nStacktrace:\n [1] \u001b[0m\u001b[1msetindex!\u001b[22m\n\u001b[90m   @\u001b[39m \u001b[90m./\u001b[39m\u001b[90m\u001b[4mdict.jl:376\u001b[24m\u001b[39m\n [2] \u001b[0m\u001b[1mremote_worker\u001b[22m\n\u001b[90m   @\u001b[39m \u001b[90m~/Developer/DistributedStreams/src/\u001b[39m\u001b[90m\u001b[4mDistributedStreams.jl:442\u001b[24m\u001b[39m\n [3] \u001b[0m\u001b[1m#invokelatest#2\u001b[22m\n\u001b[90m   @\u001b[39m \u001b[90m./\u001b[39m\u001b[90m\u001b[4messentials.jl:892\u001b[24m\u001b[39m\n [4] \u001b[0m\u001b[1minvokelatest\u001b[22m\n\u001b[90m   @\u001b[39m \u001b[90m./\u001b[39m\u001b[90m\u001b[4messentials.jl:889\u001b[24m\u001b[39m\n [5] \u001b[0m\u001b[1m#107\u001b[22m\n\u001b[90m   @\u001b[39m \u001b[90m~/local/juliaup/juliaup/julia-1.10.1+0.x64.linux.gnu/share/julia/stdlib/v1.10/Distributed/src/\u001b[39m\u001b[90m\u001b[4mprocess_messages.jl:282\u001b[24m\u001b[39m\n [6] \u001b[0m\u001b[1mrun_work_thunk\u001b[22m\n\u001b[90m   @\u001b[39m \u001b[90m~/local/juliaup/juliaup/julia-1.10.1+0.x64.linux.gnu/share/julia/stdlib/v1.10/Distributed/src/\u001b[39m\u001b[90m\u001b[4mprocess_messages.jl:70\u001b[24m\u001b[39m\n [7] \u001b[0m\u001b[1mrun_work_thunk\u001b[22m\n\u001b[90m   @\u001b[39m \u001b[90m~/local/juliaup/juliaup/julia-1.10.1+0.x64.linux.gnu/share/julia/stdlib/v1.10/Distributed/src/\u001b[39m\u001b[90m\u001b[4mprocess_messages.jl:79\u001b[24m\u001b[39m\n [8] \u001b[0m\u001b[1m#100\u001b[22m\n\u001b[90m   @\u001b[39m \u001b[90m~/local/juliaup/juliaup/julia-1.10.1+0.x64.linux.gnu/share/julia/stdlib/v1.10/Distributed/src/\u001b[39m\u001b[90m\u001b[4mprocess_messages.jl:88\u001b[24m\u001b[39m",
      "",
      "Stacktrace:",
      " [1] remotecall_fetch(f::Function, w::Distributed.Worker, args::Distributed.RRID; kwargs::@Kwargs{})",
      "   @ Distributed ~/local/juliaup/juliaup/julia-1.10.1+0.x64.linux.gnu/share/julia/stdlib/v1.10/Distributed/src/remotecall.jl:465",
      " [2] remotecall_fetch(f::Function, w::Distributed.Worker, args::Distributed.RRID)",
      "   @ Distributed ~/local/juliaup/juliaup/julia-1.10.1+0.x64.linux.gnu/share/julia/stdlib/v1.10/Distributed/src/remotecall.jl:454",
      " [3] remotecall_fetch",
      "   @ ~/local/juliaup/juliaup/julia-1.10.1+0.x64.linux.gnu/share/julia/stdlib/v1.10/Distributed/src/remotecall.jl:492 [inlined]",
      " [4] call_on_owner",
      "   @ ~/local/juliaup/juliaup/julia-1.10.1+0.x64.linux.gnu/share/julia/stdlib/v1.10/Distributed/src/remotecall.jl:565 [inlined]",
      " [5] fetch(r::Future)",
      "   @ Distributed ~/local/juliaup/juliaup/julia-1.10.1+0.x64.linux.gnu/share/julia/stdlib/v1.10/Distributed/src/remotecall.jl:619",
      " [6] top-level scope",
      "   @ In[18]:1"
     ]
    }
   ],
   "source": [
    "fetch(status[1])"
   ]
  },
  {
   "cell_type": "code",
   "execution_count": 19,
   "id": "98ea009e-699a-47fb-a3f7-5f911312bdca",
   "metadata": {},
   "outputs": [
    {
     "data": {
      "text/plain": [
       "1-element Vector{Any}:\n",
       " Future(2, 1, 21, ReentrantLock(nothing, 0x00000000, 0x00, Base.GenericCondition{Base.Threads.SpinLock}(Base.IntrusiveLinkedList{Task}(nothing, nothing), Base.Threads.SpinLock(0)), (1, 139994581224544, 139994735829000)), nothing)"
      ]
     },
     "execution_count": 19,
     "metadata": {},
     "output_type": "execute_result"
    }
   ],
   "source": [
    "status"
   ]
  },
  {
   "cell_type": "code",
   "execution_count": 37,
   "id": "9f2c6537-a887-4a3f-a65a-562aa1f47a59",
   "metadata": {
    "tags": []
   },
   "outputs": [
    {
     "data": {
      "text/plain": [
       "Task (done) @0x00007f89824ed460"
      ]
     },
     "execution_count": 37,
     "metadata": {},
     "output_type": "execute_result"
    }
   ],
   "source": [
    "rmprocs(3)"
   ]
  },
  {
   "cell_type": "code",
   "execution_count": 21,
   "id": "03d5f551-f301-4c5f-8f35-c94e550d1fc7",
   "metadata": {
    "tags": []
   },
   "outputs": [
    {
     "data": {
      "text/plain": [
       "ControlMessage[]"
      ]
     },
     "execution_count": 21,
     "metadata": {},
     "output_type": "execute_result"
    }
   ],
   "source": [
    "collect!(control_responses)"
   ]
  },
  {
   "cell_type": "code",
   "execution_count": 22,
   "id": "da0291a7-82b9-48fc-9be7-b570183be5c6",
   "metadata": {},
   "outputs": [
    {
     "data": {
      "text/plain": [
       "1-element DArray{@NamedTuple{worker::Int64, flag::Base.RefValue{Bool}}, 1, Vector{@NamedTuple{worker::Int64, flag::Base.RefValue{Bool}}}}:\n",
       " (worker = 2, flag = Base.RefValue{Bool}(false))"
      ]
     },
     "execution_count": 22,
     "metadata": {},
     "output_type": "execute_result"
    }
   ],
   "source": [
    "distributed_control"
   ]
  },
  {
   "cell_type": "code",
   "execution_count": 17,
   "id": "0b5dbbfd-10f0-493f-9bac-a67f550d5409",
   "metadata": {
    "tags": []
   },
   "outputs": [],
   "source": [
    "addprocs(1)\n",
    "@everywhere using Distributed, DistributedStreams, DistributedArrays"
   ]
  },
  {
   "cell_type": "code",
   "execution_count": 18,
   "id": "35ccddf3-8554-45f5-818a-c0eb77314b5c",
   "metadata": {
    "tags": []
   },
   "outputs": [
    {
     "data": {
      "text/plain": [
       "ControlMessage(DistributedStreams.start, 4, test_fn, RemoteChannel{Channel{Int64}}(1, 1, 28), RemoteChannel{Channel{Int64}}(1, 1, 29))"
      ]
     },
     "execution_count": 18,
     "metadata": {},
     "output_type": "execute_result"
    }
   ],
   "source": [
    "# ch_in = RemoteChannel(()->Channel{Int64}(32), 1)\n",
    "# ch_out = RemoteChannel(()->Channel{Int64}(32), 1)\n",
    "\n",
    "m = ControlMessage(\n",
    "    message_type=DistributedStreams.start,\n",
    "    target=4,\n",
    "    func_f=m_f.func_f,\n",
    "    func_in=m_f.func_in,\n",
    "    func_out=m_f.func_out\n",
    ")"
   ]
  },
  {
   "cell_type": "code",
   "execution_count": 19,
   "id": "538ab80d-89a0-4067-932c-ed1caa98097a",
   "metadata": {
    "tags": []
   },
   "outputs": [
    {
     "data": {
      "text/plain": [
       "RemoteChannel{Channel{ControlMessage}}(1, 1, 19)"
      ]
     },
     "execution_count": 19,
     "metadata": {},
     "output_type": "execute_result"
    }
   ],
   "source": [
    "put!(control_messages, m)"
   ]
  },
  {
   "cell_type": "code",
   "execution_count": 20,
   "id": "cc25d853-b58a-4933-85ae-27254629cb84",
   "metadata": {
    "tags": []
   },
   "outputs": [
    {
     "data": {
      "text/plain": [
       "ControlMessage[]"
      ]
     },
     "execution_count": 20,
     "metadata": {},
     "output_type": "execute_result"
    }
   ],
   "source": [
    "collect!(control_responses)"
   ]
  },
  {
   "cell_type": "code",
   "execution_count": 21,
   "id": "990d73b3-7fa5-4017-9318-f100f2613355",
   "metadata": {
    "tags": []
   },
   "outputs": [
    {
     "data": {
      "text/plain": [
       "RemoteChannel{Channel{ControlMessage}}(1, 1, 19)"
      ]
     },
     "execution_count": 21,
     "metadata": {},
     "output_type": "execute_result"
    }
   ],
   "source": [
    "m = ControlMessage(\n",
    "    message_type=DistributedStreams.stop,\n",
    "    target=4,\n",
    "    func_f=nothing,\n",
    "    func_in=nothing,\n",
    "    func_out=nothing\n",
    ")\n",
    "\n",
    "put!(control_messages, m)"
   ]
  },
  {
   "cell_type": "code",
   "execution_count": 22,
   "id": "21e177e2-b6bf-45a7-b66b-e9820a209915",
   "metadata": {
    "tags": []
   },
   "outputs": [
    {
     "data": {
      "text/plain": [
       "ControlMessage[]"
      ]
     },
     "execution_count": 22,
     "metadata": {},
     "output_type": "execute_result"
    }
   ],
   "source": [
    "collect!(control_responses)"
   ]
  },
  {
   "cell_type": "code",
   "execution_count": 23,
   "id": "ab5d395c-2553-445f-8fb6-dc06db9896c1",
   "metadata": {
    "tags": []
   },
   "outputs": [
    {
     "data": {
      "text/plain": [
       "Task (done) @0x00007f653cf3f530"
      ]
     },
     "execution_count": 23,
     "metadata": {},
     "output_type": "execute_result"
    }
   ],
   "source": [
    "rmprocs(4)"
   ]
  },
  {
   "cell_type": "code",
   "execution_count": 24,
   "id": "ef8323a8-6acd-4a63-a19a-ce92efc29bb5",
   "metadata": {
    "tags": []
   },
   "outputs": [
    {
     "data": {
      "text/plain": [
       "ControlMessage[]"
      ]
     },
     "execution_count": 24,
     "metadata": {},
     "output_type": "execute_result"
    }
   ],
   "source": [
    "collect!(control_responses)"
   ]
  },
  {
   "cell_type": "code",
   "execution_count": 28,
   "id": "88f0324d-62d6-4c8b-9c13-8829bdb6c416",
   "metadata": {},
   "outputs": [
    {
     "data": {
      "text/plain": [
       "1-element Vector{Int64}:\n",
       " 2"
      ]
     },
     "execution_count": 28,
     "metadata": {},
     "output_type": "execute_result"
    }
   ],
   "source": [
    "workers()"
   ]
  },
  {
   "cell_type": "code",
   "execution_count": 29,
   "id": "ec2f479e-630c-4521-a1bd-002f31b09052",
   "metadata": {},
   "outputs": [
    {
     "name": "stdout",
     "output_type": "stream",
     "text": [
      "      From worker 2:\tSentinel on 2 is shutting down\n"
     ]
    }
   ],
   "source": [
    "stop_workers!(distributed_control; workers=[2])"
   ]
  },
  {
   "cell_type": "code",
   "execution_count": 30,
   "id": "c2f0d9cc-bca4-4c51-9770-86127fada25e",
   "metadata": {},
   "outputs": [
    {
     "data": {
      "text/plain": [
       "Task (done) @0x00007f3c2b37a0e0"
      ]
     },
     "execution_count": 30,
     "metadata": {},
     "output_type": "execute_result"
    }
   ],
   "source": [
    "rmprocs()"
   ]
  },
  {
   "cell_type": "code",
   "execution_count": null,
   "id": "b0e5ff13-121e-4238-ad27-8e3762b9138d",
   "metadata": {},
   "outputs": [],
   "source": []
  }
 ],
 "metadata": {
  "kernelspec": {
   "display_name": "Julia Brew 1.10.1",
   "language": "julia",
   "name": "julia-brew-1.10"
  },
  "language_info": {
   "file_extension": ".jl",
   "mimetype": "application/julia",
   "name": "julia",
   "version": "1.10.1"
  }
 },
 "nbformat": 4,
 "nbformat_minor": 5
}
