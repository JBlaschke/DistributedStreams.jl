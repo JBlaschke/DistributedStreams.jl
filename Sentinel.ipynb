{
 "cells": [
  {
   "cell_type": "code",
   "execution_count": 1,
   "id": "1f573589-dc84-46e7-942c-e3102965ef0e",
   "metadata": {
    "tags": []
   },
   "outputs": [
    {
     "name": "stderr",
     "output_type": "stream",
     "text": [
      "\u001b[32m\u001b[1m  Activating\u001b[22m\u001b[39m project at `~/Developer/DistributedStreams`\n"
     ]
    }
   ],
   "source": [
    "import Pkg\n",
    "Pkg.activate(\".\")"
   ]
  },
  {
   "cell_type": "code",
   "execution_count": 2,
   "id": "b9acaed0-93e7-4103-b1b8-f4b5db0cd1c4",
   "metadata": {
    "tags": []
   },
   "outputs": [],
   "source": [
    "using Distributed"
   ]
  },
  {
   "cell_type": "code",
   "execution_count": 3,
   "id": "ec917fca-1fa5-4868-9eb1-bafd577b9fdc",
   "metadata": {
    "tags": []
   },
   "outputs": [
    {
     "data": {
      "text/plain": [
       "2-element Vector{Int64}:\n",
       " 2\n",
       " 3"
      ]
     },
     "execution_count": 3,
     "metadata": {},
     "output_type": "execute_result"
    }
   ],
   "source": [
    "addprocs(2)"
   ]
  },
  {
   "cell_type": "code",
   "execution_count": 4,
   "id": "553c864f-9ce0-466f-9d66-0ffaedc3b1da",
   "metadata": {
    "tags": []
   },
   "outputs": [],
   "source": [
    "@everywhere using Base: @kwdef\n",
    "@everywhere using Distributed, DistributedStreams, DistributedArrays"
   ]
  },
  {
   "cell_type": "code",
   "execution_count": 5,
   "id": "78cd5e8a-0b88-46ec-95a5-99bc394716a5",
   "metadata": {
    "tags": []
   },
   "outputs": [
    {
     "data": {
      "text/plain": [
       "(RemoteChannel{Channel{ControlMessage}}(1, 1, 19), RemoteChannel{Channel{ControlMessage}}(1, 1, 20), @NamedTuple{worker::Int64, flag::Base.RefValue{Bool}}[(worker = 2, flag = Base.RefValue{Bool}(false))])"
      ]
     },
     "execution_count": 5,
     "metadata": {},
     "output_type": "execute_result"
    }
   ],
   "source": [
    "control_messages, control_responses, distributed_control = launch_sentinel(;\n",
    "    workers=[2], verbose=true, buffer_size=1024, timeout=1\n",
    ")"
   ]
  },
  {
   "cell_type": "code",
   "execution_count": 6,
   "id": "568ab3d5-a0de-48c4-93fd-b2779c5ba5d5",
   "metadata": {
    "tags": []
   },
   "outputs": [
    {
     "data": {
      "text/plain": [
       "1-element DArray{@NamedTuple{worker::Int64, flag::Base.RefValue{Bool}}, 1, Vector{@NamedTuple{worker::Int64, flag::Base.RefValue{Bool}}}}:\n",
       " (worker = 2, flag = Base.RefValue{Bool}(false))"
      ]
     },
     "execution_count": 6,
     "metadata": {},
     "output_type": "execute_result"
    }
   ],
   "source": [
    "distributed_control"
   ]
  },
  {
   "cell_type": "code",
   "execution_count": 7,
   "id": "d923272b-c874-448a-be93-b977bc98bf8d",
   "metadata": {
    "tags": []
   },
   "outputs": [],
   "source": [
    "ch_in = RemoteChannel(()->Channel{Int64}(32), 1)\n",
    "ch_out = RemoteChannel(()->Channel{Int64}(32), 1)\n",
    "\n",
    "@everywhere function test_fn(i)\n",
    "    println(\"hi there, I'm running on pid=$(myid())\")\n",
    "    sleep(2)\n",
    "    return i+1\n",
    "end"
   ]
  },
  {
   "cell_type": "code",
   "execution_count": 8,
   "id": "207fd9c7-8a1b-41f1-bb07-3342246a5114",
   "metadata": {
    "tags": []
   },
   "outputs": [
    {
     "data": {
      "text/plain": [
       "ControlMessage(DistributedStreams.start, 3, test_fn, RemoteChannel{Channel{Int64}}(1, 1, 27), RemoteChannel{Channel{Int64}}(1, 1, 28))"
      ]
     },
     "execution_count": 8,
     "metadata": {},
     "output_type": "execute_result"
    }
   ],
   "source": [
    "m_f = ControlMessage(\n",
    "    message_type=DistributedStreams.start,\n",
    "    target=3,\n",
    "    func_f=test_fn,\n",
    "    func_in=ch_in,\n",
    "    func_out=ch_out\n",
    ")"
   ]
  },
  {
   "cell_type": "code",
   "execution_count": 9,
   "id": "286f68da-b286-49fe-b7b5-5a1f208f696f",
   "metadata": {
    "tags": []
   },
   "outputs": [
    {
     "data": {
      "text/plain": [
       "RemoteChannel{Channel{ControlMessage}}(1, 1, 19)"
      ]
     },
     "execution_count": 9,
     "metadata": {},
     "output_type": "execute_result"
    },
    {
     "name": "stdout",
     "output_type": "stream",
     "text": [
      "      From worker 2:\tStart instruction for 3\n",
      "      From worker 2:\tStarted\n"
     ]
    }
   ],
   "source": [
    "put!(control_messages, m_f)"
   ]
  },
  {
   "cell_type": "code",
   "execution_count": 10,
   "id": "80cdf8bc-8377-4ad8-88ff-2efb481b0742",
   "metadata": {
    "tags": []
   },
   "outputs": [
    {
     "data": {
      "text/plain": [
       "1-element Vector{ControlMessage}:\n",
       " ControlMessage(DistributedStreams.started, 3, nothing, nothing, nothing)"
      ]
     },
     "execution_count": 10,
     "metadata": {},
     "output_type": "execute_result"
    }
   ],
   "source": [
    "collect!(control_responses)"
   ]
  },
  {
   "cell_type": "code",
   "execution_count": 21,
   "id": "9aeaeb1f-e3a2-48a0-8f66-9edda937e271",
   "metadata": {
    "tags": []
   },
   "outputs": [
    {
     "data": {
      "text/plain": [
       "RemoteChannel{Channel{Int64}}(1, 1, 27)"
      ]
     },
     "execution_count": 21,
     "metadata": {},
     "output_type": "execute_result"
    },
    {
     "name": "stdout",
     "output_type": "stream",
     "text": [
      "      From worker 3:\thi there, I'm running on pid=3\n"
     ]
    }
   ],
   "source": [
    "put!(ch_in, 10)"
   ]
  },
  {
   "cell_type": "code",
   "execution_count": 22,
   "id": "07d291e3-d6e6-406f-9be9-153ed1007ed3",
   "metadata": {
    "tags": []
   },
   "outputs": [
    {
     "data": {
      "text/plain": [
       "1-element Vector{Int64}:\n",
       " 11"
      ]
     },
     "execution_count": 22,
     "metadata": {},
     "output_type": "execute_result"
    }
   ],
   "source": [
    "collect!(ch_out)"
   ]
  },
  {
   "cell_type": "code",
   "execution_count": 17,
   "id": "9f2c6537-a887-4a3f-a65a-562aa1f47a59",
   "metadata": {
    "tags": []
   },
   "outputs": [
    {
     "data": {
      "text/plain": [
       "Task (done) @0x00007f3c6ed2ea40"
      ]
     },
     "execution_count": 17,
     "metadata": {},
     "output_type": "execute_result"
    },
    {
     "name": "stdout",
     "output_type": "stream",
     "text": [
      "      From worker 2:\tWorker 3 died\n"
     ]
    }
   ],
   "source": [
    "rmprocs(3)"
   ]
  },
  {
   "cell_type": "code",
   "execution_count": 13,
   "id": "03d5f551-f301-4c5f-8f35-c94e550d1fc7",
   "metadata": {
    "tags": []
   },
   "outputs": [
    {
     "data": {
      "text/plain": [
       "ControlMessage[]"
      ]
     },
     "execution_count": 13,
     "metadata": {},
     "output_type": "execute_result"
    }
   ],
   "source": [
    "collect!(control_responses)"
   ]
  },
  {
   "cell_type": "code",
   "execution_count": 14,
   "id": "0b5dbbfd-10f0-493f-9bac-a67f550d5409",
   "metadata": {
    "tags": []
   },
   "outputs": [],
   "source": [
    "addprocs(1)\n",
    "@everywhere using Distributed, DistributedStreams, DistributedArrays"
   ]
  },
  {
   "cell_type": "code",
   "execution_count": 15,
   "id": "35ccddf3-8554-45f5-818a-c0eb77314b5c",
   "metadata": {
    "tags": []
   },
   "outputs": [
    {
     "data": {
      "text/plain": [
       "ControlMessage(DistributedStreams.start, 4, test_fn, RemoteChannel{Channel{Int64}}(1, 1, 27), RemoteChannel{Channel{Int64}}(1, 1, 28))"
      ]
     },
     "execution_count": 15,
     "metadata": {},
     "output_type": "execute_result"
    }
   ],
   "source": [
    "# ch_in = RemoteChannel(()->Channel{Int64}(32), 1)\n",
    "# ch_out = RemoteChannel(()->Channel{Int64}(32), 1)\n",
    "\n",
    "m = ControlMessage(\n",
    "    message_type=DistributedStreams.start,\n",
    "    target=4,\n",
    "    func_f=m_f.func_f,\n",
    "    func_in=m_f.func_in,\n",
    "    func_out=m_f.func_out\n",
    ")"
   ]
  },
  {
   "cell_type": "code",
   "execution_count": 16,
   "id": "538ab80d-89a0-4067-932c-ed1caa98097a",
   "metadata": {
    "tags": []
   },
   "outputs": [
    {
     "data": {
      "text/plain": [
       "RemoteChannel{Channel{ControlMessage}}(1, 1, 19)"
      ]
     },
     "execution_count": 16,
     "metadata": {},
     "output_type": "execute_result"
    },
    {
     "name": "stdout",
     "output_type": "stream",
     "text": [
      "      From worker 2:\tStart instruction for 4\n",
      "      From worker 2:\tStarted\n"
     ]
    }
   ],
   "source": [
    "put!(control_messages, m)"
   ]
  },
  {
   "cell_type": "code",
   "execution_count": 17,
   "id": "cc25d853-b58a-4933-85ae-27254629cb84",
   "metadata": {
    "tags": []
   },
   "outputs": [
    {
     "data": {
      "text/plain": [
       "1-element Vector{ControlMessage}:\n",
       " ControlMessage(DistributedStreams.started, 4, nothing, nothing, nothing)"
      ]
     },
     "execution_count": 17,
     "metadata": {},
     "output_type": "execute_result"
    }
   ],
   "source": [
    "collect!(control_responses)"
   ]
  },
  {
   "cell_type": "code",
   "execution_count": 23,
   "id": "990d73b3-7fa5-4017-9318-f100f2613355",
   "metadata": {
    "tags": []
   },
   "outputs": [
    {
     "data": {
      "text/plain": [
       "RemoteChannel{Channel{ControlMessage}}(1, 1, 19)"
      ]
     },
     "execution_count": 23,
     "metadata": {},
     "output_type": "execute_result"
    },
    {
     "name": "stdout",
     "output_type": "stream",
     "text": [
      "      From worker 2:\tStop instruction for 4\n",
      "      From worker 2:\tStopped\n"
     ]
    }
   ],
   "source": [
    "m = ControlMessage(\n",
    "    message_type=DistributedStreams.stop,\n",
    "    target=4,\n",
    "    func_f=nothing,\n",
    "    func_in=nothing,\n",
    "    func_out=nothing\n",
    ")\n",
    "\n",
    "put!(control_messages, m)"
   ]
  },
  {
   "cell_type": "code",
   "execution_count": 24,
   "id": "21e177e2-b6bf-45a7-b66b-e9820a209915",
   "metadata": {
    "tags": []
   },
   "outputs": [
    {
     "data": {
      "text/plain": [
       "1-element Vector{ControlMessage}:\n",
       " ControlMessage(DistributedStreams.stopped, 4, nothing, nothing, nothing)"
      ]
     },
     "execution_count": 24,
     "metadata": {},
     "output_type": "execute_result"
    }
   ],
   "source": [
    "collect!(control_responses)"
   ]
  },
  {
   "cell_type": "code",
   "execution_count": 25,
   "id": "ab5d395c-2553-445f-8fb6-dc06db9896c1",
   "metadata": {
    "tags": []
   },
   "outputs": [
    {
     "data": {
      "text/plain": [
       "Task (done) @0x00007f3c2ffb5140"
      ]
     },
     "execution_count": 25,
     "metadata": {},
     "output_type": "execute_result"
    }
   ],
   "source": [
    "rmprocs(4)"
   ]
  },
  {
   "cell_type": "code",
   "execution_count": 27,
   "id": "ef8323a8-6acd-4a63-a19a-ce92efc29bb5",
   "metadata": {
    "tags": []
   },
   "outputs": [
    {
     "data": {
      "text/plain": [
       "ControlMessage[]"
      ]
     },
     "execution_count": 27,
     "metadata": {},
     "output_type": "execute_result"
    }
   ],
   "source": [
    "collect!(control_responses)"
   ]
  },
  {
   "cell_type": "code",
   "execution_count": 28,
   "id": "88f0324d-62d6-4c8b-9c13-8829bdb6c416",
   "metadata": {},
   "outputs": [
    {
     "data": {
      "text/plain": [
       "1-element Vector{Int64}:\n",
       " 2"
      ]
     },
     "execution_count": 28,
     "metadata": {},
     "output_type": "execute_result"
    }
   ],
   "source": [
    "workers()"
   ]
  },
  {
   "cell_type": "code",
   "execution_count": 29,
   "id": "ec2f479e-630c-4521-a1bd-002f31b09052",
   "metadata": {},
   "outputs": [
    {
     "name": "stdout",
     "output_type": "stream",
     "text": [
      "      From worker 2:\tSentinel on 2 is shutting down\n"
     ]
    }
   ],
   "source": [
    "stop_workers!(distributed_control; workers=[2])"
   ]
  },
  {
   "cell_type": "code",
   "execution_count": 30,
   "id": "c2f0d9cc-bca4-4c51-9770-86127fada25e",
   "metadata": {},
   "outputs": [
    {
     "data": {
      "text/plain": [
       "Task (done) @0x00007f3c2b37a0e0"
      ]
     },
     "execution_count": 30,
     "metadata": {},
     "output_type": "execute_result"
    }
   ],
   "source": [
    "rmprocs()"
   ]
  },
  {
   "cell_type": "code",
   "execution_count": null,
   "id": "b0e5ff13-121e-4238-ad27-8e3762b9138d",
   "metadata": {},
   "outputs": [],
   "source": []
  }
 ],
 "metadata": {
  "kernelspec": {
   "display_name": "Juliaup 1.10.0",
   "language": "julia",
   "name": "juliaup-1.10"
  },
  "language_info": {
   "file_extension": ".jl",
   "mimetype": "application/julia",
   "name": "julia",
   "version": "1.10.0"
  }
 },
 "nbformat": 4,
 "nbformat_minor": 5
}
