{
 "cells": [
  {
   "cell_type": "code",
   "execution_count": 1,
   "id": "1f573589-dc84-46e7-942c-e3102965ef0e",
   "metadata": {
    "tags": []
   },
   "outputs": [
    {
     "name": "stderr",
     "output_type": "stream",
     "text": [
      "\u001b[32m\u001b[1m  Activating\u001b[22m\u001b[39m project at `~/Developer/DistributedStreams.jl`\n"
     ]
    }
   ],
   "source": [
    "import Pkg\n",
    "Pkg.activate(\".\")"
   ]
  },
  {
   "cell_type": "code",
   "execution_count": 2,
   "id": "b9acaed0-93e7-4103-b1b8-f4b5db0cd1c4",
   "metadata": {
    "tags": []
   },
   "outputs": [],
   "source": [
    "using Distributed"
   ]
  },
  {
   "cell_type": "code",
   "execution_count": 3,
   "id": "ec917fca-1fa5-4868-9eb1-bafd577b9fdc",
   "metadata": {
    "tags": []
   },
   "outputs": [
    {
     "data": {
      "text/plain": [
       "2-element Vector{Int64}:\n",
       " 2\n",
       " 3"
      ]
     },
     "execution_count": 3,
     "metadata": {},
     "output_type": "execute_result"
    }
   ],
   "source": [
    "addprocs(2)"
   ]
  },
  {
   "cell_type": "code",
   "execution_count": 4,
   "id": "553c864f-9ce0-466f-9d66-0ffaedc3b1da",
   "metadata": {
    "tags": []
   },
   "outputs": [],
   "source": [
    "@everywhere using Base: @kwdef\n",
    "@everywhere using Distributed, DistributedStreams, DistributedArrays, Serialization"
   ]
  },
  {
   "cell_type": "code",
   "execution_count": 5,
   "id": "19e06a64-097a-4f3d-b105-dd7702ad7ca0",
   "metadata": {
    "tags": []
   },
   "outputs": [
    {
     "data": {
      "text/plain": [
       "sendfunc (generic function with 2 methods)"
      ]
     },
     "execution_count": 5,
     "metadata": {},
     "output_type": "execute_result"
    }
   ],
   "source": [
    "function sendfunc(f::Function, dest::Int64, mod::Module=Main)\n",
    "    # get \n",
    "    fname = Symbol(f)\n",
    "    mname = Symbol(mod)\n",
    "    buf = IOBuffer()\n",
    "    Serialization.serialize(buf, methods(eval(:($mname.$fname))))\n",
    "    Distributed.remotecall_eval(\n",
    "        mod, [dest], quote\n",
    "            function $fname end \n",
    "            Serialization.deserialize(seekstart($buf))\n",
    "        end\n",
    "    )\n",
    "end"
   ]
  },
  {
   "cell_type": "code",
   "execution_count": 6,
   "id": "1b3f8227-85ea-4b8e-948f-a9d210535576",
   "metadata": {
    "tags": []
   },
   "outputs": [],
   "source": [
    "@everywhere @enum MessageType begin\n",
    "    start\n",
    "    stop\n",
    "    started\n",
    "    stopped\n",
    "    failed\n",
    "end\n",
    "\n",
    "@everywhere @kwdef struct ControlMessage\n",
    "    message_type::MessageType\n",
    "    target::Int64\n",
    "    func_f::Union{Function, Nothing}\n",
    "    func_in::Union{RemoteChannel, Nothing}\n",
    "    func_out::Union{RemoteChannel, Nothing}\n",
    "end"
   ]
  },
  {
   "cell_type": "code",
   "execution_count": 26,
   "id": "1edafbff-cf03-4ef2-a7e0-9da843b736b0",
   "metadata": {
    "tags": []
   },
   "outputs": [],
   "source": [
    "@everywhere function launch_sentinel(;workers=[2], verbose=false, buffer_size=32, timeout=1)\n",
    "\n",
    "    distributed_control = DArray([\n",
    "        @spawnat p [(worker = p, flag = Ref(false))]\n",
    "        for p in workers\n",
    "    ])\n",
    "\n",
    "    function remote_worker(entries, results, control)\n",
    "        # list of active workers\n",
    "        active_workers = Dict{Int64}{DArray}()\n",
    "        \n",
    "        # controller used to modify the behaviour of a running worker, e.g.\n",
    "        # shut it down gracefully\n",
    "        local_control = only(localpart(control))\n",
    "\n",
    "        # check for any failed workers -- if failures did occur, report them as\n",
    "        # a `failed` type message and remove them from the active_workers list\n",
    "        @async while true\n",
    "            # check if should stop checking \n",
    "            if local_control.flag[]  # Shutdown flag raised\n",
    "                if verbose\n",
    "                    println(\"Sentinel on $(local_control.worker) is shutting down\")\n",
    "                end\n",
    "                break\n",
    "            end\n",
    "            current_worker_list = Distributed.workers()\n",
    "            for w in keys(active_workers)\n",
    "                if !(w in current_worker_list)\n",
    "                    @async put!(results, ControlMessage(\n",
    "                        message_type=failed,\n",
    "                        target=w,\n",
    "                        func_f=nothing,\n",
    "                        func_in=nothing,\n",
    "                        func_out=nothing\n",
    "                    ))\n",
    "                    delete!(active_workers, w)\n",
    "                    if verbose\n",
    "                        println(\"Worker $(w) died\")\n",
    "                    end\n",
    "                end\n",
    "            end\n",
    "            # we don't need to check all the time\n",
    "            sleep(timeout)\n",
    "        end\n",
    "        \n",
    "        # create mechanism to bypass take! if message is not ready => avoid\n",
    "        # blocking channel with a `fetch`\n",
    "        message_task = @async take!(entries)\n",
    "        \n",
    "        while true\n",
    "            if ! istaskdone(message_task)\n",
    "                sleep(timeout)\n",
    "                continue\n",
    "            end\n",
    "\n",
    "            # Periodically check if the worker is flagged to be shut down.\n",
    "            # `timedwait` is slow, so we run this in async mode.\n",
    "            @async while true\n",
    "                # introduce timeout which will shut down the worker with\n",
    "                # `local_control.flag[] == true`\n",
    "                if timedwait(()->istaskdone(message_task), timeout) == :ok\n",
    "                    break\n",
    "                end\n",
    "                # ALL CODE ENTERING HERE => TIMEDWAIT TIMED OUT\n",
    "                if local_control.flag[]  # Shutdown flag raised\n",
    "                    if verbose\n",
    "                        println(\"Sentinel on $(local_control.worker) is shutting down\")\n",
    "                    end\n",
    "                    sleep(2*timeout) # give everything time to quit\n",
    "                    return\n",
    "                end\n",
    "            end\n",
    "            \n",
    "            # process messages\n",
    "            message = fetch(message_task)\n",
    "\n",
    "            if message.message_type == start\n",
    "                println(\"Start instruction for $(message.target)\")\n",
    "                control = launch_consumer(\n",
    "                    message.func_f, message.func_in, message.func_out;\n",
    "                    workers=[message.target], verbose=true, buffer_size=32, timeout=1,\n",
    "                    start_safe=false\n",
    "                )\n",
    "                println(\"Started\")\n",
    "                active_workers[message.target] = control\n",
    "                @async put!(results, ControlMessage(\n",
    "                    message_type=started,\n",
    "                    target=message.target,\n",
    "                    func_f=nothing,\n",
    "                    func_in=nothing,\n",
    "                    func_out=nothing\n",
    "                ))\n",
    "            elseif message.message_type == stop\n",
    "                println(\"Stop instruction for $(message.target)\")\n",
    "                if message.target in keys(active_workers)\n",
    "                    make_unsafe!(active_workers[message.target]; workers=[message.target])\n",
    "                    stop_workers!(active_workers[message.target]; workers=[message.target])\n",
    "                    @async put!(results, ControlMessage(\n",
    "                        message_type=stopped,\n",
    "                        target=message.target,\n",
    "                        func_f=nothing,\n",
    "                        func_in=nothing,\n",
    "                        func_out=nothing\n",
    "                    ))\n",
    "                    delete!(active_workers, message.target)\n",
    "                    println(\"Stopped\")\n",
    "                end\n",
    "            else\n",
    "                # all other message types ignored by putting them directly into the\n",
    "                # output channel\n",
    "                @async put!(results, message)\n",
    "            end\n",
    "            # All done with this one => take the next message, rinse, repeat\n",
    "            message_task = @async take!(entries)\n",
    "        end\n",
    "    end\n",
    "\n",
    "    # these remote channels are owned by PID=1\n",
    "    control_messages  = RemoteChannel(()->Channel{ControlMessage}(buffer_size), 1)\n",
    "    control_responses = RemoteChannel(()->Channel{ControlMessage}(buffer_size), 1)\n",
    "\n",
    "    for p in workers\n",
    "        remote_do(\n",
    "            remote_worker, p,\n",
    "            control_messages, control_responses, distributed_control\n",
    "        )\n",
    "    end\n",
    "\n",
    "    return control_messages, control_responses, distributed_control\n",
    "end"
   ]
  },
  {
   "cell_type": "code",
   "execution_count": 8,
   "id": "78cd5e8a-0b88-46ec-95a5-99bc394716a5",
   "metadata": {
    "tags": []
   },
   "outputs": [
    {
     "data": {
      "text/plain": [
       "(RemoteChannel{Channel{ControlMessage}}(1, 1, 31), RemoteChannel{Channel{ControlMessage}}(1, 1, 32), @NamedTuple{worker::Int64, flag::Base.RefValue{Bool}}[(worker = 2, flag = Base.RefValue{Bool}(false))])"
      ]
     },
     "execution_count": 8,
     "metadata": {},
     "output_type": "execute_result"
    }
   ],
   "source": [
    "control_messages, control_responses, distributed_control = launch_sentinel(;\n",
    "    workers=[2], verbose=true, buffer_size=1024, timeout=1\n",
    ")"
   ]
  },
  {
   "cell_type": "code",
   "execution_count": 9,
   "id": "568ab3d5-a0de-48c4-93fd-b2779c5ba5d5",
   "metadata": {
    "tags": []
   },
   "outputs": [
    {
     "data": {
      "text/plain": [
       "1-element DArray{@NamedTuple{worker::Int64, flag::Base.RefValue{Bool}}, 1, Vector{@NamedTuple{worker::Int64, flag::Base.RefValue{Bool}}}}:\n",
       " (worker = 2, flag = Base.RefValue{Bool}(false))"
      ]
     },
     "execution_count": 9,
     "metadata": {},
     "output_type": "execute_result"
    }
   ],
   "source": [
    "distributed_control"
   ]
  },
  {
   "cell_type": "code",
   "execution_count": 10,
   "id": "d923272b-c874-448a-be93-b977bc98bf8d",
   "metadata": {
    "tags": []
   },
   "outputs": [],
   "source": [
    "ch_in = RemoteChannel(()->Channel{Int64}(32), 1)\n",
    "ch_out = RemoteChannel(()->Channel{Int64}(32), 1)\n",
    "\n",
    "@everywhere function test_fn(i)\n",
    "    println(\"hi there, I'm running on pid=$(myid())\")\n",
    "    sleep(2)\n",
    "    return i+1\n",
    "end"
   ]
  },
  {
   "cell_type": "code",
   "execution_count": 11,
   "id": "207fd9c7-8a1b-41f1-bb07-3342246a5114",
   "metadata": {
    "tags": []
   },
   "outputs": [
    {
     "data": {
      "text/plain": [
       "ControlMessage(start, 3, test_fn, RemoteChannel{Channel{Int64}}(1, 1, 39), RemoteChannel{Channel{Int64}}(1, 1, 40))"
      ]
     },
     "execution_count": 11,
     "metadata": {},
     "output_type": "execute_result"
    }
   ],
   "source": [
    "m_f = ControlMessage(\n",
    "    message_type=start,\n",
    "    target=3,\n",
    "    func_f=test_fn,\n",
    "    func_in=ch_in,\n",
    "    func_out=ch_out\n",
    ")"
   ]
  },
  {
   "cell_type": "code",
   "execution_count": 12,
   "id": "286f68da-b286-49fe-b7b5-5a1f208f696f",
   "metadata": {
    "tags": []
   },
   "outputs": [
    {
     "data": {
      "text/plain": [
       "RemoteChannel{Channel{ControlMessage}}(1, 1, 31)"
      ]
     },
     "execution_count": 12,
     "metadata": {},
     "output_type": "execute_result"
    },
    {
     "name": "stdout",
     "output_type": "stream",
     "text": [
      "      From worker 2:\tStart instruction for 3\n",
      "      From worker 2:\tStarted\n"
     ]
    }
   ],
   "source": [
    "put!(control_messages, m_f)"
   ]
  },
  {
   "cell_type": "code",
   "execution_count": 13,
   "id": "80cdf8bc-8377-4ad8-88ff-2efb481b0742",
   "metadata": {
    "tags": []
   },
   "outputs": [
    {
     "data": {
      "text/plain": [
       "1-element Vector{ControlMessage}:\n",
       " ControlMessage(started, 3, nothing, nothing, nothing)"
      ]
     },
     "execution_count": 13,
     "metadata": {},
     "output_type": "execute_result"
    }
   ],
   "source": [
    "collect!(control_responses)"
   ]
  },
  {
   "cell_type": "code",
   "execution_count": 14,
   "id": "9aeaeb1f-e3a2-48a0-8f66-9edda937e271",
   "metadata": {
    "tags": []
   },
   "outputs": [
    {
     "data": {
      "text/plain": [
       "RemoteChannel{Channel{Int64}}(1, 1, 39)"
      ]
     },
     "execution_count": 14,
     "metadata": {},
     "output_type": "execute_result"
    },
    {
     "name": "stdout",
     "output_type": "stream",
     "text": [
      "      From worker 3:\thi there, I'm running on pid=3\n"
     ]
    }
   ],
   "source": [
    "put!(ch_in, 10)"
   ]
  },
  {
   "cell_type": "code",
   "execution_count": 15,
   "id": "07d291e3-d6e6-406f-9be9-153ed1007ed3",
   "metadata": {
    "tags": []
   },
   "outputs": [
    {
     "data": {
      "text/plain": [
       "1-element Vector{Int64}:\n",
       " 11"
      ]
     },
     "execution_count": 15,
     "metadata": {},
     "output_type": "execute_result"
    }
   ],
   "source": [
    "collect!(ch_out)"
   ]
  },
  {
   "cell_type": "code",
   "execution_count": 16,
   "id": "9f2c6537-a887-4a3f-a65a-562aa1f47a59",
   "metadata": {
    "tags": []
   },
   "outputs": [
    {
     "data": {
      "text/plain": [
       "Task (done) @0x00000001165f9ba0"
      ]
     },
     "execution_count": 16,
     "metadata": {},
     "output_type": "execute_result"
    },
    {
     "name": "stdout",
     "output_type": "stream",
     "text": [
      "      From worker 2:\tWorker 3 died\n"
     ]
    }
   ],
   "source": [
    "rmprocs(3)"
   ]
  },
  {
   "cell_type": "code",
   "execution_count": 17,
   "id": "03d5f551-f301-4c5f-8f35-c94e550d1fc7",
   "metadata": {
    "tags": []
   },
   "outputs": [
    {
     "data": {
      "text/plain": [
       "1-element Vector{ControlMessage}:\n",
       " ControlMessage(failed, 3, nothing, nothing, nothing)"
      ]
     },
     "execution_count": 17,
     "metadata": {},
     "output_type": "execute_result"
    }
   ],
   "source": [
    "collect!(control_responses)"
   ]
  },
  {
   "cell_type": "code",
   "execution_count": 18,
   "id": "0b5dbbfd-10f0-493f-9bac-a67f550d5409",
   "metadata": {
    "tags": []
   },
   "outputs": [],
   "source": [
    "addprocs(1)\n",
    "@everywhere using Distributed, DistributedStreams, DistributedArrays, Serialization"
   ]
  },
  {
   "cell_type": "code",
   "execution_count": 19,
   "id": "35ccddf3-8554-45f5-818a-c0eb77314b5c",
   "metadata": {
    "tags": []
   },
   "outputs": [
    {
     "data": {
      "text/plain": [
       "ControlMessage(start, 4, test_fn, RemoteChannel{Channel{Int64}}(1, 1, 39), RemoteChannel{Channel{Int64}}(1, 1, 40))"
      ]
     },
     "execution_count": 19,
     "metadata": {},
     "output_type": "execute_result"
    }
   ],
   "source": [
    "ch_in = RemoteChannel(()->Channel{Int64}(32), 1)\n",
    "ch_out = RemoteChannel(()->Channel{Int64}(32), 1)\n",
    "\n",
    "m = ControlMessage(\n",
    "    message_type=start,\n",
    "    target=4,\n",
    "    func_f=m_f.func_f,\n",
    "    func_in=m_f.func_in,\n",
    "    func_out=m_f.func_out\n",
    ")"
   ]
  },
  {
   "cell_type": "code",
   "execution_count": 20,
   "id": "538ab80d-89a0-4067-932c-ed1caa98097a",
   "metadata": {
    "tags": []
   },
   "outputs": [
    {
     "data": {
      "text/plain": [
       "RemoteChannel{Channel{ControlMessage}}(1, 1, 31)"
      ]
     },
     "execution_count": 20,
     "metadata": {},
     "output_type": "execute_result"
    },
    {
     "name": "stdout",
     "output_type": "stream",
     "text": [
      "      From worker 2:\tStart instruction for 4\n",
      "      From worker 2:\tStarted\n"
     ]
    }
   ],
   "source": [
    "put!(control_messages, m)"
   ]
  },
  {
   "cell_type": "code",
   "execution_count": 21,
   "id": "cc25d853-b58a-4933-85ae-27254629cb84",
   "metadata": {
    "tags": []
   },
   "outputs": [
    {
     "data": {
      "text/plain": [
       "1-element Vector{ControlMessage}:\n",
       " ControlMessage(started, 4, nothing, nothing, nothing)"
      ]
     },
     "execution_count": 21,
     "metadata": {},
     "output_type": "execute_result"
    }
   ],
   "source": [
    "collect!(control_responses)"
   ]
  },
  {
   "cell_type": "code",
   "execution_count": 22,
   "id": "990d73b3-7fa5-4017-9318-f100f2613355",
   "metadata": {
    "tags": []
   },
   "outputs": [
    {
     "data": {
      "text/plain": [
       "RemoteChannel{Channel{ControlMessage}}(1, 1, 31)"
      ]
     },
     "execution_count": 22,
     "metadata": {},
     "output_type": "execute_result"
    },
    {
     "name": "stdout",
     "output_type": "stream",
     "text": [
      "      From worker 2:\tStop instruction for 4\n",
      "      From worker 2:\tStopped\n"
     ]
    }
   ],
   "source": [
    "m = ControlMessage(\n",
    "    message_type=stop,\n",
    "    target=4,\n",
    "    func_f=nothing,\n",
    "    func_in=nothing,\n",
    "    func_out=nothing\n",
    ")\n",
    "\n",
    "put!(control_messages, m)"
   ]
  },
  {
   "cell_type": "code",
   "execution_count": 23,
   "id": "21e177e2-b6bf-45a7-b66b-e9820a209915",
   "metadata": {
    "tags": []
   },
   "outputs": [
    {
     "data": {
      "text/plain": [
       "1-element Vector{ControlMessage}:\n",
       " ControlMessage(stopped, 4, nothing, nothing, nothing)"
      ]
     },
     "execution_count": 23,
     "metadata": {},
     "output_type": "execute_result"
    }
   ],
   "source": [
    "collect!(control_responses)"
   ]
  },
  {
   "cell_type": "code",
   "execution_count": 24,
   "id": "ab5d395c-2553-445f-8fb6-dc06db9896c1",
   "metadata": {
    "tags": []
   },
   "outputs": [
    {
     "data": {
      "text/plain": [
       "Task (done) @0x00000001192860e0"
      ]
     },
     "execution_count": 24,
     "metadata": {},
     "output_type": "execute_result"
    }
   ],
   "source": [
    "rmprocs(4)"
   ]
  },
  {
   "cell_type": "code",
   "execution_count": 25,
   "id": "ef8323a8-6acd-4a63-a19a-ce92efc29bb5",
   "metadata": {
    "tags": []
   },
   "outputs": [
    {
     "data": {
      "text/plain": [
       "ControlMessage[]"
      ]
     },
     "execution_count": 25,
     "metadata": {},
     "output_type": "execute_result"
    }
   ],
   "source": [
    "collect!(control_responses)"
   ]
  }
 ],
 "metadata": {
  "kernelspec": {
   "display_name": "Juliaup 1.10.0",
   "language": "julia",
   "name": "juliaup-1.10"
  },
  "language_info": {
   "file_extension": ".jl",
   "mimetype": "application/julia",
   "name": "julia",
   "version": "1.10.0"
  }
 },
 "nbformat": 4,
 "nbformat_minor": 5
}
