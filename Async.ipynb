{
 "cells": [
  {
   "cell_type": "code",
   "execution_count": 6,
   "id": "28c6d536-6caa-4bdd-8ec0-9d0f9f0e30a5",
   "metadata": {},
   "outputs": [
    {
     "name": "stdout",
     "output_type": "stream",
     "text": [
      "hi there\n"
     ]
    },
    {
     "data": {
      "text/plain": [
       "Task (runnable) @0x00007f936f2daef0"
      ]
     },
     "execution_count": 6,
     "metadata": {},
     "output_type": "execute_result"
    },
    {
     "name": "stdout",
     "output_type": "stream",
     "text": [
      "hi there\n",
      "hi there\n",
      "hi there\n"
     ]
    }
   ],
   "source": [
    "interrupt = false\n",
    "t = @async while true\n",
    "    println(\"hi there\")\n",
    "    sleep(1)\n",
    "    if interrupt\n",
    "        println(\"global interrupt=$(interrupt) => stopping task\")\n",
    "        break\n",
    "    end\n",
    "end"
   ]
  },
  {
   "cell_type": "code",
   "execution_count": 7,
   "id": "e2ea5e36-016c-4682-96cb-91dbac1c7bb4",
   "metadata": {},
   "outputs": [
    {
     "name": "stdout",
     "output_type": "stream",
     "text": [
      "ho there\n"
     ]
    },
    {
     "data": {
      "text/plain": [
       "Task (runnable) @0x00007f936f2db850"
      ]
     },
     "execution_count": 7,
     "metadata": {},
     "output_type": "execute_result"
    },
    {
     "name": "stdout",
     "output_type": "stream",
     "text": [
      "hi there\n",
      "hi there\n",
      "hi there\n",
      "hi there\n",
      "hi there\n",
      "hi there\n",
      "hi there\n",
      "hi there\n",
      "hi there\n",
      "hi there\n",
      "ho there\n",
      "hi there\n",
      "hi there\n",
      "hi there\n"
     ]
    }
   ],
   "source": [
    "t = @async while true\n",
    "    println(\"ho there\")\n",
    "    sleep(10)\n",
    "    if interrupt\n",
    "        println(\"global interrupt=$(interrupt) => stopping task\")\n",
    "        break\n",
    "    end\n",
    "end"
   ]
  },
  {
   "cell_type": "code",
   "execution_count": 8,
   "id": "de3f21ba-8926-4fa4-a403-35c059809701",
   "metadata": {},
   "outputs": [
    {
     "data": {
      "text/plain": [
       "true"
      ]
     },
     "execution_count": 8,
     "metadata": {},
     "output_type": "execute_result"
    },
    {
     "name": "stdout",
     "output_type": "stream",
     "text": [
      "global interrupt=true => stopping task\n",
      "global interrupt=true => stopping task\n"
     ]
    }
   ],
   "source": [
    "interrupt = true"
   ]
  },
  {
   "cell_type": "code",
   "execution_count": null,
   "id": "f43417ac-42b2-4957-9a4e-d49ae067c893",
   "metadata": {},
   "outputs": [],
   "source": []
  }
 ],
 "metadata": {
  "kernelspec": {
   "display_name": "Juliaup 1.10.2",
   "language": "julia",
   "name": "juliaup-1.10"
  },
  "language_info": {
   "file_extension": ".jl",
   "mimetype": "application/julia",
   "name": "julia",
   "version": "1.10.2"
  }
 },
 "nbformat": 4,
 "nbformat_minor": 5
}
