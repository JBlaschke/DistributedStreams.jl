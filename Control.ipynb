{
 "cells": [
  {
   "cell_type": "code",
   "execution_count": 1,
   "id": "39714c44-bffb-4d5b-93fd-48fb68f2c1ae",
   "metadata": {},
   "outputs": [
    {
     "name": "stderr",
     "output_type": "stream",
     "text": [
      "\u001b[32m\u001b[1m  Activating\u001b[22m\u001b[39m project at `~/Developer/DistributedStreams`\n"
     ]
    }
   ],
   "source": [
    "import Pkg\n",
    "Pkg.activate(\".\")"
   ]
  },
  {
   "cell_type": "code",
   "execution_count": 2,
   "id": "935cff7d-a0e9-455b-bd23-f956827b9e7b",
   "metadata": {},
   "outputs": [],
   "source": [
    "using Distributed"
   ]
  },
  {
   "cell_type": "code",
   "execution_count": 3,
   "id": "65fc571d-b147-495d-a936-26358a5ce9c0",
   "metadata": {},
   "outputs": [
    {
     "data": {
      "text/plain": [
       "1-element Vector{Int64}:\n",
       " 2"
      ]
     },
     "execution_count": 3,
     "metadata": {},
     "output_type": "execute_result"
    }
   ],
   "source": [
    "addprocs(1)"
   ]
  },
  {
   "cell_type": "code",
   "execution_count": 4,
   "id": "e8acb552-744e-4414-8429-cc112747a5b2",
   "metadata": {},
   "outputs": [
    {
     "name": "stderr",
     "output_type": "stream",
     "text": [
      "\u001b[32m\u001b[1mPrecompiling\u001b[22m\u001b[39m DistributedStreams\n",
      "\u001b[32m  ✓ \u001b[39mChain\n",
      "\u001b[32m  ✓ \u001b[39mDistributedStreams\n",
      "  2 dependencies successfully precompiled in 2 seconds. 18 already precompiled.\n"
     ]
    }
   ],
   "source": [
    "@everywhere using DistributedStreams"
   ]
  },
  {
   "cell_type": "code",
   "execution_count": 5,
   "id": "84f8e27f-d7b3-4ffa-bb1b-f864678c725e",
   "metadata": {},
   "outputs": [
    {
     "data": {
      "text/plain": [
       "(RemoteChannel{Channel{Entry}}(1, 1, 12), RemoteChannel{Channel{Entry}}(1, 1, 13), DistributedStreams.RemoteWorkerControl(@NamedTuple{worker::Int64, safe::Base.RefValue{Bool}, flag::Base.RefValue{Bool}}[(worker = 2, safe = Base.RefValue{Bool}(false), flag = Base.RefValue{Bool}(false)), (worker = 3, safe = Base.RefValue{Bool}(false), flag = Base.RefValue{Bool}(false))], Any[Future(2, 1, 20, ReentrantLock(nothing, 0x00000000, 0x00, Base.GenericCondition{Base.Threads.SpinLock}(Base.IntrusiveLinkedList{Task}(nothing, nothing), Base.Threads.SpinLock(0)), (1, 139839803437712, 139839775257376)), nothing), Future(3, 1, 21, ReentrantLock(nothing, 0x00000000, 0x00, Base.GenericCondition{Base.Threads.SpinLock}(Base.IntrusiveLinkedList{Task}(nothing, nothing), Base.Threads.SpinLock(0)), (0, 139839834038624, 3)), nothing)]))"
      ]
     },
     "execution_count": 5,
     "metadata": {},
     "output_type": "execute_result"
    }
   ],
   "source": [
    "input, output, control = launch_monitor(\n",
    "    x->begin\n",
    "        id = x.id\n",
    "        data = DistributedStreams.Serialize.deserialize(x.data) + 1\n",
    "        Entry(id=x.id, data=DistributedStreams.Serialize.serialize(data), valid=true)\n",
    "    end;\n",
    "    start_safe = false,\n",
    "    verbose = true\n",
    ")"
   ]
  },
  {
   "cell_type": "code",
   "execution_count": 6,
   "id": "c2086d29-6f81-4974-b6f5-ba86855436ea",
   "metadata": {},
   "outputs": [
    {
     "data": {
      "text/plain": [
       "2-element Vector{Any}:\n",
       " Future(2, 1, 20, ReentrantLock(nothing, 0x00000000, 0x00, Base.GenericCondition{Base.Threads.SpinLock}(Base.IntrusiveLinkedList{Task}(nothing, nothing), Base.Threads.SpinLock(0)), (1, 139839803437712, 139839775257376)), nothing)\n",
       " Future(3, 1, 21, ReentrantLock(nothing, 0x00000000, 0x00, Base.GenericCondition{Base.Threads.SpinLock}(Base.IntrusiveLinkedList{Task}(nothing, nothing), Base.Threads.SpinLock(0)), (0, 139839834038624, 3)), nothing)"
      ]
     },
     "execution_count": 6,
     "metadata": {},
     "output_type": "execute_result"
    }
   ],
   "source": [
    "control.status"
   ]
  },
  {
   "cell_type": "code",
   "execution_count": 7,
   "id": "837aa077-b91a-4eda-b0f0-a708fbfd7d3a",
   "metadata": {},
   "outputs": [
    {
     "data": {
      "text/plain": [
       "RemoteChannel{Channel{Entry}}(1, 1, 12)"
      ]
     },
     "execution_count": 7,
     "metadata": {},
     "output_type": "execute_result"
    }
   ],
   "source": [
    "put!(input, Entry(id=0, data=DistributedStreams.Serialize.serialize(\"hi there\"), valid=false))"
   ]
  },
  {
   "cell_type": "code",
   "execution_count": 8,
   "id": "e9bb64c0-3035-42e9-9d59-cd284682c0cb",
   "metadata": {},
   "outputs": [
    {
     "data": {
      "text/plain": [
       "Future"
      ]
     },
     "execution_count": 8,
     "metadata": {},
     "output_type": "execute_result"
    }
   ],
   "source": [
    "typeof(control.status[1])"
   ]
  },
  {
   "cell_type": "code",
   "execution_count": 17,
   "id": "e681630d-fc57-4f04-a663-86d5c0675242",
   "metadata": {},
   "outputs": [
    {
     "data": {
      "text/plain": [
       "Task (runnable) @0x00007f2ebbbf6400"
      ]
     },
     "execution_count": 17,
     "metadata": {},
     "output_type": "execute_result"
    }
   ],
   "source": [
    "t = @async fetch(control.status[2])"
   ]
  },
  {
   "cell_type": "code",
   "execution_count": 18,
   "id": "f58ed457-228a-45d6-8a4f-7967fc436d6e",
   "metadata": {},
   "outputs": [
    {
     "data": {
      "text/plain": [
       "true"
      ]
     },
     "execution_count": 18,
     "metadata": {},
     "output_type": "execute_result"
    }
   ],
   "source": [
    "istaskdone(t)"
   ]
  },
  {
   "cell_type": "code",
   "execution_count": 19,
   "id": "32b8a3f0-0923-43cb-9025-255a5745afec",
   "metadata": {},
   "outputs": [
    {
     "data": {
      "text/plain": [
       "RemoteException(3, CapturedException(MethodError(+, (\"hi there\", 1), 0x0000000000007aea), Any[(#1 at In[5]:4, 1), (macro expansion at task.jl:479 [inlined], 1), (remote_worker at DistributedStreams.jl:156, 1), (#invokelatest#2 at essentials.jl:892, 1), (invokelatest at essentials.jl:889, 1), (#107 at process_messages.jl:282, 1), (run_work_thunk at process_messages.jl:70, 1), (run_work_thunk at process_messages.jl:79, 1), (#100 at process_messages.jl:88, 1)]))"
      ]
     },
     "execution_count": 19,
     "metadata": {},
     "output_type": "execute_result"
    }
   ],
   "source": [
    "t.result"
   ]
  },
  {
   "cell_type": "code",
   "execution_count": 20,
   "id": "f2df3a3c-7b40-4c4b-824b-bbe3e1d4602d",
   "metadata": {},
   "outputs": [
    {
     "data": {
      "text/plain": [
       "RemoteException"
      ]
     },
     "execution_count": 20,
     "metadata": {},
     "output_type": "execute_result"
    }
   ],
   "source": [
    "typeof(t.result)"
   ]
  },
  {
   "cell_type": "code",
   "execution_count": 21,
   "id": "fa5505bd-3ea0-4432-ab99-1805c3f1a649",
   "metadata": {},
   "outputs": [
    {
     "ename": "LoadError",
     "evalue": "TaskFailedException\n\n\u001b[91m    nested task error: \u001b[39mOn worker 3:\n    MethodError: no method matching +(::String, ::Int64)\n    \n    \u001b[0mClosest candidates are:\n    \u001b[0m  +(::Any, ::Any, \u001b[91m::Any\u001b[39m, \u001b[91m::Any...\u001b[39m)\n    \u001b[0m\u001b[90m   @\u001b[39m \u001b[90mBase\u001b[39m \u001b[90m\u001b[4moperators.jl:587\u001b[24m\u001b[39m\n    \u001b[0m  +(\u001b[91m::BigFloat\u001b[39m, ::Union{Int16, Int32, Int64, Int8})\n    \u001b[0m\u001b[90m   @\u001b[39m \u001b[90mBase\u001b[39m \u001b[90m\u001b[4mmpfr.jl:447\u001b[24m\u001b[39m\n    \u001b[0m  +(\u001b[91m::Base.CoreLogging.LogLevel\u001b[39m, ::Integer)\n    \u001b[0m\u001b[90m   @\u001b[39m \u001b[90mBase\u001b[39m \u001b[90m\u001b[4mlogging.jl:131\u001b[24m\u001b[39m\n    \u001b[0m  ...\n    \n    Stacktrace:\n     [1] \u001b[0m\u001b[1m#1\u001b[22m\n    \u001b[90m   @\u001b[39m \u001b[90m./\u001b[39m\u001b[90m\u001b[4mIn[5]:4\u001b[24m\u001b[39m\n     [2] \u001b[0m\u001b[1mmacro expansion\u001b[22m\n    \u001b[90m   @\u001b[39m \u001b[90m./\u001b[39m\u001b[90m\u001b[4mtask.jl:479\u001b[24m\u001b[39m\u001b[90m [inlined]\u001b[39m\n     [3] \u001b[0m\u001b[1mremote_worker\u001b[22m\n    \u001b[90m   @\u001b[39m \u001b[90m~/Developer/DistributedStreams/src/\u001b[39m\u001b[90m\u001b[4mDistributedStreams.jl:156\u001b[24m\u001b[39m\n     [4] \u001b[0m\u001b[1m#invokelatest#2\u001b[22m\n    \u001b[90m   @\u001b[39m \u001b[90m./\u001b[39m\u001b[90m\u001b[4messentials.jl:892\u001b[24m\u001b[39m\n     [5] \u001b[0m\u001b[1minvokelatest\u001b[22m\n    \u001b[90m   @\u001b[39m \u001b[90m./\u001b[39m\u001b[90m\u001b[4messentials.jl:889\u001b[24m\u001b[39m\n     [6] \u001b[0m\u001b[1m#107\u001b[22m\n    \u001b[90m   @\u001b[39m \u001b[90m~/local/juliaup/juliaup/julia-1.10.1+0.x64.linux.gnu/share/julia/stdlib/v1.10/Distributed/src/\u001b[39m\u001b[90m\u001b[4mprocess_messages.jl:282\u001b[24m\u001b[39m\n     [7] \u001b[0m\u001b[1mrun_work_thunk\u001b[22m\n    \u001b[90m   @\u001b[39m \u001b[90m~/local/juliaup/juliaup/julia-1.10.1+0.x64.linux.gnu/share/julia/stdlib/v1.10/Distributed/src/\u001b[39m\u001b[90m\u001b[4mprocess_messages.jl:70\u001b[24m\u001b[39m\n     [8] \u001b[0m\u001b[1mrun_work_thunk\u001b[22m\n    \u001b[90m   @\u001b[39m \u001b[90m~/local/juliaup/juliaup/julia-1.10.1+0.x64.linux.gnu/share/julia/stdlib/v1.10/Distributed/src/\u001b[39m\u001b[90m\u001b[4mprocess_messages.jl:79\u001b[24m\u001b[39m\n     [9] \u001b[0m\u001b[1m#100\u001b[22m\n    \u001b[90m   @\u001b[39m \u001b[90m~/local/juliaup/juliaup/julia-1.10.1+0.x64.linux.gnu/share/julia/stdlib/v1.10/Distributed/src/\u001b[39m\u001b[90m\u001b[4mprocess_messages.jl:88\u001b[24m\u001b[39m\n    Stacktrace:\n     [1] \u001b[0m\u001b[1mremotecall_fetch\u001b[22m\u001b[0m\u001b[1m(\u001b[22m\u001b[90mf\u001b[39m::\u001b[0mFunction, \u001b[90mw\u001b[39m::\u001b[0mDistributed.Worker, \u001b[90margs\u001b[39m::\u001b[0mDistributed.RRID; \u001b[90mkwargs\u001b[39m::\u001b[0m@Kwargs\u001b[90m{}\u001b[39m\u001b[0m\u001b[1m)\u001b[22m\n    \u001b[90m   @\u001b[39m \u001b[32mDistributed\u001b[39m \u001b[90m~/local/juliaup/juliaup/julia-1.10.1+0.x64.linux.gnu/share/julia/stdlib/v1.10/Distributed/src/\u001b[39m\u001b[90m\u001b[4mremotecall.jl:465\u001b[24m\u001b[39m\n     [2] \u001b[0m\u001b[1mremotecall_fetch\u001b[22m\u001b[0m\u001b[1m(\u001b[22m\u001b[90mf\u001b[39m::\u001b[0mFunction, \u001b[90mw\u001b[39m::\u001b[0mDistributed.Worker, \u001b[90margs\u001b[39m::\u001b[0mDistributed.RRID\u001b[0m\u001b[1m)\u001b[22m\n    \u001b[90m   @\u001b[39m \u001b[32mDistributed\u001b[39m \u001b[90m~/local/juliaup/juliaup/julia-1.10.1+0.x64.linux.gnu/share/julia/stdlib/v1.10/Distributed/src/\u001b[39m\u001b[90m\u001b[4mremotecall.jl:454\u001b[24m\u001b[39m\n     [3] \u001b[0m\u001b[1mremotecall_fetch\u001b[22m\n    \u001b[90m   @\u001b[39m \u001b[90m~/local/juliaup/juliaup/julia-1.10.1+0.x64.linux.gnu/share/julia/stdlib/v1.10/Distributed/src/\u001b[39m\u001b[90m\u001b[4mremotecall.jl:492\u001b[24m\u001b[39m\u001b[90m [inlined]\u001b[39m\n     [4] \u001b[0m\u001b[1mcall_on_owner\u001b[22m\n    \u001b[90m   @\u001b[39m \u001b[90m~/local/juliaup/juliaup/julia-1.10.1+0.x64.linux.gnu/share/julia/stdlib/v1.10/Distributed/src/\u001b[39m\u001b[90m\u001b[4mremotecall.jl:565\u001b[24m\u001b[39m\u001b[90m [inlined]\u001b[39m\n     [5] \u001b[0m\u001b[1mfetch\u001b[22m\u001b[0m\u001b[1m(\u001b[22m\u001b[90mr\u001b[39m::\u001b[0mFuture\u001b[0m\u001b[1m)\u001b[22m\n    \u001b[90m   @\u001b[39m \u001b[32mDistributed\u001b[39m \u001b[90m~/local/juliaup/juliaup/julia-1.10.1+0.x64.linux.gnu/share/julia/stdlib/v1.10/Distributed/src/\u001b[39m\u001b[90m\u001b[4mremotecall.jl:619\u001b[24m\u001b[39m\n     [6] \u001b[0m\u001b[1m(::var\"#5#6\")\u001b[22m\u001b[0m\u001b[1m(\u001b[22m\u001b[0m\u001b[1m)\u001b[22m\n    \u001b[90m   @\u001b[39m \u001b[33mMain\u001b[39m \u001b[90m./\u001b[39m\u001b[90m\u001b[4mIn[17]:1\u001b[24m\u001b[39m",
     "output_type": "error",
     "traceback": [
      "TaskFailedException\n\n\u001b[91m    nested task error: \u001b[39mOn worker 3:\n    MethodError: no method matching +(::String, ::Int64)\n    \n    \u001b[0mClosest candidates are:\n    \u001b[0m  +(::Any, ::Any, \u001b[91m::Any\u001b[39m, \u001b[91m::Any...\u001b[39m)\n    \u001b[0m\u001b[90m   @\u001b[39m \u001b[90mBase\u001b[39m \u001b[90m\u001b[4moperators.jl:587\u001b[24m\u001b[39m\n    \u001b[0m  +(\u001b[91m::BigFloat\u001b[39m, ::Union{Int16, Int32, Int64, Int8})\n    \u001b[0m\u001b[90m   @\u001b[39m \u001b[90mBase\u001b[39m \u001b[90m\u001b[4mmpfr.jl:447\u001b[24m\u001b[39m\n    \u001b[0m  +(\u001b[91m::Base.CoreLogging.LogLevel\u001b[39m, ::Integer)\n    \u001b[0m\u001b[90m   @\u001b[39m \u001b[90mBase\u001b[39m \u001b[90m\u001b[4mlogging.jl:131\u001b[24m\u001b[39m\n    \u001b[0m  ...\n    \n    Stacktrace:\n     [1] \u001b[0m\u001b[1m#1\u001b[22m\n    \u001b[90m   @\u001b[39m \u001b[90m./\u001b[39m\u001b[90m\u001b[4mIn[5]:4\u001b[24m\u001b[39m\n     [2] \u001b[0m\u001b[1mmacro expansion\u001b[22m\n    \u001b[90m   @\u001b[39m \u001b[90m./\u001b[39m\u001b[90m\u001b[4mtask.jl:479\u001b[24m\u001b[39m\u001b[90m [inlined]\u001b[39m\n     [3] \u001b[0m\u001b[1mremote_worker\u001b[22m\n    \u001b[90m   @\u001b[39m \u001b[90m~/Developer/DistributedStreams/src/\u001b[39m\u001b[90m\u001b[4mDistributedStreams.jl:156\u001b[24m\u001b[39m\n     [4] \u001b[0m\u001b[1m#invokelatest#2\u001b[22m\n    \u001b[90m   @\u001b[39m \u001b[90m./\u001b[39m\u001b[90m\u001b[4messentials.jl:892\u001b[24m\u001b[39m\n     [5] \u001b[0m\u001b[1minvokelatest\u001b[22m\n    \u001b[90m   @\u001b[39m \u001b[90m./\u001b[39m\u001b[90m\u001b[4messentials.jl:889\u001b[24m\u001b[39m\n     [6] \u001b[0m\u001b[1m#107\u001b[22m\n    \u001b[90m   @\u001b[39m \u001b[90m~/local/juliaup/juliaup/julia-1.10.1+0.x64.linux.gnu/share/julia/stdlib/v1.10/Distributed/src/\u001b[39m\u001b[90m\u001b[4mprocess_messages.jl:282\u001b[24m\u001b[39m\n     [7] \u001b[0m\u001b[1mrun_work_thunk\u001b[22m\n    \u001b[90m   @\u001b[39m \u001b[90m~/local/juliaup/juliaup/julia-1.10.1+0.x64.linux.gnu/share/julia/stdlib/v1.10/Distributed/src/\u001b[39m\u001b[90m\u001b[4mprocess_messages.jl:70\u001b[24m\u001b[39m\n     [8] \u001b[0m\u001b[1mrun_work_thunk\u001b[22m\n    \u001b[90m   @\u001b[39m \u001b[90m~/local/juliaup/juliaup/julia-1.10.1+0.x64.linux.gnu/share/julia/stdlib/v1.10/Distributed/src/\u001b[39m\u001b[90m\u001b[4mprocess_messages.jl:79\u001b[24m\u001b[39m\n     [9] \u001b[0m\u001b[1m#100\u001b[22m\n    \u001b[90m   @\u001b[39m \u001b[90m~/local/juliaup/juliaup/julia-1.10.1+0.x64.linux.gnu/share/julia/stdlib/v1.10/Distributed/src/\u001b[39m\u001b[90m\u001b[4mprocess_messages.jl:88\u001b[24m\u001b[39m\n    Stacktrace:\n     [1] \u001b[0m\u001b[1mremotecall_fetch\u001b[22m\u001b[0m\u001b[1m(\u001b[22m\u001b[90mf\u001b[39m::\u001b[0mFunction, \u001b[90mw\u001b[39m::\u001b[0mDistributed.Worker, \u001b[90margs\u001b[39m::\u001b[0mDistributed.RRID; \u001b[90mkwargs\u001b[39m::\u001b[0m@Kwargs\u001b[90m{}\u001b[39m\u001b[0m\u001b[1m)\u001b[22m\n    \u001b[90m   @\u001b[39m \u001b[32mDistributed\u001b[39m \u001b[90m~/local/juliaup/juliaup/julia-1.10.1+0.x64.linux.gnu/share/julia/stdlib/v1.10/Distributed/src/\u001b[39m\u001b[90m\u001b[4mremotecall.jl:465\u001b[24m\u001b[39m\n     [2] \u001b[0m\u001b[1mremotecall_fetch\u001b[22m\u001b[0m\u001b[1m(\u001b[22m\u001b[90mf\u001b[39m::\u001b[0mFunction, \u001b[90mw\u001b[39m::\u001b[0mDistributed.Worker, \u001b[90margs\u001b[39m::\u001b[0mDistributed.RRID\u001b[0m\u001b[1m)\u001b[22m\n    \u001b[90m   @\u001b[39m \u001b[32mDistributed\u001b[39m \u001b[90m~/local/juliaup/juliaup/julia-1.10.1+0.x64.linux.gnu/share/julia/stdlib/v1.10/Distributed/src/\u001b[39m\u001b[90m\u001b[4mremotecall.jl:454\u001b[24m\u001b[39m\n     [3] \u001b[0m\u001b[1mremotecall_fetch\u001b[22m\n    \u001b[90m   @\u001b[39m \u001b[90m~/local/juliaup/juliaup/julia-1.10.1+0.x64.linux.gnu/share/julia/stdlib/v1.10/Distributed/src/\u001b[39m\u001b[90m\u001b[4mremotecall.jl:492\u001b[24m\u001b[39m\u001b[90m [inlined]\u001b[39m\n     [4] \u001b[0m\u001b[1mcall_on_owner\u001b[22m\n    \u001b[90m   @\u001b[39m \u001b[90m~/local/juliaup/juliaup/julia-1.10.1+0.x64.linux.gnu/share/julia/stdlib/v1.10/Distributed/src/\u001b[39m\u001b[90m\u001b[4mremotecall.jl:565\u001b[24m\u001b[39m\u001b[90m [inlined]\u001b[39m\n     [5] \u001b[0m\u001b[1mfetch\u001b[22m\u001b[0m\u001b[1m(\u001b[22m\u001b[90mr\u001b[39m::\u001b[0mFuture\u001b[0m\u001b[1m)\u001b[22m\n    \u001b[90m   @\u001b[39m \u001b[32mDistributed\u001b[39m \u001b[90m~/local/juliaup/juliaup/julia-1.10.1+0.x64.linux.gnu/share/julia/stdlib/v1.10/Distributed/src/\u001b[39m\u001b[90m\u001b[4mremotecall.jl:619\u001b[24m\u001b[39m\n     [6] \u001b[0m\u001b[1m(::var\"#5#6\")\u001b[22m\u001b[0m\u001b[1m(\u001b[22m\u001b[0m\u001b[1m)\u001b[22m\n    \u001b[90m   @\u001b[39m \u001b[33mMain\u001b[39m \u001b[90m./\u001b[39m\u001b[90m\u001b[4mIn[17]:1\u001b[24m\u001b[39m",
      "",
      "Stacktrace:",
      " [1] wait",
      "   @ ./task.jl:352 [inlined]",
      " [2] fetch(t::Task)",
      "   @ Base ./task.jl:372",
      " [3] top-level scope",
      "   @ In[21]:1"
     ]
    }
   ],
   "source": [
    "typeof(fetch(t))"
   ]
  },
  {
   "cell_type": "code",
   "execution_count": 16,
   "id": "2ecc1847-9dcc-47be-a3fe-4c1809200b63",
   "metadata": {},
   "outputs": [
    {
     "data": {
      "text/plain": [
       "Entry[]"
      ]
     },
     "execution_count": 16,
     "metadata": {},
     "output_type": "execute_result"
    }
   ],
   "source": [
    "collect!(output)"
   ]
  },
  {
   "cell_type": "code",
   "execution_count": null,
   "id": "e8f5f555-d139-496b-9cc1-a11b6f0996dd",
   "metadata": {},
   "outputs": [],
   "source": []
  }
 ],
 "metadata": {
  "kernelspec": {
   "display_name": "Juliaup 1.10.2",
   "language": "julia",
   "name": "juliaup-1.10"
  },
  "language_info": {
   "file_extension": ".jl",
   "mimetype": "application/julia",
   "name": "julia",
   "version": "1.10.2"
  }
 },
 "nbformat": 4,
 "nbformat_minor": 5
}
