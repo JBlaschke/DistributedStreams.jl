{
 "cells": [
  {
   "cell_type": "code",
   "execution_count": 1,
   "id": "1f573589-dc84-46e7-942c-e3102965ef0e",
   "metadata": {
    "tags": []
   },
   "outputs": [
    {
     "name": "stderr",
     "output_type": "stream",
     "text": [
      "\u001b[32m\u001b[1m  Activating\u001b[22m\u001b[39m project at `~/Developer/DistributedStreams`\n"
     ]
    }
   ],
   "source": [
    "import Pkg\n",
    "Pkg.activate(\".\")"
   ]
  },
  {
   "cell_type": "code",
   "execution_count": 2,
   "id": "b9acaed0-93e7-4103-b1b8-f4b5db0cd1c4",
   "metadata": {
    "tags": []
   },
   "outputs": [],
   "source": [
    "using Distributed, DistributedStreams"
   ]
  },
  {
   "cell_type": "code",
   "execution_count": 3,
   "id": "9a13d220-a9c6-40b0-9baf-683061827c82",
   "metadata": {},
   "outputs": [
    {
     "data": {
      "text/plain": [
       "104-element Vector{UInt8}:\n",
       " 0x78\n",
       " 0x9c\n",
       " 0x33\n",
       " 0xf7\n",
       " 0xf2\n",
       " 0x91\n",
       " 0x60\n",
       " 0x61\n",
       " 0x60\n",
       " 0x60\n",
       " 0x30\n",
       " 0x11\n",
       " 0x60\n",
       "    ⋮\n",
       " 0x37\n",
       " 0xd1\n",
       " 0x61\n",
       " 0x66\n",
       " 0x78\n",
       " 0xf0\n",
       " 0x10\n",
       " 0x00\n",
       " 0xea\n",
       " 0xd6\n",
       " 0x19\n",
       " 0xd9"
      ]
     },
     "execution_count": 3,
     "metadata": {},
     "output_type": "execute_result"
    }
   ],
   "source": [
    "ser_buf = DistributedStreams.Serialize.serialize((a=\"this is fun!\", b=true, c=1, d=1.2, e=1//2))"
   ]
  },
  {
   "cell_type": "code",
   "execution_count": 4,
   "id": "4471f57c-b6bc-42a9-92e6-e2d61d8b2a03",
   "metadata": {},
   "outputs": [
    {
     "data": {
      "text/plain": [
       "99-element Vector{UInt8}:\n",
       " 0x78\n",
       " 0x9c\n",
       " 0x63\n",
       " 0x60\n",
       " 0x80\n",
       " 0x00\n",
       " 0xb5\n",
       " 0x2a\n",
       " 0x08\n",
       " 0xcd\n",
       " 0x0a\n",
       " 0xe5\n",
       " 0x33\n",
       "    ⋮\n",
       " 0x01\n",
       " 0x15\n",
       " 0x02\n",
       " 0x2e\n",
       " 0x61\n",
       " 0x82\n",
       " 0xd2\n",
       " 0x00\n",
       " 0xe0\n",
       " 0xa9\n",
       " 0x1d\n",
       " 0xd5"
      ]
     },
     "execution_count": 4,
     "metadata": {},
     "output_type": "execute_result"
    }
   ],
   "source": [
    "bit_buf = DistributedStreams.Bits.serialize((a=\"this is fun!\", b=true, c=1, d=1.2, e=1//2))"
   ]
  },
  {
   "cell_type": "code",
   "execution_count": 5,
   "id": "c12b6dc8-6803-431f-a0c8-fe150b9caaa2",
   "metadata": {},
   "outputs": [
    {
     "data": {
      "text/plain": [
       "(a = \"this is fun!\", b = true, c = 1, d = 1.2, e = 1//2)"
      ]
     },
     "execution_count": 5,
     "metadata": {},
     "output_type": "execute_result"
    }
   ],
   "source": [
    "DistributedStreams.Serialize.deserialize(ser_buf)"
   ]
  },
  {
   "cell_type": "code",
   "execution_count": 6,
   "id": "644b4584-9271-4718-a50d-a5966542324e",
   "metadata": {},
   "outputs": [
    {
     "data": {
      "text/plain": [
       "(a = \"this is fun!\", b = true, d = 1.2, e = 1//2, c = 1)"
      ]
     },
     "execution_count": 6,
     "metadata": {},
     "output_type": "execute_result"
    }
   ],
   "source": [
    "DistributedStreams.Bits.deserialize(bit_buf)"
   ]
  },
  {
   "cell_type": "code",
   "execution_count": 7,
   "id": "f423617b-f04c-4987-8584-8cea00da3212",
   "metadata": {},
   "outputs": [
    {
     "data": {
      "text/plain": [
       "\"x\\x9c3\\xf7\\xf2\\x91`a``0\\x11`\\xe4\\xf2K\\xccMM\\t)-\\xc8I\\x95\\xf7\\x9b\\xed\\xc2\\x04\\x14\\x15aMK\\xcf\\xc8\\xcc\\x12\\b\\x06\\t\\xb0\\x02\\x05\\x18\\x14]\\x198\\x18\\xf8\\x04\\x189\\x82\\x12K2\\xf3\\xf3\\x12s\\xe4\\xfd\\xe6\\xb90\\x82d8,\\x15yJ22\\x8b\\x15\\x80(\\xad4O\\xd1\\xf7\\x01\\x9f1\\x18|\\xb67\\xd1afx\\xf0\\x10\\0\\xea\\xd6\\x19\\xd9\""
      ]
     },
     "execution_count": 7,
     "metadata": {},
     "output_type": "execute_result"
    }
   ],
   "source": [
    "String(ser_buf)"
   ]
  },
  {
   "cell_type": "code",
   "execution_count": 8,
   "id": "9fabe299-1bd0-4a3a-9ad9-ffd339bb4f77",
   "metadata": {},
   "outputs": [
    {
     "data": {
      "text/plain": [
       "\"x\\x9cc`\\x80\\0\\xb5*\\b\\xcd\\n\\xe53B\\xf9\\x8cP\\xbe:\\x03*\\x9f\\xf1\\xfa~\\xc1o\\xf5\\f\\f\\x89<h\\n`|ƫ\\x10\\x05%\\x19\\x99\\xc5\\n@\\x94V\\x9a\\xa7HȰ\\$Ft\\tt\\x9a\\x90\\t\\xc9\\x1cP\\x01.B&\\x110(\\x05f\\x10\\x1f\\x0e\\x8d\\xc6`\\xf0ٞ\\x90A\\xa9\\x02P\\x01\\x15\\x02.a\\x82\\xd2\\0\\xe0\\xa9\\x1d\\xd5\""
      ]
     },
     "execution_count": 8,
     "metadata": {},
     "output_type": "execute_result"
    }
   ],
   "source": [
    "String(bit_buf)"
   ]
  },
  {
   "cell_type": "code",
   "execution_count": 9,
   "id": "ec917fca-1fa5-4868-9eb1-bafd577b9fdc",
   "metadata": {
    "tags": []
   },
   "outputs": [
    {
     "data": {
      "text/plain": [
       "1-element Vector{Int64}:\n",
       " 2"
      ]
     },
     "execution_count": 9,
     "metadata": {},
     "output_type": "execute_result"
    }
   ],
   "source": [
    "addprocs(1)"
   ]
  },
  {
   "cell_type": "code",
   "execution_count": 10,
   "id": "a4318b73-2fa7-4f38-916c-591aa737ada1",
   "metadata": {},
   "outputs": [],
   "source": [
    "@everywhere using DistributedStreams"
   ]
  },
  {
   "cell_type": "code",
   "execution_count": 11,
   "id": "1eb10550-b8a4-42e4-a19e-976c2df11fa1",
   "metadata": {},
   "outputs": [
    {
     "data": {
      "text/plain": [
       "fn (generic function with 1 method)"
      ]
     },
     "execution_count": 11,
     "metadata": {},
     "output_type": "execute_result"
    }
   ],
   "source": [
    "fn(x) = x+1"
   ]
  },
  {
   "cell_type": "code",
   "execution_count": 12,
   "id": "c33e0fae-9dc1-426d-8396-54d1c7eeec3a",
   "metadata": {},
   "outputs": [
    {
     "data": {
      "text/plain": [
       "1-element Vector{Int64}:\n",
       " 2"
      ]
     },
     "execution_count": 12,
     "metadata": {},
     "output_type": "execute_result"
    }
   ],
   "source": [
    "workers()"
   ]
  },
  {
   "cell_type": "code",
   "execution_count": 13,
   "id": "ddeaccb6-49ff-473b-9299-a000129b3726",
   "metadata": {},
   "outputs": [
    {
     "data": {
      "text/plain": [
       "Future(2, 1, 5, ReentrantLock(nothing, 0x00000000, 0x00, Base.GenericCondition{Base.Threads.SpinLock}(Base.IntrusiveLinkedList{Task}(nothing, nothing), Base.Threads.SpinLock(0)), (0, 0, 0)), nothing)"
      ]
     },
     "execution_count": 13,
     "metadata": {},
     "output_type": "execute_result"
    }
   ],
   "source": [
    "x = remotecall(fn, 2, 1)"
   ]
  },
  {
   "cell_type": "code",
   "execution_count": 14,
   "id": "96972085-c6e4-48ce-905f-bebbad66a0bf",
   "metadata": {},
   "outputs": [
    {
     "data": {
      "text/plain": [
       "RemoteException(2, CapturedException(UndefVarError(Symbol(\"#fn\")), Any[(deserialize_datatype at Serialization.jl:1399, 1), (handle_deserialize at Serialization.jl:867, 1), (deserialize at Serialization.jl:814, 1), (handle_deserialize at Serialization.jl:874, 1), (deserialize at Serialization.jl:814 [inlined], 1), (deserialize_msg at messages.jl:87, 1), (#invokelatest#2 at essentials.jl:887 [inlined], 1), (invokelatest at essentials.jl:884 [inlined], 1), (message_handler_loop at process_messages.jl:176, 1), (process_tcp_streams at process_messages.jl:133, 1), (#103 at process_messages.jl:121, 1)]))"
      ]
     },
     "execution_count": 14,
     "metadata": {},
     "output_type": "execute_result"
    }
   ],
   "source": [
    "q = try\n",
    "    fetch(x)\n",
    "catch e\n",
    "    e\n",
    "end"
   ]
  },
  {
   "cell_type": "code",
   "execution_count": 15,
   "id": "2aad29fe-b589-4435-bcfb-e1d6ede1264d",
   "metadata": {},
   "outputs": [
    {
     "data": {
      "text/plain": [
       "RemoteException(2, CapturedException(UndefVarError(Symbol(\"#fn\")), Any[(deserialize_datatype at Serialization.jl:1399, 1), (handle_deserialize at Serialization.jl:867, 1), (deserialize at Serialization.jl:814, 1), (handle_deserialize at Serialization.jl:874, 1), (deserialize at Serialization.jl:814 [inlined], 1), (deserialize_msg at messages.jl:87, 1), (#invokelatest#2 at essentials.jl:887 [inlined], 1), (invokelatest at essentials.jl:884 [inlined], 1), (message_handler_loop at process_messages.jl:176, 1), (process_tcp_streams at process_messages.jl:133, 1), (#103 at process_messages.jl:121, 1)]))"
      ]
     },
     "execution_count": 15,
     "metadata": {},
     "output_type": "execute_result"
    }
   ],
   "source": [
    "q"
   ]
  },
  {
   "cell_type": "code",
   "execution_count": 16,
   "id": "413aa587-a346-4030-bffd-2f3d5f875186",
   "metadata": {},
   "outputs": [
    {
     "data": {
      "text/plain": [
       "RemoteException"
      ]
     },
     "execution_count": 16,
     "metadata": {},
     "output_type": "execute_result"
    }
   ],
   "source": [
    "typeof(q)"
   ]
  },
  {
   "cell_type": "code",
   "execution_count": 17,
   "id": "b4f0216b-939f-4b56-9ce1-1e809644b6f0",
   "metadata": {},
   "outputs": [],
   "source": [
    "@everywhere fn(x) = x+1"
   ]
  },
  {
   "cell_type": "code",
   "execution_count": 18,
   "id": "4d1a016d-0135-486c-bcc5-67ea326f4311",
   "metadata": {},
   "outputs": [
    {
     "data": {
      "text/plain": [
       "Future(2, 1, 9, ReentrantLock(nothing, 0x00000000, 0x00, Base.GenericCondition{Base.Threads.SpinLock}(Base.IntrusiveLinkedList{Task}(nothing, nothing), Base.Threads.SpinLock(0)), (8, 140695632392064, 140695777984704)), nothing)"
      ]
     },
     "execution_count": 18,
     "metadata": {},
     "output_type": "execute_result"
    }
   ],
   "source": [
    "x = remotecall(fn, 2, 1)"
   ]
  },
  {
   "cell_type": "code",
   "execution_count": 19,
   "id": "2b38007f-3cea-4df0-a356-cd19d0a21de4",
   "metadata": {},
   "outputs": [
    {
     "data": {
      "text/plain": [
       "2"
      ]
     },
     "execution_count": 19,
     "metadata": {},
     "output_type": "execute_result"
    }
   ],
   "source": [
    "fetch(x)"
   ]
  },
  {
   "cell_type": "code",
   "execution_count": 20,
   "id": "a7cc2e9f-1e3b-4144-a625-563b7064e828",
   "metadata": {},
   "outputs": [
    {
     "data": {
      "text/plain": [
       "y (generic function with 1 method)"
      ]
     },
     "execution_count": 20,
     "metadata": {},
     "output_type": "execute_result"
    }
   ],
   "source": [
    "y(x) = x+2"
   ]
  },
  {
   "cell_type": "code",
   "execution_count": 21,
   "id": "6ab8c81d-6aea-41cc-9f68-ea5c8476d6da",
   "metadata": {},
   "outputs": [],
   "source": [
    "sendfunc(y, 2)"
   ]
  },
  {
   "cell_type": "code",
   "execution_count": 22,
   "id": "8ad8841d-ee6b-44c5-98c1-427f0bc41902",
   "metadata": {},
   "outputs": [
    {
     "data": {
      "text/plain": [
       "Future(2, 1, 13, ReentrantLock(nothing, 0x00000000, 0x00, Base.GenericCondition{Base.Threads.SpinLock}(Base.IntrusiveLinkedList{Task}(nothing, nothing), Base.Threads.SpinLock(0)), (0, 140695786497328, 140695773869696)), nothing)"
      ]
     },
     "execution_count": 22,
     "metadata": {},
     "output_type": "execute_result"
    }
   ],
   "source": [
    "x = remotecall(y, 2, 2)"
   ]
  },
  {
   "cell_type": "code",
   "execution_count": 23,
   "id": "d967b321-0560-4261-8c35-88175f66810d",
   "metadata": {},
   "outputs": [
    {
     "data": {
      "text/plain": [
       "4"
      ]
     },
     "execution_count": 23,
     "metadata": {},
     "output_type": "execute_result"
    }
   ],
   "source": [
    "fetch(x)"
   ]
  },
  {
   "cell_type": "code",
   "execution_count": 24,
   "id": "cfbb4248-a49a-4d04-9e91-7970e63cb634",
   "metadata": {},
   "outputs": [
    {
     "data": {
      "text/plain": [
       "Main"
      ]
     },
     "execution_count": 24,
     "metadata": {},
     "output_type": "execute_result"
    }
   ],
   "source": [
    "parentmodule(fn)"
   ]
  },
  {
   "cell_type": "code",
   "execution_count": 25,
   "id": "1dd8daa7-ea52-4ff1-976a-0eb62be05314",
   "metadata": {},
   "outputs": [
    {
     "data": {
      "text/plain": [
       "z (generic function with 1 method)"
      ]
     },
     "execution_count": 25,
     "metadata": {},
     "output_type": "execute_result"
    }
   ],
   "source": [
    "function z(x)\n",
    "    sleep(x)\n",
    "    return x\n",
    "end"
   ]
  },
  {
   "cell_type": "code",
   "execution_count": 26,
   "id": "3e7796e2-49d4-4791-9db7-acbaab0ce9c0",
   "metadata": {},
   "outputs": [],
   "source": [
    "sendfunc(z, 2)"
   ]
  },
  {
   "cell_type": "code",
   "execution_count": 27,
   "id": "0a5f7105-6200-4b85-8288-ab557f8f34a6",
   "metadata": {},
   "outputs": [
    {
     "data": {
      "text/plain": [
       "Future(2, 1, 17, ReentrantLock(nothing, 0x00000000, 0x00, Base.GenericCondition{Base.Threads.SpinLock}(Base.IntrusiveLinkedList{Task}(nothing, nothing), Base.Threads.SpinLock(0)), (0, 140695559795968, 0)), nothing)"
      ]
     },
     "execution_count": 27,
     "metadata": {},
     "output_type": "execute_result"
    }
   ],
   "source": [
    "x = remotecall(z, 2, 20)"
   ]
  },
  {
   "cell_type": "code",
   "execution_count": 28,
   "id": "154d4443-aa63-4805-ac78-e675ccca9efa",
   "metadata": {},
   "outputs": [
    {
     "data": {
      "text/plain": [
       "Task (runnable) @0x00007ff60bdd52d0"
      ]
     },
     "execution_count": 28,
     "metadata": {},
     "output_type": "execute_result"
    }
   ],
   "source": [
    "t = @async fetch(x)"
   ]
  },
  {
   "cell_type": "code",
   "execution_count": 29,
   "id": "c91e35e8-a849-411e-8d73-64d1085796c0",
   "metadata": {},
   "outputs": [
    {
     "name": "stdout",
     "output_type": "stream",
     "text": [
      "Task not done\n",
      "Task not done\n",
      "Task not done\n",
      "Task not done\n",
      "Task not done\n",
      "Task not done\n",
      "Task not done\n",
      "Task not done\n",
      "Task not done\n",
      "Task not done\n",
      "Task not done\n",
      "Task not done\n",
      "Task not done\n",
      "Task not done\n",
      "Task not done\n",
      "Task not done\n",
      "Task not done\n",
      "Task not done\n",
      "Task done\n"
     ]
    },
    {
     "data": {
      "text/plain": [
       "20"
      ]
     },
     "execution_count": 29,
     "metadata": {},
     "output_type": "execute_result"
    }
   ],
   "source": [
    "while ! istaskdone(t)\n",
    "    println(\"Task not done\")\n",
    "    sleep(1)\n",
    "end\n",
    "println(\"Task done\")\n",
    "fetch(t)"
   ]
  },
  {
   "cell_type": "code",
   "execution_count": null,
   "id": "3d97c4e4-84d3-4a2e-b182-ba17af1e0f41",
   "metadata": {},
   "outputs": [],
   "source": []
  }
 ],
 "metadata": {
  "kernelspec": {
   "display_name": "Juliaup 1.10.0",
   "language": "julia",
   "name": "juliaup-1.10"
  },
  "language_info": {
   "file_extension": ".jl",
   "mimetype": "application/julia",
   "name": "julia",
   "version": "1.10.0"
  }
 },
 "nbformat": 4,
 "nbformat_minor": 5
}
