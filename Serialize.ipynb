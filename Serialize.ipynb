{
 "cells": [
  {
   "cell_type": "code",
   "execution_count": null,
   "id": "1f573589-dc84-46e7-942c-e3102965ef0e",
   "metadata": {
    "tags": []
   },
   "outputs": [],
   "source": [
    "import Pkg\n",
    "Pkg.activate(\".\")"
   ]
  },
  {
   "cell_type": "code",
   "execution_count": 1,
   "id": "b9acaed0-93e7-4103-b1b8-f4b5db0cd1c4",
   "metadata": {
    "tags": []
   },
   "outputs": [],
   "source": [
    "using Distributed"
   ]
  },
  {
   "cell_type": "code",
   "execution_count": 2,
   "id": "ec917fca-1fa5-4868-9eb1-bafd577b9fdc",
   "metadata": {
    "tags": []
   },
   "outputs": [
    {
     "data": {
      "text/plain": [
       "1-element Vector{Int64}:\n",
       " 2"
      ]
     },
     "execution_count": 2,
     "metadata": {},
     "output_type": "execute_result"
    }
   ],
   "source": [
    "addprocs(1)"
   ]
  },
  {
   "cell_type": "code",
   "execution_count": 3,
   "id": "a4318b73-2fa7-4f38-916c-591aa737ada1",
   "metadata": {},
   "outputs": [],
   "source": [
    "@everywhere using Serialization"
   ]
  },
  {
   "cell_type": "code",
   "execution_count": 4,
   "id": "1eb10550-b8a4-42e4-a19e-976c2df11fa1",
   "metadata": {},
   "outputs": [
    {
     "data": {
      "text/plain": [
       "fn (generic function with 1 method)"
      ]
     },
     "execution_count": 4,
     "metadata": {},
     "output_type": "execute_result"
    }
   ],
   "source": [
    "fn(x) = x+1"
   ]
  },
  {
   "cell_type": "code",
   "execution_count": 5,
   "id": "c33e0fae-9dc1-426d-8396-54d1c7eeec3a",
   "metadata": {},
   "outputs": [
    {
     "data": {
      "text/plain": [
       "1-element Vector{Int64}:\n",
       " 2"
      ]
     },
     "execution_count": 5,
     "metadata": {},
     "output_type": "execute_result"
    }
   ],
   "source": [
    "workers()"
   ]
  },
  {
   "cell_type": "code",
   "execution_count": 6,
   "id": "ddeaccb6-49ff-473b-9299-a000129b3726",
   "metadata": {},
   "outputs": [
    {
     "data": {
      "text/plain": [
       "Future(2, 1, 5, ReentrantLock(nothing, 0x00000000, 0x00, Base.GenericCondition{Base.Threads.SpinLock}(Base.IntrusiveLinkedList{Task}(nothing, nothing), Base.Threads.SpinLock(0)), (0, 139838623066112, 2)), nothing)"
      ]
     },
     "execution_count": 6,
     "metadata": {},
     "output_type": "execute_result"
    }
   ],
   "source": [
    "x = remotecall(fn, 2, 1)"
   ]
  },
  {
   "cell_type": "code",
   "execution_count": 7,
   "id": "96972085-c6e4-48ce-905f-bebbad66a0bf",
   "metadata": {},
   "outputs": [
    {
     "ename": "LoadError",
     "evalue": "On worker 2:\nUndefVarError: `#fn` not defined\nStacktrace:\n  [1] \u001b[0m\u001b[1mdeserialize_datatype\u001b[22m\n\u001b[90m    @\u001b[39m \u001b[90m~/local/juliaup/juliaup/julia-1.10.0+0.x64.linux.gnu/share/julia/stdlib/v1.10/Serialization/src/\u001b[39m\u001b[90m\u001b[4mSerialization.jl:1399\u001b[24m\u001b[39m\n  [2] \u001b[0m\u001b[1mhandle_deserialize\u001b[22m\n\u001b[90m    @\u001b[39m \u001b[90m~/local/juliaup/juliaup/julia-1.10.0+0.x64.linux.gnu/share/julia/stdlib/v1.10/Serialization/src/\u001b[39m\u001b[90m\u001b[4mSerialization.jl:867\u001b[24m\u001b[39m\n  [3] \u001b[0m\u001b[1mdeserialize\u001b[22m\n\u001b[90m    @\u001b[39m \u001b[90m~/local/juliaup/juliaup/julia-1.10.0+0.x64.linux.gnu/share/julia/stdlib/v1.10/Serialization/src/\u001b[39m\u001b[90m\u001b[4mSerialization.jl:814\u001b[24m\u001b[39m\n  [4] \u001b[0m\u001b[1mhandle_deserialize\u001b[22m\n\u001b[90m    @\u001b[39m \u001b[90m~/local/juliaup/juliaup/julia-1.10.0+0.x64.linux.gnu/share/julia/stdlib/v1.10/Serialization/src/\u001b[39m\u001b[90m\u001b[4mSerialization.jl:874\u001b[24m\u001b[39m\n  [5] \u001b[0m\u001b[1mdeserialize\u001b[22m\n\u001b[90m    @\u001b[39m \u001b[90m~/local/juliaup/juliaup/julia-1.10.0+0.x64.linux.gnu/share/julia/stdlib/v1.10/Serialization/src/\u001b[39m\u001b[90m\u001b[4mSerialization.jl:814\u001b[24m\u001b[39m\u001b[90m [inlined]\u001b[39m\n  [6] \u001b[0m\u001b[1mdeserialize_msg\u001b[22m\n\u001b[90m    @\u001b[39m \u001b[90m~/local/juliaup/juliaup/julia-1.10.0+0.x64.linux.gnu/share/julia/stdlib/v1.10/Distributed/src/\u001b[39m\u001b[90m\u001b[4mmessages.jl:87\u001b[24m\u001b[39m\n  [7] \u001b[0m\u001b[1m#invokelatest#2\u001b[22m\n\u001b[90m    @\u001b[39m \u001b[90m./\u001b[39m\u001b[90m\u001b[4messentials.jl:887\u001b[24m\u001b[39m\u001b[90m [inlined]\u001b[39m\n  [8] \u001b[0m\u001b[1minvokelatest\u001b[22m\n\u001b[90m    @\u001b[39m \u001b[90m./\u001b[39m\u001b[90m\u001b[4messentials.jl:884\u001b[24m\u001b[39m\u001b[90m [inlined]\u001b[39m\n  [9] \u001b[0m\u001b[1mmessage_handler_loop\u001b[22m\n\u001b[90m    @\u001b[39m \u001b[90m~/local/juliaup/juliaup/julia-1.10.0+0.x64.linux.gnu/share/julia/stdlib/v1.10/Distributed/src/\u001b[39m\u001b[90m\u001b[4mprocess_messages.jl:176\u001b[24m\u001b[39m\n [10] \u001b[0m\u001b[1mprocess_tcp_streams\u001b[22m\n\u001b[90m    @\u001b[39m \u001b[90m~/local/juliaup/juliaup/julia-1.10.0+0.x64.linux.gnu/share/julia/stdlib/v1.10/Distributed/src/\u001b[39m\u001b[90m\u001b[4mprocess_messages.jl:133\u001b[24m\u001b[39m\n [11] \u001b[0m\u001b[1m#103\u001b[22m\n\u001b[90m    @\u001b[39m \u001b[90m~/local/juliaup/juliaup/julia-1.10.0+0.x64.linux.gnu/share/julia/stdlib/v1.10/Distributed/src/\u001b[39m\u001b[90m\u001b[4mprocess_messages.jl:121\u001b[24m\u001b[39m",
     "output_type": "error",
     "traceback": [
      "On worker 2:\nUndefVarError: `#fn` not defined\nStacktrace:\n  [1] \u001b[0m\u001b[1mdeserialize_datatype\u001b[22m\n\u001b[90m    @\u001b[39m \u001b[90m~/local/juliaup/juliaup/julia-1.10.0+0.x64.linux.gnu/share/julia/stdlib/v1.10/Serialization/src/\u001b[39m\u001b[90m\u001b[4mSerialization.jl:1399\u001b[24m\u001b[39m\n  [2] \u001b[0m\u001b[1mhandle_deserialize\u001b[22m\n\u001b[90m    @\u001b[39m \u001b[90m~/local/juliaup/juliaup/julia-1.10.0+0.x64.linux.gnu/share/julia/stdlib/v1.10/Serialization/src/\u001b[39m\u001b[90m\u001b[4mSerialization.jl:867\u001b[24m\u001b[39m\n  [3] \u001b[0m\u001b[1mdeserialize\u001b[22m\n\u001b[90m    @\u001b[39m \u001b[90m~/local/juliaup/juliaup/julia-1.10.0+0.x64.linux.gnu/share/julia/stdlib/v1.10/Serialization/src/\u001b[39m\u001b[90m\u001b[4mSerialization.jl:814\u001b[24m\u001b[39m\n  [4] \u001b[0m\u001b[1mhandle_deserialize\u001b[22m\n\u001b[90m    @\u001b[39m \u001b[90m~/local/juliaup/juliaup/julia-1.10.0+0.x64.linux.gnu/share/julia/stdlib/v1.10/Serialization/src/\u001b[39m\u001b[90m\u001b[4mSerialization.jl:874\u001b[24m\u001b[39m\n  [5] \u001b[0m\u001b[1mdeserialize\u001b[22m\n\u001b[90m    @\u001b[39m \u001b[90m~/local/juliaup/juliaup/julia-1.10.0+0.x64.linux.gnu/share/julia/stdlib/v1.10/Serialization/src/\u001b[39m\u001b[90m\u001b[4mSerialization.jl:814\u001b[24m\u001b[39m\u001b[90m [inlined]\u001b[39m\n  [6] \u001b[0m\u001b[1mdeserialize_msg\u001b[22m\n\u001b[90m    @\u001b[39m \u001b[90m~/local/juliaup/juliaup/julia-1.10.0+0.x64.linux.gnu/share/julia/stdlib/v1.10/Distributed/src/\u001b[39m\u001b[90m\u001b[4mmessages.jl:87\u001b[24m\u001b[39m\n  [7] \u001b[0m\u001b[1m#invokelatest#2\u001b[22m\n\u001b[90m    @\u001b[39m \u001b[90m./\u001b[39m\u001b[90m\u001b[4messentials.jl:887\u001b[24m\u001b[39m\u001b[90m [inlined]\u001b[39m\n  [8] \u001b[0m\u001b[1minvokelatest\u001b[22m\n\u001b[90m    @\u001b[39m \u001b[90m./\u001b[39m\u001b[90m\u001b[4messentials.jl:884\u001b[24m\u001b[39m\u001b[90m [inlined]\u001b[39m\n  [9] \u001b[0m\u001b[1mmessage_handler_loop\u001b[22m\n\u001b[90m    @\u001b[39m \u001b[90m~/local/juliaup/juliaup/julia-1.10.0+0.x64.linux.gnu/share/julia/stdlib/v1.10/Distributed/src/\u001b[39m\u001b[90m\u001b[4mprocess_messages.jl:176\u001b[24m\u001b[39m\n [10] \u001b[0m\u001b[1mprocess_tcp_streams\u001b[22m\n\u001b[90m    @\u001b[39m \u001b[90m~/local/juliaup/juliaup/julia-1.10.0+0.x64.linux.gnu/share/julia/stdlib/v1.10/Distributed/src/\u001b[39m\u001b[90m\u001b[4mprocess_messages.jl:133\u001b[24m\u001b[39m\n [11] \u001b[0m\u001b[1m#103\u001b[22m\n\u001b[90m    @\u001b[39m \u001b[90m~/local/juliaup/juliaup/julia-1.10.0+0.x64.linux.gnu/share/julia/stdlib/v1.10/Distributed/src/\u001b[39m\u001b[90m\u001b[4mprocess_messages.jl:121\u001b[24m\u001b[39m",
      "",
      "Stacktrace:",
      " [1] remotecall_fetch(f::Function, w::Distributed.Worker, args::Distributed.RRID; kwargs::@Kwargs{})",
      "   @ Distributed ~/local/juliaup/juliaup/julia-1.10.0+0.x64.linux.gnu/share/julia/stdlib/v1.10/Distributed/src/remotecall.jl:465",
      " [2] remotecall_fetch(f::Function, w::Distributed.Worker, args::Distributed.RRID)",
      "   @ Distributed ~/local/juliaup/juliaup/julia-1.10.0+0.x64.linux.gnu/share/julia/stdlib/v1.10/Distributed/src/remotecall.jl:454",
      " [3] remotecall_fetch(f::Function, w::Distributed.Worker, args::Distributed.RRID)",
      "   @ Distributed ~/local/juliaup/juliaup/julia-1.10.0+0.x64.linux.gnu/share/julia/stdlib/v1.10/Distributed/src/remotecall.jl:492 [inlined]",
      " [4] call_on_owner",
      "   @ ~/local/juliaup/juliaup/julia-1.10.0+0.x64.linux.gnu/share/julia/stdlib/v1.10/Distributed/src/remotecall.jl:565 [inlined]",
      " [5] fetch(r::Future)",
      "   @ Distributed ~/local/juliaup/juliaup/julia-1.10.0+0.x64.linux.gnu/share/julia/stdlib/v1.10/Distributed/src/remotecall.jl:619",
      " [6] top-level scope",
      "   @ In[7]:1"
     ]
    }
   ],
   "source": [
    "fetch(x)"
   ]
  },
  {
   "cell_type": "code",
   "execution_count": 8,
   "id": "b4f0216b-939f-4b56-9ce1-1e809644b6f0",
   "metadata": {},
   "outputs": [],
   "source": [
    "@everywhere fn(x) = x+1"
   ]
  },
  {
   "cell_type": "code",
   "execution_count": 9,
   "id": "4d1a016d-0135-486c-bcc5-67ea326f4311",
   "metadata": {},
   "outputs": [
    {
     "data": {
      "text/plain": [
       "Future(2, 1, 9, ReentrantLock(nothing, 0x00000000, 0x00, Base.GenericCondition{Base.Threads.SpinLock}(Base.IntrusiveLinkedList{Task}(nothing, nothing), Base.Threads.SpinLock(0)), (8, 139838686509568, 139838686509648)), nothing)"
      ]
     },
     "execution_count": 9,
     "metadata": {},
     "output_type": "execute_result"
    }
   ],
   "source": [
    "x = remotecall(fn, 2, 1)"
   ]
  },
  {
   "cell_type": "code",
   "execution_count": 10,
   "id": "2b38007f-3cea-4df0-a356-cd19d0a21de4",
   "metadata": {},
   "outputs": [
    {
     "data": {
      "text/plain": [
       "2"
      ]
     },
     "execution_count": 10,
     "metadata": {},
     "output_type": "execute_result"
    }
   ],
   "source": [
    "fetch(x)"
   ]
  },
  {
   "cell_type": "code",
   "execution_count": 11,
   "id": "a7cc2e9f-1e3b-4144-a625-563b7064e828",
   "metadata": {},
   "outputs": [
    {
     "data": {
      "text/plain": [
       "y (generic function with 1 method)"
      ]
     },
     "execution_count": 11,
     "metadata": {},
     "output_type": "execute_result"
    }
   ],
   "source": [
    "y(x) = x+2"
   ]
  },
  {
   "cell_type": "code",
   "execution_count": 12,
   "id": "19e06a64-097a-4f3d-b105-dd7702ad7ca0",
   "metadata": {
    "tags": []
   },
   "outputs": [
    {
     "data": {
      "text/plain": [
       "sendfunc (generic function with 2 methods)"
      ]
     },
     "execution_count": 12,
     "metadata": {},
     "output_type": "execute_result"
    }
   ],
   "source": [
    "function sendfunc(f::Function, dest::Int64, mod::Union{Module, Nothing}=nothing)\n",
    "    if isnothing(mod)\n",
    "        mod = parentmodule(f)\n",
    "    end\n",
    "    # get fully-qualified name of function\n",
    "    fname = Symbol(f)\n",
    "    mname = Symbol(mod)\n",
    "    # sender serializes function\n",
    "    buf = IOBuffer()\n",
    "    Serialization.serialize(buf, methods(eval(:($mname.$fname))))\n",
    "    # receiver deserializes function\n",
    "    Distributed.remotecall_eval(\n",
    "        mod, [dest], quote\n",
    "            function $fname end \n",
    "            Serialization.deserialize(seekstart($buf))\n",
    "        end\n",
    "    )\n",
    "end"
   ]
  },
  {
   "cell_type": "code",
   "execution_count": 13,
   "id": "6ab8c81d-6aea-41cc-9f68-ea5c8476d6da",
   "metadata": {},
   "outputs": [],
   "source": [
    "sendfunc(y, 2)"
   ]
  },
  {
   "cell_type": "code",
   "execution_count": 14,
   "id": "8ad8841d-ee6b-44c5-98c1-427f0bc41902",
   "metadata": {},
   "outputs": [
    {
     "data": {
      "text/plain": [
       "Future(2, 1, 13, ReentrantLock(nothing, 0x00000000, 0x00, Base.GenericCondition{Base.Threads.SpinLock}(Base.IntrusiveLinkedList{Task}(nothing, nothing), Base.Threads.SpinLock(0)), (8, 139838887007888, 139838864451776)), nothing)"
      ]
     },
     "execution_count": 14,
     "metadata": {},
     "output_type": "execute_result"
    }
   ],
   "source": [
    "x = remotecall(y, 2, 2)"
   ]
  },
  {
   "cell_type": "code",
   "execution_count": 15,
   "id": "d967b321-0560-4261-8c35-88175f66810d",
   "metadata": {},
   "outputs": [
    {
     "data": {
      "text/plain": [
       "4"
      ]
     },
     "execution_count": 15,
     "metadata": {},
     "output_type": "execute_result"
    }
   ],
   "source": [
    "fetch(x)"
   ]
  },
  {
   "cell_type": "code",
   "execution_count": 16,
   "id": "cfbb4248-a49a-4d04-9e91-7970e63cb634",
   "metadata": {},
   "outputs": [
    {
     "data": {
      "text/plain": [
       "Main"
      ]
     },
     "execution_count": 16,
     "metadata": {},
     "output_type": "execute_result"
    }
   ],
   "source": [
    "parentmodule(fn)"
   ]
  },
  {
   "cell_type": "code",
   "execution_count": 17,
   "id": "1dd8daa7-ea52-4ff1-976a-0eb62be05314",
   "metadata": {},
   "outputs": [
    {
     "data": {
      "text/plain": [
       "z (generic function with 1 method)"
      ]
     },
     "execution_count": 17,
     "metadata": {},
     "output_type": "execute_result"
    }
   ],
   "source": [
    "function z(x)\n",
    "    sleep(x)\n",
    "    return x\n",
    "end"
   ]
  },
  {
   "cell_type": "code",
   "execution_count": 18,
   "id": "3e7796e2-49d4-4791-9db7-acbaab0ce9c0",
   "metadata": {},
   "outputs": [],
   "source": [
    "sendfunc(z, 2)"
   ]
  },
  {
   "cell_type": "code",
   "execution_count": 28,
   "id": "0a5f7105-6200-4b85-8288-ab557f8f34a6",
   "metadata": {},
   "outputs": [
    {
     "data": {
      "text/plain": [
       "Future(2, 1, 23, ReentrantLock(nothing, 0x00000000, 0x00, Base.GenericCondition{Base.Threads.SpinLock}(Base.IntrusiveLinkedList{Task}(nothing, nothing), Base.Threads.SpinLock(0)), (0, 139838914076416, 139838913886120)), nothing)"
      ]
     },
     "execution_count": 28,
     "metadata": {},
     "output_type": "execute_result"
    }
   ],
   "source": [
    "x = remotecall(z, 2, 20)"
   ]
  },
  {
   "cell_type": "code",
   "execution_count": 39,
   "id": "154d4443-aa63-4805-ac78-e675ccca9efa",
   "metadata": {},
   "outputs": [
    {
     "data": {
      "text/plain": [
       "Task (done) @0x00007f2ec8356d60"
      ]
     },
     "execution_count": 39,
     "metadata": {},
     "output_type": "execute_result"
    }
   ],
   "source": [
    "t = @async fetch(x)"
   ]
  },
  {
   "cell_type": "code",
   "execution_count": 40,
   "id": "c91e35e8-a849-411e-8d73-64d1085796c0",
   "metadata": {},
   "outputs": [
    {
     "data": {
      "text/plain": [
       "true"
      ]
     },
     "execution_count": 40,
     "metadata": {},
     "output_type": "execute_result"
    }
   ],
   "source": [
    "istaskdone(t)"
   ]
  },
  {
   "cell_type": "code",
   "execution_count": 41,
   "id": "0336bd0f-5bf3-494c-8ee7-bae0367f650c",
   "metadata": {},
   "outputs": [
    {
     "data": {
      "text/plain": [
       "20"
      ]
     },
     "execution_count": 41,
     "metadata": {},
     "output_type": "execute_result"
    }
   ],
   "source": [
    "fetch(t)"
   ]
  },
  {
   "cell_type": "code",
   "execution_count": null,
   "id": "c12b6dc8-6803-431f-a0c8-fe150b9caaa2",
   "metadata": {},
   "outputs": [],
   "source": []
  }
 ],
 "metadata": {
  "kernelspec": {
   "display_name": "Juliaup 1.10.0",
   "language": "julia",
   "name": "juliaup-1.10"
  },
  "language_info": {
   "file_extension": ".jl",
   "mimetype": "application/julia",
   "name": "julia",
   "version": "1.10.0"
  }
 },
 "nbformat": 4,
 "nbformat_minor": 5
}
